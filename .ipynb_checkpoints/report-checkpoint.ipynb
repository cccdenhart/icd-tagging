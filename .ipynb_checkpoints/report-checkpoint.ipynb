{
 "cells": [
  {
   "cell_type": "code",
   "execution_count": 114,
   "metadata": {
    "slideshow": {
     "slide_type": "skip"
    }
   },
   "outputs": [],
   "source": [
    "from constants import get_conn\n",
    "from pyathena.util import as_pandas\n",
    "from datetime import datetime\n",
    "import seaborn as sns\n",
    "import matplotlib.pyplot as plt\n",
    "from tqdm import tqdm, tqdm_notebook\n",
    "import numpy as np\n",
    "import pandas as pd\n",
    "import functools as ft\n",
    "from utilities.utils import process_note, all_redund\n",
    "from typing import List, Set\n",
    "import pandas as pd\n",
    "from sodapy import Socrata\n",
    "import gensim\n",
    "from sklearn.linear_model import LogisticRegression\n",
    "from sklearn.model_selection import train_test_split\n",
    "from sklearn.preprocessing import LabelEncoder\n",
    "from sklearn.metrics import accuracy_score, precision_score, recall_score\n",
    "tqdm.pandas()\n",
    "CONN = get_conn()\n",
    "cursor = CONN.cursor()"
   ]
  },
  {
   "cell_type": "markdown",
   "metadata": {
    "slideshow": {
     "slide_type": "skip"
    }
   },
   "source": [
    "## Read in Notes"
   ]
  },
  {
   "cell_type": "code",
   "execution_count": 2,
   "metadata": {
    "slideshow": {
     "slide_type": "skip"
    }
   },
   "outputs": [],
   "source": [
    "# read in a random sample of notes\n",
    "limit = 10000\n",
    "samp_query: str = f\"select * from mimiciii.noteevents order by RAND() limit {limit}\"\n",
    "samp_df = as_pandas(cursor.execute(samp_query))"
   ]
  },
  {
   "cell_type": "code",
   "execution_count": 3,
   "metadata": {
    "slideshow": {
     "slide_type": "skip"
    }
   },
   "outputs": [],
   "source": [
    "# read in notes from a particular category\n",
    "category = \"Nursing/other\"\n",
    "cat_query: str = f\"select * from mimiciii.noteevents where category='{category}' limit {limit}\"\n",
    "cat_df = as_pandas(cursor.execute(cat_query))"
   ]
  },
  {
   "cell_type": "code",
   "execution_count": 4,
   "metadata": {
    "slideshow": {
     "slide_type": "skip"
    }
   },
   "outputs": [
    {
     "data": {
      "text/html": [
       "<div>\n",
       "<style scoped>\n",
       "    .dataframe tbody tr th:only-of-type {\n",
       "        vertical-align: middle;\n",
       "    }\n",
       "\n",
       "    .dataframe tbody tr th {\n",
       "        vertical-align: top;\n",
       "    }\n",
       "\n",
       "    .dataframe thead th {\n",
       "        text-align: right;\n",
       "    }\n",
       "</style>\n",
       "<table border=\"1\" class=\"dataframe\">\n",
       "  <thead>\n",
       "    <tr style=\"text-align: right;\">\n",
       "      <th></th>\n",
       "      <th>row_id</th>\n",
       "      <th>subject_id</th>\n",
       "      <th>hadm_id</th>\n",
       "      <th>chartdate</th>\n",
       "      <th>charttime</th>\n",
       "      <th>storetime</th>\n",
       "      <th>category</th>\n",
       "      <th>description</th>\n",
       "      <th>cgid</th>\n",
       "      <th>iserror</th>\n",
       "      <th>text</th>\n",
       "    </tr>\n",
       "  </thead>\n",
       "  <tbody>\n",
       "    <tr>\n",
       "      <th>0</th>\n",
       "      <td>1553951</td>\n",
       "      <td>22277</td>\n",
       "      <td>186839.0</td>\n",
       "      <td>2138-07-27</td>\n",
       "      <td>2138-07-27 14:26:00</td>\n",
       "      <td>2138-07-27 15:04:00</td>\n",
       "      <td>Nursing/other</td>\n",
       "      <td>Report</td>\n",
       "      <td>14695.0</td>\n",
       "      <td>None</td>\n",
       "      <td>77 yr old pt with hyponatremaia prob d/t polyd...</td>\n",
       "    </tr>\n",
       "    <tr>\n",
       "      <th>1</th>\n",
       "      <td>1799729</td>\n",
       "      <td>8555</td>\n",
       "      <td>139314.0</td>\n",
       "      <td>2200-12-07</td>\n",
       "      <td>2200-12-07 14:10:00</td>\n",
       "      <td>2200-12-07 14:11:00</td>\n",
       "      <td>Nursing/other</td>\n",
       "      <td>Report</td>\n",
       "      <td>19048.0</td>\n",
       "      <td>None</td>\n",
       "      <td>Neonatology-[** 1**] Physical Exam\\n\\n[**Known...</td>\n",
       "    </tr>\n",
       "    <tr>\n",
       "      <th>2</th>\n",
       "      <td>612251</td>\n",
       "      <td>98666</td>\n",
       "      <td>127829.0</td>\n",
       "      <td>2151-11-30</td>\n",
       "      <td>2151-11-30 05:13:00</td>\n",
       "      <td>2151-11-30 06:29:12</td>\n",
       "      <td>Nursing</td>\n",
       "      <td>Nursing Progress Note</td>\n",
       "      <td>21108.0</td>\n",
       "      <td>None</td>\n",
       "      <td>Pneumonia, aspiration\\n   Assessment:\\n   LS w...</td>\n",
       "    </tr>\n",
       "    <tr>\n",
       "      <th>3</th>\n",
       "      <td>614534</td>\n",
       "      <td>40610</td>\n",
       "      <td>158053.0</td>\n",
       "      <td>2126-12-22</td>\n",
       "      <td>2126-12-22 15:48:00</td>\n",
       "      <td>2126-12-22 18:22:34</td>\n",
       "      <td>Nursing</td>\n",
       "      <td>Nursing Progress Note</td>\n",
       "      <td>18147.0</td>\n",
       "      <td>None</td>\n",
       "      <td>Events: Not tolerating percussion therapy on t...</td>\n",
       "    </tr>\n",
       "    <tr>\n",
       "      <th>4</th>\n",
       "      <td>1961549</td>\n",
       "      <td>20681</td>\n",
       "      <td>176355.0</td>\n",
       "      <td>2136-06-12</td>\n",
       "      <td>2136-06-12 02:44:00</td>\n",
       "      <td>2136-06-12 03:06:00</td>\n",
       "      <td>Nursing/other</td>\n",
       "      <td>Report</td>\n",
       "      <td>17335.0</td>\n",
       "      <td>None</td>\n",
       "      <td>Neonatology Attending\\n36-6/7 week GA male adm...</td>\n",
       "    </tr>\n",
       "  </tbody>\n",
       "</table>\n",
       "</div>"
      ],
      "text/plain": [
       "    row_id  subject_id   hadm_id  chartdate           charttime  \\\n",
       "0  1553951       22277  186839.0 2138-07-27 2138-07-27 14:26:00   \n",
       "1  1799729        8555  139314.0 2200-12-07 2200-12-07 14:10:00   \n",
       "2   612251       98666  127829.0 2151-11-30 2151-11-30 05:13:00   \n",
       "3   614534       40610  158053.0 2126-12-22 2126-12-22 15:48:00   \n",
       "4  1961549       20681  176355.0 2136-06-12 2136-06-12 02:44:00   \n",
       "\n",
       "            storetime       category            description     cgid iserror  \\\n",
       "0 2138-07-27 15:04:00  Nursing/other                 Report  14695.0    None   \n",
       "1 2200-12-07 14:11:00  Nursing/other                 Report  19048.0    None   \n",
       "2 2151-11-30 06:29:12        Nursing  Nursing Progress Note  21108.0    None   \n",
       "3 2126-12-22 18:22:34        Nursing  Nursing Progress Note  18147.0    None   \n",
       "4 2136-06-12 03:06:00  Nursing/other                 Report  17335.0    None   \n",
       "\n",
       "                                                text  \n",
       "0  77 yr old pt with hyponatremaia prob d/t polyd...  \n",
       "1  Neonatology-[** 1**] Physical Exam\\n\\n[**Known...  \n",
       "2  Pneumonia, aspiration\\n   Assessment:\\n   LS w...  \n",
       "3  Events: Not tolerating percussion therapy on t...  \n",
       "4  Neonatology Attending\\n36-6/7 week GA male adm...  "
      ]
     },
     "execution_count": 4,
     "metadata": {},
     "output_type": "execute_result"
    }
   ],
   "source": [
    "samp_df.head()"
   ]
  },
  {
   "cell_type": "markdown",
   "metadata": {
    "slideshow": {
     "slide_type": "slide"
    }
   },
   "source": [
    "# Deriving Insights from Clinical Notes\n",
    "### Charlie Denhart"
   ]
  },
  {
   "cell_type": "markdown",
   "metadata": {
    "slideshow": {
     "slide_type": "slide"
    }
   },
   "source": [
    "## Year Distribution"
   ]
  },
  {
   "cell_type": "code",
   "execution_count": 5,
   "metadata": {
    "slideshow": {
     "slide_type": "fragment"
    }
   },
   "outputs": [
    {
     "data": {
      "image/png": "[encoded data removed]",
      "text/plain": [
       "<Figure size 432x288 with 1 Axes>"
      ]
     },
     "metadata": {
      "needs_background": "light"
     },
     "output_type": "display_data"
    }
   ],
   "source": [
    "samp_df[\"year\"] = samp_df[\"charttime\"].apply(lambda x: str(x.year))\n",
    "year_count = samp_df.groupby(\"year\").count().dropna()\n",
    "ax = sns.barplot(x=year_count.index, y=year_count.charttime)\n",
    "for ind, label in enumerate(ax.get_xticklabels()):\n",
    "    if ind % 10 == 0:  # every 10th label is kept\n",
    "        label.set_visible(True)\n",
    "    else:\n",
    "        label.set_visible(False)"
   ]
  },
  {
   "cell_type": "markdown",
   "metadata": {
    "slideshow": {
     "slide_type": "slide"
    }
   },
   "source": [
    "## Preprocessing"
   ]
  },
  {
   "cell_type": "markdown",
   "metadata": {
    "slideshow": {
     "slide_type": "subslide"
    }
   },
   "source": [
    "- Tokenize\n",
    "- Remove entities ex. [\\*\\*Male First Name (un)\\*\\*]?\n",
    "- Remove stop words\n",
    "- Replace ICD codes"
   ]
  },
  {
   "cell_type": "code",
   "execution_count": 8,
   "metadata": {
    "slideshow": {
     "slide_type": "subslide"
    }
   },
   "outputs": [
    {
     "name": "stderr",
     "output_type": "stream",
     "text": [
      "100%|██████████| 10000/10000 [00:33<00:00, 296.19it/s]\n"
     ]
    }
   ],
   "source": [
    "# perform preprocessing on notes\n",
    "samp_df[\"processed\"] = samp_df[\"text\"].progress_apply(process_note)\n",
    "cat_df[\"processed\"] = cat_df[\"text\"].progress_apply(process_note)\n",
    "\n",
    "# sort by charttime (ascending)\n",
    "samp_df = samp_df.sort_values(by=\"charttime\")\n",
    "cat_df = cat_df.sort_values(by=\"charttime\")"
   ]
  },
  {
   "cell_type": "markdown",
   "metadata": {
    "slideshow": {
     "slide_type": "slide"
    }
   },
   "source": [
    "## Derive Redundancy Scores"
   ]
  },
  {
   "cell_type": "markdown",
   "metadata": {
    "slideshow": {
     "slide_type": "subslide"
    }
   },
   "source": [
    "### 1. Determine overlapping text between given note and record\n",
    "\n",
    "\n",
    "```python\n",
    "def score_redund(record: List[List[str]], note_idx: int) -> float:\n",
    "    \"\"\"\n",
    "    Calculate pct text overlap between the given note and its prev record.\n",
    "    \n",
    "    :param record: tokenized patient record\n",
    "    :param note_idx: the index of the note to score redundancy for\n",
    "    \n",
    "    :returns score: the redundancy score\n",
    "    \"\"\"\n",
    "    note: List[str] = record[note_idx]\n",
    "    comb_prev: List[str] = ft.reduce(lambda ac, n: ac + n, record[:note_idx], [])\n",
    "    dups: int = sum([1 for w in note if w in comb_prev])\n",
    "    total: int = len(note)\n",
    "    score: float = 0 if total == 0 else dups / total\n",
    "    return score\n",
    "```"
   ]
  },
  {
   "cell_type": "markdown",
   "metadata": {
    "slideshow": {
     "slide_type": "subslide"
    }
   },
   "source": [
    "### 2. Calculate score per note per record\n",
    "\n",
    "\n",
    "```python\n",
    "def all_redund(all_records: pd.DataFrame) -> List[float]:\n",
    "    \"\"\"\n",
    "    Calculate a redundancy score for every note.\n",
    "    \n",
    "    NOTE: assumes the given df is sorted ASCENDING by 'charttime'\n",
    "    \"\"\"\n",
    "    records: Set[int] = set(all_records[\"subject_id\"])\n",
    "    scores: List[float] = []\n",
    "    for record in tqdm(records):\n",
    "        rec_df = all_records.loc[all_records[\"subject_id\"] == record, :]\n",
    "        for i in range(rec_df.shape[0]):\n",
    "            scores.append(score_redund(rec_df[\"processed\"].tolist(), i))\n",
    "    return scores\n",
    "```"
   ]
  },
  {
   "cell_type": "code",
   "execution_count": 10,
   "metadata": {
    "slideshow": {
     "slide_type": "subslide"
    }
   },
   "outputs": [
    {
     "name": "stderr",
     "output_type": "stream",
     "text": [
      "100%|██████████| 244/244 [02:57<00:00,  1.37it/s]\n"
     ]
    }
   ],
   "source": [
    "# get scores for all notes\n",
    "scores = all_redund(cat_df)\n",
    "\n",
    "# add scores to notes df\n",
    "cat_df[\"scores\"] = scores"
   ]
  },
  {
   "cell_type": "markdown",
   "metadata": {
    "slideshow": {
     "slide_type": "subslide"
    }
   },
   "source": [
    "### Future work\n",
    "- Get high level redundancy with topic model similarity\n",
    "- Identify another heuristic\n",
    "- Semi-supervised learning with Spacy"
   ]
  },
  {
   "cell_type": "markdown",
   "metadata": {
    "slideshow": {
     "slide_type": "slide"
    }
   },
   "source": [
    "## Summative Visualizations"
   ]
  },
  {
   "cell_type": "markdown",
   "metadata": {
    "slideshow": {
     "slide_type": "skip"
    }
   },
   "source": [
    "### Category Counts"
   ]
  },
  {
   "cell_type": "code",
   "execution_count": 29,
   "metadata": {
    "slideshow": {
     "slide_type": "skip"
    }
   },
   "outputs": [],
   "source": [
    "ccounts_query = \"select category, count(row_id) from mimiciii.noteevents group by category;\"\n",
    "ccounts_df = as_pandas(cursor.execute(ccounts_query))\n",
    "ccounts_df.columns = [\"category\", \"count\"]\n",
    "ccounts_df = ccounts_df.sort_values(\"count\", ascending=False)"
   ]
  },
  {
   "cell_type": "code",
   "execution_count": 36,
   "metadata": {
    "slideshow": {
     "slide_type": "subslide"
    }
   },
   "outputs": [
    {
     "data": {
      "image/png": "[encoded data removed]",
      "text/plain": [
       "<Figure size 432x288 with 1 Axes>"
      ]
     },
     "metadata": {
      "needs_background": "light"
     },
     "output_type": "display_data"
    }
   ],
   "source": [
    "ax = sns.barplot(x=\"category\", y=\"count\", data=ccounts_df)\n",
    "ax.set_title(\"Counts by Category\")\n",
    "plt.setp(ax.get_xticklabels(), ha=\"right\", rotation=45)\n",
    "plt.show()"
   ]
  },
  {
   "cell_type": "markdown",
   "metadata": {
    "slideshow": {
     "slide_type": "skip"
    }
   },
   "source": [
    "### Distribution of Redundancy in Nursing/other Category"
   ]
  },
  {
   "cell_type": "code",
   "execution_count": 123,
   "metadata": {
    "slideshow": {
     "slide_type": "subslide"
    }
   },
   "outputs": [
    {
     "data": {
      "image/png": "[encoded data removed]",
      "text/plain": [
       "<Figure size 432x288 with 1 Axes>"
      ]
     },
     "metadata": {
      "needs_background": "light"
     },
     "output_type": "display_data"
    }
   ],
   "source": [
    "ax = sns.distplot(cat_df[\"scores\"])\n",
    "ax.set_title(\"Distribution of Redundancy\")\n",
    "ax.set_xlabel(\"Percentage of text in previous records\")\n",
    "plt.show()"
   ]
  },
  {
   "cell_type": "markdown",
   "metadata": {
    "slideshow": {
     "slide_type": "skip"
    }
   },
   "source": [
    "### Distribution on Word Counts in Notes"
   ]
  },
  {
   "cell_type": "code",
   "execution_count": 122,
   "metadata": {
    "slideshow": {
     "slide_type": "subslide"
    }
   },
   "outputs": [
    {
     "data": {
      "image/png": "[encoded data removed]",
      "text/plain": [
       "<Figure size 432x288 with 1 Axes>"
      ]
     },
     "metadata": {
      "needs_background": "light"
     },
     "output_type": "display_data"
    }
   ],
   "source": [
    "ax = sns.distplot(samp_df[\"processed\"].apply(lambda x: len(x)))\n",
    "ax.set_title(\"Distribution of Number of Words in a Note\")\n",
    "ax.set_xlabel(\"Word Count\")\n",
    "plt.show()"
   ]
  },
  {
   "cell_type": "markdown",
   "metadata": {
    "slideshow": {
     "slide_type": "slide"
    }
   },
   "source": [
    "## Join with DRG Codes"
   ]
  },
  {
   "cell_type": "code",
   "execution_count": 48,
   "metadata": {
    "slideshow": {
     "slide_type": "fragment"
    }
   },
   "outputs": [],
   "source": [
    "drg_query: str = f\"select * from mimiciii.drgcodes\"\n",
    "drg_df = as_pandas(cursor.execute(drg_query))\n",
    "drg_df[\"hadm_id\"] = drg_df[\"hadm_id\"].apply(lambda x: float(x))\n",
    "sub_drg_df = drg_df.loc[:,[\"hadm_id\", \"drg_type\", \"drg_code\", \"description\"]]\n",
    "sub_drg_df.columns = [\"hadm_id\", \"drg_type\", \"drg_code\", \"drg_description\"]\n",
    "samp_drg_df = samp_df.merge(sub_drg_df, on=\"hadm_id\", how=\"left\")"
   ]
  },
  {
   "cell_type": "markdown",
   "metadata": {
    "slideshow": {
     "slide_type": "slide"
    }
   },
   "source": [
    "## Get document embeddings"
   ]
  },
  {
   "cell_type": "code",
   "execution_count": 82,
   "metadata": {
    "slideshow": {
     "slide_type": "subslide"
    }
   },
   "outputs": [],
   "source": [
    "# generate gensim tokens\n",
    "def read_corpus(docs: List[str]):\n",
    "    for i, doc in enumerate(docs):\n",
    "        tokens = gensim.utils.simple_preprocess(doc)\n",
    "        yield gensim.models.doc2vec.TaggedDocument(tokens, [i])\n",
    "        \n",
    "train_corpus = list(read_corpus(samp_drg_df[\"text\"].tolist()))"
   ]
  },
  {
   "cell_type": "code",
   "execution_count": 65,
   "metadata": {
    "collapsed": true,
    "jupyter": {
     "outputs_hidden": true
    },
    "slideshow": {
     "slide_type": "subslide"
    }
   },
   "outputs": [
    {
     "name": "stderr",
     "output_type": "stream",
     "text": [
      "WARNING:gensim.models.base_any2vec:consider setting layer size to a multiple of 4 for greater performance\n"
     ]
    }
   ],
   "source": [
    "# train doc2vec model\n",
    "doc2vec = gensim.models.doc2vec.Doc2Vec(vector_size=50, min_count=2, epochs=40)\n",
    "doc2vec.build_vocab(train_corpus)\n",
    "doc2vec.train(train_corpus, total_examples=doc2vec.corpus_count, epochs=doc2vec.epochs)"
   ]
  },
  {
   "cell_type": "code",
   "execution_count": 91,
   "metadata": {
    "slideshow": {
     "slide_type": "subslide"
    }
   },
   "outputs": [],
   "source": [
    "# generate embeddings\n",
    "samp_drg_df[\"embeddings\"] = samp_drg_df[\"processed\"].apply(doc2vec.infer_vector)"
   ]
  },
  {
   "cell_type": "markdown",
   "metadata": {
    "slideshow": {
     "slide_type": "slide"
    }
   },
   "source": [
    "## Forecast DRG Codes with Logistic Regression"
   ]
  },
  {
   "cell_type": "code",
   "execution_count": 113,
   "metadata": {
    "collapsed": true,
    "jupyter": {
     "outputs_hidden": true
    },
    "slideshow": {
     "slide_type": "subslide"
    }
   },
   "outputs": [
    {
     "name": "stderr",
     "output_type": "stream",
     "text": [
      "/usr/local/lib/python3.7/site-packages/sklearn/linear_model/_logistic.py:940: ConvergenceWarning: lbfgs failed to converge (status=1):\n",
      "STOP: TOTAL NO. of ITERATIONS REACHED LIMIT.\n",
      "\n",
      "Increase the number of iterations (max_iter) or scale the data as shown in:\n",
      "    https://scikit-learn.org/stable/modules/preprocessing.html\n",
      "Please also refer to the documentation for alternative solver options:\n",
      "    https://scikit-learn.org/stable/modules/linear_model.html#logistic-regression\n",
      "  extra_warning_msg=_LOGISTIC_SOLVER_CONVERGENCE_MSG)\n"
     ]
    }
   ],
   "source": [
    "# train logistic regression\n",
    "labels = LabelEncoder().fit_transform(samp_drg_df[\"drg_code\"].tolist())\n",
    "X_train, X_test, y_train, y_test = train_test_split(samp_drg_df[\"embeddings\"].tolist(), \\\n",
    "                                                    labels, \\\n",
    "                                                    test_size=0.2)\n",
    "clf = LogisticRegression(random_state=0).fit(X_train, y_train)"
   ]
  },
  {
   "cell_type": "code",
   "execution_count": 121,
   "metadata": {
    "slideshow": {
     "slide_type": "subslide"
    }
   },
   "outputs": [
    {
     "data": {
      "image/png": "[encoded data removed]",
      "text/plain": [
       "<Figure size 432x288 with 1 Axes>"
      ]
     },
     "metadata": {
      "needs_background": "light"
     },
     "output_type": "display_data"
    }
   ],
   "source": [
    "# measure performance\n",
    "y_preds = clf.predict(X_test)\n",
    "acc = accuracy_score(y_test, y_preds)\n",
    "rec = recall_score(y_test, y_preds, average='micro')\n",
    "prec = precision_score(y_test, y_preds, average='micro')\n",
    "x = [\"Accuracy\", \"Recall\", \"Precision\"]\n",
    "y = [acc, rec, prec]\n",
    "ax = sns.barplot(x=x, y=y)\n",
    "ax.set_title(\"Performance Results for Logistic Regression\")\n",
    "plt.show()"
   ]
  },
  {
   "cell_type": "markdown",
   "metadata": {
    "slideshow": {
     "slide_type": "slide"
    }
   },
   "source": [
    "## Luigi Pipelining\n",
    "`Collection -> Preprocessing -> Training -> Evaluation`"
   ]
  },
  {
   "cell_type": "markdown",
   "metadata": {
    "slideshow": {
     "slide_type": "slide"
    }
   },
   "source": [
    "## Future Work"
   ]
  },
  {
   "cell_type": "markdown",
   "metadata": {
    "slideshow": {
     "slide_type": "subslide"
    }
   },
   "source": [
    "- Determine between pursuing redundancy, patient outcomes, or billing\n",
    "- Build Luigi pipeline\n",
    "- Better document embedding\n",
    "- Better model selection"
   ]
  },
  {
   "cell_type": "markdown",
   "metadata": {
    "slideshow": {
     "slide_type": "skip"
    }
   },
   "source": [
    "## Expore Medicare Data"
   ]
  },
  {
   "cell_type": "code",
   "execution_count": 21,
   "metadata": {
    "slideshow": {
     "slide_type": "skip"
    }
   },
   "outputs": [
    {
     "name": "stderr",
     "output_type": "stream",
     "text": [
      "WARNING:root:Requests made without an app_token will be subject to strict throttling limits.\n"
     ]
    }
   ],
   "source": [
    "client = Socrata(\"data.cms.gov\", None)"
   ]
  },
  {
   "cell_type": "code",
   "execution_count": 22,
   "metadata": {
    "slideshow": {
     "slide_type": "skip"
    }
   },
   "outputs": [],
   "source": [
    "# First 2000 results, returned as JSON from API / converted to Python list of\n",
    "# dictionaries by sodapy.\n",
    "results = client.get(\"fs4p-t5eq\", limit=2000)\n",
    "\n",
    "# Convert to pandas DataFrame\n",
    "results_df = pd.DataFrame.from_records(results)"
   ]
  }
 ],
 "metadata": {
  "kernelspec": {
   "display_name": "Python 3",
   "language": "python",
   "name": "python3"
  },
  "language_info": {
   "codemirror_mode": {
    "name": "ipython",
    "version": 3
   },
   "file_extension": ".py",
   "mimetype": "text/x-python",
   "name": "python",
   "nbconvert_exporter": "python",
   "pygments_lexer": "ipython3",
   "version": "3.7.5"
  }
 },
 "nbformat": 4,
 "nbformat_minor": 4
}
