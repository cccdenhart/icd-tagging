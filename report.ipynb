{
 "cells": [
  {
   "cell_type": "code",
   "execution_count": 52,
   "metadata": {
    "slideshow": {
     "slide_type": "skip"
    }
   },
   "outputs": [],
   "source": [
    "from utils import get_conn\n",
    "from pyathena.util import as_pandas\n",
    "from datetime import datetime\n",
    "import seaborn as sns\n",
    "import matplotlib.pyplot as plt\n",
    "from tqdm import tqdm, tqdm_notebook\n",
    "import numpy as np\n",
    "import pandas as pd\n",
    "import functools as ft\n",
    "from typing import List, Set\n",
    "import pandas as pd\n",
    "from sodapy import Socrata\n",
    "import gensim\n",
    "from sklearn.linear_model import LogisticRegression\n",
    "from sklearn.model_selection import train_test_split\n",
    "from sklearn.preprocessing import LabelEncoder\n",
    "from sklearn.metrics import accuracy_score, precision_score, recall_score\n",
    "from visdata import summary_table, note_lengths, icd_summary\n",
    "from utils import tree_to_nx\n",
    "from icd9.icd9 import ICD9\n",
    "from colour import Color\n",
    "import networkx as nx\n",
    "import matplotlib.pyplot as plt\n",
    "from constants import PROJ_DIR\n",
    "import os"
   ]
  },
  {
   "cell_type": "markdown",
   "metadata": {
    "slideshow": {
     "slide_type": "skip"
    }
   },
   "source": [
    "## Read in Data"
   ]
  },
  {
   "cell_type": "code",
   "execution_count": 2,
   "metadata": {
    "slideshow": {
     "slide_type": "skip"
    }
   },
   "outputs": [],
   "source": [
    "with get_conn() as CONN:\n",
    "    cursor = CONN.cursor()\n",
    "    # read in a random sample of notes\n",
    "    icd_codes = as_pandas(cursor.execute(\"select icd9_code from mimiciii.diagnoses_icd\"))"
   ]
  },
  {
   "cell_type": "markdown",
   "metadata": {},
   "source": [
    "## Network Vis"
   ]
  },
  {
   "cell_type": "code",
   "execution_count": 8,
   "metadata": {},
   "outputs": [],
   "source": [
    "tree = ICD9(\"icd9/codes.json\")\n",
    "G = tree_to_nx(tree.children[0].children[0])"
   ]
  },
  {
   "cell_type": "code",
   "execution_count": 40,
   "metadata": {},
   "outputs": [],
   "source": [
    "blue = Color(\"blue\")\n",
    "red = Color(\"red\")\n",
    "degrees = dict(G.degree)\n",
    "grad = list(blue.range_to(red, (max(degrees.values())) + 1))\n",
    "icd_colors = {icd: grad[d] for icd, d in degrees.items()}"
   ]
  },
  {
   "cell_type": "code",
   "execution_count": 41,
   "metadata": {},
   "outputs": [],
   "source": [
    "icd_df = pd.DataFrame(data={\"icd\": list(icd_colors.keys()), \"colors\": list(icd_colors.values())})\n",
    "icd_df = icd_df.set_index(\"icd\")\n",
    "icd_df = icd_df.reindex(G.nodes())"
   ]
  },
  {
   "cell_type": "code",
   "execution_count": 47,
   "metadata": {},
   "outputs": [
    {
     "data": {
      "image/png": "[encoded data removed]",
      "text/plain": [
       "<Figure size 432x288 with 1 Axes>"
      ]
     },
     "metadata": {},
     "output_type": "display_data"
    }
   ],
   "source": [
    "nx.draw(G, with_labels=False, node_color=list(degrees.values()), cmap=plt.cm.Blues)"
   ]
  },
  {
   "cell_type": "markdown",
   "metadata": {
    "slideshow": {
     "slide_type": "slide"
    }
   },
   "source": [
    "## Summative Visualizations"
   ]
  },
  {
   "cell_type": "markdown",
   "metadata": {},
   "source": [
    "### Summary Table"
   ]
  },
  {
   "cell_type": "code",
   "execution_count": 17,
   "metadata": {},
   "outputs": [],
   "source": [
    "summary_table = pd.read_csv(\"data/full_summary.csv\")"
   ]
  },
  {
   "cell_type": "code",
   "execution_count": 28,
   "metadata": {},
   "outputs": [],
   "source": [
    "summary_table.columns = [\"Category\"] + list(summary_table.columns[1:])\n",
    "summary_table = summary_table.set_index(\"Category\")"
   ]
  },
  {
   "cell_type": "code",
   "execution_count": 33,
   "metadata": {},
   "outputs": [
    {
     "name": "stdout",
     "output_type": "stream",
     "text": [
      "\\begin{tabular}{lrrrrrrrr}\n",
      "\\toprule\n",
      "{} &    Totals &      Male &  Medicare &    Female &   Private &  Medicaid &  Government &  Self Pay \\\\\n",
      "Category                 &           &           &           &           &           &           &             &           \\\\\n",
      "\\midrule\n",
      "Patients                 &  46520.00 &  26121.00 &  21002.00 &  20399.00 &  19663.00 &   4570.00 &     1614.00 &    600.00 \\\\\n",
      "Admissions               &  58976.00 &  32950.00 &  28215.00 &  26026.00 &  22582.00 &   5785.00 &     1783.00 &    611.00 \\\\\n",
      "ICD9 Codes               &  11501.00 &   5852.00 &   5023.00 &   5649.00 &   5718.00 &   3989.00 &     2657.00 &   1467.00 \\\\\n",
      "Deaths                   &   5836.00 &   3141.00 &   3903.00 &   2695.00 &   1372.00 &    381.00 &       90.00 &     95.00 \\\\\n",
      "Admissions Per Patient   &      1.27 &      1.26 &      1.34 &      1.28 &      1.15 &      1.27 &        1.10 &      1.02 \\\\\n",
      "ICD9 Codes Per Patient   &      0.25 &      0.22 &      0.24 &      0.28 &      0.29 &      0.87 &        1.65 &      2.44 \\\\\n",
      "ICD9 Codes Per Admission &      0.20 &      0.18 &      0.18 &      0.22 &      0.25 &      0.69 &        1.49 &      2.40 \\\\\n",
      "Death Per Patient        &      0.13 &      0.12 &      0.19 &      0.13 &      0.07 &      0.08 &        0.06 &      0.16 \\\\\n",
      "\\bottomrule\n",
      "\\end{tabular}\n",
      "\n"
     ]
    }
   ],
   "source": [
    "latex = summary_table.to_latex()\n",
    "print(latex)"
   ]
  },
  {
   "cell_type": "markdown",
   "metadata": {},
   "source": [
    "## ICD Code Summary"
   ]
  },
  {
   "cell_type": "code",
   "execution_count": 48,
   "metadata": {},
   "outputs": [],
   "source": [
    "icd_table = pd.read_csv(\"data/icd_summary.csv\")"
   ]
  },
  {
   "cell_type": "code",
   "execution_count": 49,
   "metadata": {},
   "outputs": [],
   "source": [
    "icd_table = icd_table.sort_values(\"Mimic-iii Counts\", ascending=False)\n",
    "icd_latex = icd_table.to_latex()"
   ]
  },
  {
   "cell_type": "code",
   "execution_count": 50,
   "metadata": {},
   "outputs": [
    {
     "data": {
      "text/html": [
       "<div>\n",
       "<style scoped>\n",
       "    .dataframe tbody tr th:only-of-type {\n",
       "        vertical-align: middle;\n",
       "    }\n",
       "\n",
       "    .dataframe tbody tr th {\n",
       "        vertical-align: top;\n",
       "    }\n",
       "\n",
       "    .dataframe thead th {\n",
       "        text-align: right;\n",
       "    }\n",
       "</style>\n",
       "<table border=\"1\" class=\"dataframe\">\n",
       "  <thead>\n",
       "    <tr style=\"text-align: right;\">\n",
       "      <th></th>\n",
       "      <th>Code</th>\n",
       "      <th>Description</th>\n",
       "      <th>Mimic-iii Counts</th>\n",
       "      <th>Nodes in ICD Tree</th>\n",
       "    </tr>\n",
       "  </thead>\n",
       "  <tbody>\n",
       "    <tr>\n",
       "      <th>2</th>\n",
       "      <td>390-459</td>\n",
       "      <td>DISEASES OF THE CIRCULATORY SYSTEM</td>\n",
       "      <td>124782</td>\n",
       "      <td>516</td>\n",
       "    </tr>\n",
       "    <tr>\n",
       "      <th>3</th>\n",
       "      <td>240-279</td>\n",
       "      <td>ENDOCRINE, NUTRITIONAL AND METABOLIC DISEASES, AND IMMUNITY DISORDERS</td>\n",
       "      <td>52095</td>\n",
       "      <td>333</td>\n",
       "    </tr>\n",
       "    <tr>\n",
       "      <th>0</th>\n",
       "      <td>460-519</td>\n",
       "      <td>DISEASES OF THE RESPIRATORY SYSTEM</td>\n",
       "      <td>40989</td>\n",
       "      <td>277</td>\n",
       "    </tr>\n",
       "    <tr>\n",
       "      <th>11</th>\n",
       "      <td>800-999</td>\n",
       "      <td>INJURY AND POISONING</td>\n",
       "      <td>35518</td>\n",
       "      <td>1881</td>\n",
       "    </tr>\n",
       "    <tr>\n",
       "      <th>5</th>\n",
       "      <td>520-579</td>\n",
       "      <td>DISEASES OF THE DIGESTIVE SYSTEM</td>\n",
       "      <td>34595</td>\n",
       "      <td>625</td>\n",
       "    </tr>\n",
       "    <tr>\n",
       "      <th>1</th>\n",
       "      <td>580-629</td>\n",
       "      <td>DISEASES OF THE GENITOURINARY SYSTEM</td>\n",
       "      <td>32860</td>\n",
       "      <td>471</td>\n",
       "    </tr>\n",
       "    <tr>\n",
       "      <th>8</th>\n",
       "      <td>780-799</td>\n",
       "      <td>SYMPTOMS, SIGNS, AND ILL-DEFINED CONDITIONS</td>\n",
       "      <td>28873</td>\n",
       "      <td>372</td>\n",
       "    </tr>\n",
       "    <tr>\n",
       "      <th>6</th>\n",
       "      <td>320-389</td>\n",
       "      <td>DISEASES OF THE NERVOUS SYSTEM AND SENSE ORGANS</td>\n",
       "      <td>20397</td>\n",
       "      <td>1633</td>\n",
       "    </tr>\n",
       "    <tr>\n",
       "      <th>15</th>\n",
       "      <td>001-139</td>\n",
       "      <td>INFECTIOUS AND PARASITIC DISEASES</td>\n",
       "      <td>19507</td>\n",
       "      <td>1057</td>\n",
       "    </tr>\n",
       "    <tr>\n",
       "      <th>13</th>\n",
       "      <td>V10-V19</td>\n",
       "      <td>PERSONS WITH POTENTIAL HEALTH HAZARDS RELATED TO PERSONAL AND FAMILY HISTORY</td>\n",
       "      <td>18358</td>\n",
       "      <td>228</td>\n",
       "    </tr>\n",
       "    <tr>\n",
       "      <th>10</th>\n",
       "      <td>290-319</td>\n",
       "      <td>MENTAL DISORDERS</td>\n",
       "      <td>17828</td>\n",
       "      <td>372</td>\n",
       "    </tr>\n",
       "    <tr>\n",
       "      <th>9</th>\n",
       "      <td>V40-V49</td>\n",
       "      <td>PERSONS WITH A CONDITION INFLUENCING THEIR HEALTH STATUS</td>\n",
       "      <td>17779</td>\n",
       "      <td>175</td>\n",
       "    </tr>\n",
       "    <tr>\n",
       "      <th>18</th>\n",
       "      <td>760-779</td>\n",
       "      <td>CERTAIN CONDITIONS ORIGINATING IN THE PERINATAL PERIOD</td>\n",
       "      <td>16510</td>\n",
       "      <td>255</td>\n",
       "    </tr>\n",
       "    <tr>\n",
       "      <th>7</th>\n",
       "      <td>140-239</td>\n",
       "      <td>NEOPLASMS</td>\n",
       "      <td>12624</td>\n",
       "      <td>773</td>\n",
       "    </tr>\n",
       "    <tr>\n",
       "      <th>14</th>\n",
       "      <td>V50-V59</td>\n",
       "      <td>PERSONS ENCOUNTERING HEALTH SERVICES FOR SPECIFIC PROCEDURES AND AFTERCARE</td>\n",
       "      <td>10810</td>\n",
       "      <td>163</td>\n",
       "    </tr>\n",
       "    <tr>\n",
       "      <th>4</th>\n",
       "      <td>710-739</td>\n",
       "      <td>DISEASES OF THE MUSCULOSKELETAL SYSTEM AND CONNECTIVE TISSUE</td>\n",
       "      <td>10100</td>\n",
       "      <td>499</td>\n",
       "    </tr>\n",
       "    <tr>\n",
       "      <th>12</th>\n",
       "      <td>680-709</td>\n",
       "      <td>DISEASES OF THE SKIN AND SUBCUTANEOUS TISSUE</td>\n",
       "      <td>8789</td>\n",
       "      <td>247</td>\n",
       "    </tr>\n",
       "    <tr>\n",
       "      <th>16</th>\n",
       "      <td>V01-V06</td>\n",
       "      <td>PERSONS WITH POTENTIAL HEALTHHAZARDS RELATED TO COMMUNICABLE DISEASES</td>\n",
       "      <td>6280</td>\n",
       "      <td>84</td>\n",
       "    </tr>\n",
       "    <tr>\n",
       "      <th>17</th>\n",
       "      <td>V20-V29</td>\n",
       "      <td>PERSONS ENCOUNTERING HEALTH SERVICES IN CIRCUMSTANCES RELATED TO REPRODUCTION AND DEVELOPMENT</td>\n",
       "      <td>6220</td>\n",
       "      <td>118</td>\n",
       "    </tr>\n",
       "    <tr>\n",
       "      <th>21</th>\n",
       "      <td>V60-V69</td>\n",
       "      <td>PERSONS ENCOUNTERING HEALTH SERVICES IN OTHER CIRCUMSTANCES</td>\n",
       "      <td>2118</td>\n",
       "      <td>140</td>\n",
       "    </tr>\n",
       "    <tr>\n",
       "      <th>19</th>\n",
       "      <td>V07-V09</td>\n",
       "      <td>PERSONS WITH NEED FOR ISOLATION, OTHER POTENTIAL HEALTH HAZARDS AND PROPHYLACTIC MEASURES</td>\n",
       "      <td>1310</td>\n",
       "      <td>35</td>\n",
       "    </tr>\n",
       "    <tr>\n",
       "      <th>20</th>\n",
       "      <td>V70-V82</td>\n",
       "      <td>PERSONS WITHOUT REPORTED DIAGNOSIS ENCOUNTERED DURING EXAMINATION AND INVESTIGATION OF INDIVIDUALS AND POPULATIONS</td>\n",
       "      <td>939</td>\n",
       "      <td>172</td>\n",
       "    </tr>\n",
       "    <tr>\n",
       "      <th>23</th>\n",
       "      <td>V85</td>\n",
       "      <td>BODY MASS INDEX</td>\n",
       "      <td>511</td>\n",
       "      <td>27</td>\n",
       "    </tr>\n",
       "    <tr>\n",
       "      <th>24</th>\n",
       "      <td>V87</td>\n",
       "      <td>OTHER SPECIFIED PERSONAL EXPOSURES AND HISTORY PRESENTING HAZARDS TO HEALTH</td>\n",
       "      <td>415</td>\n",
       "      <td>17</td>\n",
       "    </tr>\n",
       "    <tr>\n",
       "      <th>22</th>\n",
       "      <td>V88</td>\n",
       "      <td>ACQUIRED ABSENCE OF OTHER ORGANS AND TISSUE</td>\n",
       "      <td>155</td>\n",
       "      <td>6</td>\n",
       "    </tr>\n",
       "    <tr>\n",
       "      <th>26</th>\n",
       "      <td>630-679</td>\n",
       "      <td>COMPLICATIONS OF PREGNANCY, CHILDBIRTH, AND THE PUERPERIUM</td>\n",
       "      <td>22</td>\n",
       "      <td>382</td>\n",
       "    </tr>\n",
       "    <tr>\n",
       "      <th>27</th>\n",
       "      <td>V86</td>\n",
       "      <td>ESTROGEN RECEPTOR STATUS</td>\n",
       "      <td>10</td>\n",
       "      <td>4</td>\n",
       "    </tr>\n",
       "    <tr>\n",
       "      <th>25</th>\n",
       "      <td>V83-V84</td>\n",
       "      <td>GENETICS</td>\n",
       "      <td>8</td>\n",
       "      <td>18</td>\n",
       "    </tr>\n",
       "  </tbody>\n",
       "</table>\n",
       "</div>"
      ],
      "text/plain": [
       "       Code  \\\n",
       "2   390-459   \n",
       "3   240-279   \n",
       "0   460-519   \n",
       "11  800-999   \n",
       "5   520-579   \n",
       "1   580-629   \n",
       "8   780-799   \n",
       "6   320-389   \n",
       "15  001-139   \n",
       "13  V10-V19   \n",
       "10  290-319   \n",
       "9   V40-V49   \n",
       "18  760-779   \n",
       "7   140-239   \n",
       "14  V50-V59   \n",
       "4   710-739   \n",
       "12  680-709   \n",
       "16  V01-V06   \n",
       "17  V20-V29   \n",
       "21  V60-V69   \n",
       "19  V07-V09   \n",
       "20  V70-V82   \n",
       "23  V85       \n",
       "24  V87       \n",
       "22  V88       \n",
       "26  630-679   \n",
       "27  V86       \n",
       "25  V83-V84   \n",
       "\n",
       "                                                                                                            Description  \\\n",
       "2   DISEASES OF THE CIRCULATORY SYSTEM                                                                                    \n",
       "3   ENDOCRINE, NUTRITIONAL AND METABOLIC DISEASES, AND IMMUNITY DISORDERS                                                 \n",
       "0   DISEASES OF THE RESPIRATORY SYSTEM                                                                                    \n",
       "11  INJURY AND POISONING                                                                                                  \n",
       "5   DISEASES OF THE DIGESTIVE SYSTEM                                                                                      \n",
       "1   DISEASES OF THE GENITOURINARY SYSTEM                                                                                  \n",
       "8   SYMPTOMS, SIGNS, AND ILL-DEFINED CONDITIONS                                                                           \n",
       "6   DISEASES OF THE NERVOUS SYSTEM AND SENSE ORGANS                                                                       \n",
       "15  INFECTIOUS AND PARASITIC DISEASES                                                                                     \n",
       "13  PERSONS WITH POTENTIAL HEALTH HAZARDS RELATED TO PERSONAL AND FAMILY HISTORY                                          \n",
       "10  MENTAL DISORDERS                                                                                                      \n",
       "9   PERSONS WITH A CONDITION INFLUENCING THEIR HEALTH STATUS                                                              \n",
       "18  CERTAIN CONDITIONS ORIGINATING IN THE PERINATAL PERIOD                                                                \n",
       "7   NEOPLASMS                                                                                                             \n",
       "14  PERSONS ENCOUNTERING HEALTH SERVICES FOR SPECIFIC PROCEDURES AND AFTERCARE                                            \n",
       "4   DISEASES OF THE MUSCULOSKELETAL SYSTEM AND CONNECTIVE TISSUE                                                          \n",
       "12  DISEASES OF THE SKIN AND SUBCUTANEOUS TISSUE                                                                          \n",
       "16  PERSONS WITH POTENTIAL HEALTHHAZARDS RELATED TO COMMUNICABLE DISEASES                                                 \n",
       "17  PERSONS ENCOUNTERING HEALTH SERVICES IN CIRCUMSTANCES RELATED TO REPRODUCTION AND DEVELOPMENT                         \n",
       "21  PERSONS ENCOUNTERING HEALTH SERVICES IN OTHER CIRCUMSTANCES                                                           \n",
       "19  PERSONS WITH NEED FOR ISOLATION, OTHER POTENTIAL HEALTH HAZARDS AND PROPHYLACTIC MEASURES                             \n",
       "20  PERSONS WITHOUT REPORTED DIAGNOSIS ENCOUNTERED DURING EXAMINATION AND INVESTIGATION OF INDIVIDUALS AND POPULATIONS    \n",
       "23  BODY MASS INDEX                                                                                                       \n",
       "24  OTHER SPECIFIED PERSONAL EXPOSURES AND HISTORY PRESENTING HAZARDS TO HEALTH                                           \n",
       "22  ACQUIRED ABSENCE OF OTHER ORGANS AND TISSUE                                                                           \n",
       "26  COMPLICATIONS OF PREGNANCY, CHILDBIRTH, AND THE PUERPERIUM                                                            \n",
       "27  ESTROGEN RECEPTOR STATUS                                                                                              \n",
       "25  GENETICS                                                                                                              \n",
       "\n",
       "    Mimic-iii Counts  Nodes in ICD Tree  \n",
       "2   124782            516                \n",
       "3   52095             333                \n",
       "0   40989             277                \n",
       "11  35518             1881               \n",
       "5   34595             625                \n",
       "1   32860             471                \n",
       "8   28873             372                \n",
       "6   20397             1633               \n",
       "15  19507             1057               \n",
       "13  18358             228                \n",
       "10  17828             372                \n",
       "9   17779             175                \n",
       "18  16510             255                \n",
       "7   12624             773                \n",
       "14  10810             163                \n",
       "4   10100             499                \n",
       "12  8789              247                \n",
       "16  6280              84                 \n",
       "17  6220              118                \n",
       "21  2118              140                \n",
       "19  1310              35                 \n",
       "20  939               172                \n",
       "23  511               27                 \n",
       "24  415               17                 \n",
       "22  155               6                  \n",
       "26  22                382                \n",
       "27  10                4                  \n",
       "25  8                 18                 "
      ]
     },
     "execution_count": 50,
     "metadata": {},
     "output_type": "execute_result"
    }
   ],
   "source": [
    "icd_table"
   ]
  },
  {
   "cell_type": "code",
   "execution_count": 51,
   "metadata": {},
   "outputs": [
    {
     "name": "stdout",
     "output_type": "stream",
     "text": [
      "\\begin{tabular}{lllrr}\n",
      "\\toprule\n",
      "{} &     Code &                                                                                                          Description &  Mimic-iii Counts &  Nodes in ICD Tree \\\\\n",
      "\\midrule\n",
      "2  &  390-459 &  DISEASES OF THE CIRCULATORY SYSTEM  &  124782 &  516 \\\\\n",
      "3  &  240-279 &  ENDOCRINE, NUTRITIONAL AND METABOLIC DISEASES, AND IMMUNITY DISORDERS  &  52095 &  333 \\\\\n",
      "0  &  460-519 &  DISEASES OF THE RESPIRATORY SYSTEM  &  40989 &  277 \\\\\n",
      "11 &  800-999 &  INJURY AND POISONING  &  35518 &  1881 \\\\\n",
      "5  &  520-579 &  DISEASES OF THE DIGESTIVE SYSTEM  &  34595 &  625 \\\\\n",
      "1  &  580-629 &  DISEASES OF THE GENITOURINARY SYSTEM  &  32860 &  471 \\\\\n",
      "8  &  780-799 &  SYMPTOMS, SIGNS, AND ILL-DEFINED CONDITIONS  &  28873 &  372 \\\\\n",
      "6  &  320-389 &  DISEASES OF THE NERVOUS SYSTEM AND SENSE ORGANS  &  20397 &  1633 \\\\\n",
      "15 &  001-139 &  INFECTIOUS AND PARASITIC DISEASES  &  19507 &  1057 \\\\\n",
      "13 &  V10-V19 &  PERSONS WITH POTENTIAL HEALTH HAZARDS RELATED TO PERSONAL AND FAMILY HISTORY  &  18358 &  228 \\\\\n",
      "10 &  290-319 &  MENTAL DISORDERS  &  17828 &  372 \\\\\n",
      "9  &  V40-V49 &  PERSONS WITH A CONDITION INFLUENCING THEIR HEALTH STATUS  &  17779 &  175 \\\\\n",
      "18 &  760-779 &  CERTAIN CONDITIONS ORIGINATING IN THE PERINATAL PERIOD  &  16510 &  255 \\\\\n",
      "7  &  140-239 &  NEOPLASMS  &  12624 &  773 \\\\\n",
      "14 &  V50-V59 &  PERSONS ENCOUNTERING HEALTH SERVICES FOR SPECIFIC PROCEDURES AND AFTERCARE  &  10810 &  163 \\\\\n",
      "4  &  710-739 &  DISEASES OF THE MUSCULOSKELETAL SYSTEM AND CONNECTIVE TISSUE  &  10100 &  499 \\\\\n",
      "12 &  680-709 &  DISEASES OF THE SKIN AND SUBCUTANEOUS TISSUE  &  8789 &  247 \\\\\n",
      "16 &  V01-V06 &  PERSONS WITH POTENTIAL HEALTHHAZARDS RELATED TO COMMUNICABLE DISEASES  &  6280 &  84 \\\\\n",
      "17 &  V20-V29 &  PERSONS ENCOUNTERING HEALTH SERVICES IN CIRCUMSTANCES RELATED TO REPRODUCTION AND DEVELOPMENT  &  6220 &  118 \\\\\n",
      "21 &  V60-V69 &  PERSONS ENCOUNTERING HEALTH SERVICES IN OTHER CIRCUMSTANCES  &  2118 &  140 \\\\\n",
      "19 &  V07-V09 &  PERSONS WITH NEED FOR ISOLATION, OTHER POTENTIAL HEALTH HAZARDS AND PROPHYLACTIC MEASURES  &  1310 &  35 \\\\\n",
      "20 &  V70-V82 &  PERSONS WITHOUT REPORTED DIAGNOSIS ENCOUNTERED DURING EXAMINATION AND INVESTIGATION OF INDIVIDUALS AND POPULATIONS  &  939 &  172 \\\\\n",
      "23 &  V85 &  BODY MASS INDEX  &  511 &  27 \\\\\n",
      "24 &  V87 &  OTHER SPECIFIED PERSONAL EXPOSURES AND HISTORY PRESENTING HAZARDS TO HEALTH  &  415 &  17 \\\\\n",
      "22 &  V88 &  ACQUIRED ABSENCE OF OTHER ORGANS AND TISSUE  &  155 &  6 \\\\\n",
      "26 &  630-679 &  COMPLICATIONS OF PREGNANCY, CHILDBIRTH, AND THE PUERPERIUM  &  22 &  382 \\\\\n",
      "27 &  V86 &  ESTROGEN RECEPTOR STATUS  &  10 &  4 \\\\\n",
      "25 &  V83-V84 &  GENETICS  &  8 &  18 \\\\\n",
      "\\bottomrule\n",
      "\\end{tabular}\n",
      "\n"
     ]
    }
   ],
   "source": [
    "print(icd_latex)"
   ]
  },
  {
   "cell_type": "markdown",
   "metadata": {
    "slideshow": {
     "slide_type": "skip"
    }
   },
   "source": [
    "### Category Counts"
   ]
  },
  {
   "cell_type": "code",
   "execution_count": 36,
   "metadata": {
    "slideshow": {
     "slide_type": "skip"
    }
   },
   "outputs": [],
   "source": [
    "ccounts_query = \"select category, count(row_id) from mimiciii.noteevents group by category;\"\n",
    "ccounts_df = as_pandas(cursor.execute(ccounts_query))\n",
    "ccounts_df.columns = [\"category\", \"count\"]\n",
    "ccounts_df = ccounts_df.sort_values(\"count\", ascending=False)"
   ]
  },
  {
   "cell_type": "code",
   "execution_count": 39,
   "metadata": {
    "slideshow": {
     "slide_type": "subslide"
    }
   },
   "outputs": [
    {
     "data": {
      "image/png": "[encoded data removed]",
      "text/plain": [
       "<Figure size 432x288 with 1 Axes>"
      ]
     },
     "metadata": {
      "needs_background": "light"
     },
     "output_type": "display_data"
    }
   ],
   "source": [
    "cat_fp = os.path.join(PROJ_DIR, \"images\", \"categories.png\")\n",
    "ax = sns.barplot(x=\"category\", y=\"count\", data=ccounts_df)\n",
    "ax.set_title(\"Counts by Category\")\n",
    "plt.setp(ax.get_xticklabels(), ha=\"right\", rotation=45)\n",
    "plt.tight_layout()\n",
    "plt.savefig(cat_fp)\n",
    "plt.show()"
   ]
  },
  {
   "cell_type": "markdown",
   "metadata": {
    "slideshow": {
     "slide_type": "skip"
    }
   },
   "source": [
    "### Distribution on Word Counts in Notes"
   ]
  },
  {
   "cell_type": "code",
   "execution_count": 122,
   "metadata": {
    "slideshow": {
     "slide_type": "subslide"
    }
   },
   "outputs": [
    {
     "data": {
      "image/png": "[encoded data removed]",
      "text/plain": [
       "<Figure size 432x288 with 1 Axes>"
      ]
     },
     "metadata": {
      "needs_background": "light"
     },
     "output_type": "display_data"
    }
   ],
   "source": [
    "ax = sns.distplot(samp_df[\"processed\"].apply(lambda x: len(x)))\n",
    "ax.set_title(\"Distribution of Number of Words in a Note\")\n",
    "ax.set_xlabel(\"Word Count\")\n",
    "plt.show()"
   ]
  },
  {
   "cell_type": "markdown",
   "metadata": {
    "slideshow": {
     "slide_type": "slide"
    }
   },
   "source": [
    "## Join with DRG Codes"
   ]
  },
  {
   "cell_type": "code",
   "execution_count": 48,
   "metadata": {
    "slideshow": {
     "slide_type": "fragment"
    }
   },
   "outputs": [],
   "source": [
    "drg_query: str = f\"select * from mimiciii.drgcodes\"\n",
    "drg_df = as_pandas(cursor.execute(drg_query))\n",
    "drg_df[\"hadm_id\"] = drg_df[\"hadm_id\"].apply(lambda x: float(x))\n",
    "sub_drg_df = drg_df.loc[:,[\"hadm_id\", \"drg_type\", \"drg_code\", \"description\"]]\n",
    "sub_drg_df.columns = [\"hadm_id\", \"drg_type\", \"drg_code\", \"drg_description\"]\n",
    "samp_drg_df = samp_df.merge(sub_drg_df, on=\"hadm_id\", how=\"left\")"
   ]
  },
  {
   "cell_type": "markdown",
   "metadata": {
    "slideshow": {
     "slide_type": "slide"
    }
   },
   "source": [
    "## Get document embeddings"
   ]
  },
  {
   "cell_type": "code",
   "execution_count": 82,
   "metadata": {
    "slideshow": {
     "slide_type": "subslide"
    }
   },
   "outputs": [],
   "source": [
    "# generate gensim tokens\n",
    "def read_corpus(docs: List[str]):\n",
    "    for i, doc in enumerate(docs):\n",
    "        tokens = gensim.utils.simple_preprocess(doc)\n",
    "        yield gensim.models.doc2vec.TaggedDocument(tokens, [i])\n",
    "        \n",
    "train_corpus = list(read_corpus(samp_drg_df[\"text\"].tolist()))"
   ]
  },
  {
   "cell_type": "code",
   "execution_count": 65,
   "metadata": {
    "collapsed": true,
    "jupyter": {
     "outputs_hidden": true
    },
    "slideshow": {
     "slide_type": "subslide"
    }
   },
   "outputs": [
    {
     "name": "stderr",
     "output_type": "stream",
     "text": [
      "WARNING:gensim.models.base_any2vec:consider setting layer size to a multiple of 4 for greater performance\n"
     ]
    }
   ],
   "source": [
    "# train doc2vec model\n",
    "doc2vec = gensim.models.doc2vec.Doc2Vec(vector_size=50, min_count=2, epochs=40)\n",
    "doc2vec.build_vocab(train_corpus)\n",
    "doc2vec.train(train_corpus, total_examples=doc2vec.corpus_count, epochs=doc2vec.epochs)"
   ]
  },
  {
   "cell_type": "code",
   "execution_count": 91,
   "metadata": {
    "slideshow": {
     "slide_type": "subslide"
    }
   },
   "outputs": [],
   "source": [
    "# generate embeddings\n",
    "samp_drg_df[\"embeddings\"] = samp_drg_df[\"processed\"].apply(doc2vec.infer_vector)"
   ]
  },
  {
   "cell_type": "markdown",
   "metadata": {
    "slideshow": {
     "slide_type": "slide"
    }
   },
   "source": [
    "## Forecast DRG Codes with Logistic Regression"
   ]
  },
  {
   "cell_type": "code",
   "execution_count": 113,
   "metadata": {
    "collapsed": true,
    "jupyter": {
     "outputs_hidden": true
    },
    "slideshow": {
     "slide_type": "subslide"
    }
   },
   "outputs": [
    {
     "name": "stderr",
     "output_type": "stream",
     "text": [
      "/usr/local/lib/python3.7/site-packages/sklearn/linear_model/_logistic.py:940: ConvergenceWarning: lbfgs failed to converge (status=1):\n",
      "STOP: TOTAL NO. of ITERATIONS REACHED LIMIT.\n",
      "\n",
      "Increase the number of iterations (max_iter) or scale the data as shown in:\n",
      "    https://scikit-learn.org/stable/modules/preprocessing.html\n",
      "Please also refer to the documentation for alternative solver options:\n",
      "    https://scikit-learn.org/stable/modules/linear_model.html#logistic-regression\n",
      "  extra_warning_msg=_LOGISTIC_SOLVER_CONVERGENCE_MSG)\n"
     ]
    }
   ],
   "source": [
    "# train logistic regression\n",
    "labels = LabelEncoder().fit_transform(samp_drg_df[\"drg_code\"].tolist())\n",
    "X_train, X_test, y_train, y_test = train_test_split(samp_drg_df[\"embeddings\"].tolist(), \\\n",
    "                                                    labels, \\\n",
    "                                                    test_size=0.2)\n",
    "clf = LogisticRegression(random_state=0).fit(X_train, y_train)"
   ]
  },
  {
   "cell_type": "code",
   "execution_count": 121,
   "metadata": {
    "slideshow": {
     "slide_type": "subslide"
    }
   },
   "outputs": [
    {
     "data": {
      "image/png": "[encoded data removed]",
      "text/plain": [
       "<Figure size 432x288 with 1 Axes>"
      ]
     },
     "metadata": {
      "needs_background": "light"
     },
     "output_type": "display_data"
    }
   ],
   "source": [
    "# measure performance\n",
    "y_preds = clf.predict(X_test)\n",
    "acc = accuracy_score(y_test, y_preds)\n",
    "rec = recall_score(y_test, y_preds, average='micro')\n",
    "prec = precision_score(y_test, y_preds, average='micro')\n",
    "x = [\"Accuracy\", \"Recall\", \"Precision\"]\n",
    "y = [acc, rec, prec]\n",
    "ax = sns.barplot(x=x, y=y)\n",
    "ax.set_title(\"Performance Results for Logistic Regression\")\n",
    "plt.show()"
   ]
  },
  {
   "cell_type": "markdown",
   "metadata": {
    "slideshow": {
     "slide_type": "slide"
    }
   },
   "source": [
    "## Luigi Pipelining\n",
    "`Collection -> Preprocessing -> Training -> Evaluation`"
   ]
  },
  {
   "cell_type": "markdown",
   "metadata": {
    "slideshow": {
     "slide_type": "slide"
    }
   },
   "source": [
    "## Future Work"
   ]
  },
  {
   "cell_type": "markdown",
   "metadata": {
    "slideshow": {
     "slide_type": "subslide"
    }
   },
   "source": [
    "- Determine between pursuing redundancy, patient outcomes, or billing\n",
    "- Build Luigi pipeline\n",
    "- Better document embedding\n",
    "- Better model selection"
   ]
  },
  {
   "cell_type": "markdown",
   "metadata": {
    "slideshow": {
     "slide_type": "skip"
    }
   },
   "source": [
    "## Expore Medicare Data"
   ]
  },
  {
   "cell_type": "code",
   "execution_count": 21,
   "metadata": {
    "slideshow": {
     "slide_type": "skip"
    }
   },
   "outputs": [
    {
     "name": "stderr",
     "output_type": "stream",
     "text": [
      "WARNING:root:Requests made without an app_token will be subject to strict throttling limits.\n"
     ]
    }
   ],
   "source": [
    "client = Socrata(\"data.cms.gov\", None)"
   ]
  },
  {
   "cell_type": "code",
   "execution_count": 22,
   "metadata": {
    "slideshow": {
     "slide_type": "skip"
    }
   },
   "outputs": [],
   "source": [
    "# First 2000 results, returned as JSON from API / converted to Python list of\n",
    "# dictionaries by sodapy.\n",
    "results = client.get(\"fs4p-t5eq\", limit=2000)\n",
    "\n",
    "# Convert to pandas DataFrame\n",
    "results_df = pd.DataFrame.from_records(results)"
   ]
  }
 ],
 "metadata": {
  "kernelspec": {
   "display_name": "Python 3",
   "language": "python",
   "name": "python3"
  },
  "language_info": {
   "codemirror_mode": {
    "name": "ipython",
    "version": 3
   },
   "file_extension": ".py",
   "mimetype": "text/x-python",
   "name": "python",
   "nbconvert_exporter": "python",
   "pygments_lexer": "ipython3",
   "version": "3.7.5"
  }
 },
 "nbformat": 4,
 "nbformat_minor": 4
}
