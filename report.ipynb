{
 "cells": [
  {
   "cell_type": "code",
   "execution_count": 222,
   "metadata": {
    "slideshow": {
     "slide_type": "skip"
    }
   },
   "outputs": [],
   "source": [
    "from utils import get_conn\n",
    "from pyathena.util import as_pandas\n",
    "from datetime import datetime\n",
    "import seaborn as sns\n",
    "import matplotlib.pyplot as plt\n",
    "from tqdm import tqdm, tqdm_notebook\n",
    "import numpy as np\n",
    "import pandas as pd\n",
    "import functools as ft\n",
    "from typing import List, Set\n",
    "import pandas as pd\n",
    "from sodapy import Socrata\n",
    "import gensim\n",
    "from sklearn.linear_model import LogisticRegression\n",
    "from sklearn.model_selection import train_test_split\n",
    "from sklearn.preprocessing import LabelEncoder, scale\n",
    "from sklearn.metrics import accuracy_score, precision_score, recall_score\n",
    "from visdata import summary_table, note_lengths, icd_summary\n",
    "from utils import tree_to_nx\n",
    "from icd9.icd9 import ICD9, Node\n",
    "from colour import Color\n",
    "import networkx as nx\n",
    "import matplotlib.pyplot as plt\n",
    "from constants import PROJ_DIR\n",
    "import os\n",
    "from constants import TREE\n",
    "from collections import Counter\n",
    "import torch\n",
    "import torch.nn as nn\n",
    "import torch.nn.functional as F\n",
    "import edit_distance\n",
    "from typing import Dict, Tuple\n",
    "from torch.utils.data import DataLoader, Dataset"
   ]
  },
  {
   "cell_type": "markdown",
   "metadata": {
    "slideshow": {
     "slide_type": "slide"
    }
   },
   "source": [
    "# Summative Visualizations"
   ]
  },
  {
   "cell_type": "markdown",
   "metadata": {},
   "source": [
    "## Summary Table"
   ]
  },
  {
   "cell_type": "code",
   "execution_count": 17,
   "metadata": {},
   "outputs": [],
   "source": [
    "summary_table = pd.read_csv(\"data/full_summary.csv\")"
   ]
  },
  {
   "cell_type": "code",
   "execution_count": 28,
   "metadata": {},
   "outputs": [],
   "source": [
    "summary_table.columns = [\"Category\"] + list(summary_table.columns[1:])\n",
    "summary_table = summary_table.set_index(\"Category\")"
   ]
  },
  {
   "cell_type": "code",
   "execution_count": 103,
   "metadata": {},
   "outputs": [
    {
     "data": {
      "text/plain": [
       "<function visdata.summary_table(conn_func: Callable[[], pyathena.connection.Connection]) -> pandas.core.frame.DataFrame>"
      ]
     },
     "execution_count": 103,
     "metadata": {},
     "output_type": "execute_result"
    }
   ],
   "source": [
    "summary_table"
   ]
  },
  {
   "cell_type": "code",
   "execution_count": 48,
   "metadata": {},
   "outputs": [],
   "source": [
    "icd_table = pd.read_csv(\"data/icd_summary.csv\")"
   ]
  },
  {
   "cell_type": "code",
   "execution_count": 49,
   "metadata": {},
   "outputs": [],
   "source": [
    "icd_table = icd_table.sort_values(\"Mimic-iii Counts\", ascending=False)\n",
    "icd_latex = icd_table.to_latex()"
   ]
  },
  {
   "cell_type": "code",
   "execution_count": 50,
   "metadata": {
    "collapsed": true,
    "jupyter": {
     "outputs_hidden": true
    }
   },
   "outputs": [
    {
     "data": {
      "text/html": [
       "<div>\n",
       "<style scoped>\n",
       "    .dataframe tbody tr th:only-of-type {\n",
       "        vertical-align: middle;\n",
       "    }\n",
       "\n",
       "    .dataframe tbody tr th {\n",
       "        vertical-align: top;\n",
       "    }\n",
       "\n",
       "    .dataframe thead th {\n",
       "        text-align: right;\n",
       "    }\n",
       "</style>\n",
       "<table border=\"1\" class=\"dataframe\">\n",
       "  <thead>\n",
       "    <tr style=\"text-align: right;\">\n",
       "      <th></th>\n",
       "      <th>Code</th>\n",
       "      <th>Description</th>\n",
       "      <th>Mimic-iii Counts</th>\n",
       "      <th>Nodes in ICD Tree</th>\n",
       "    </tr>\n",
       "  </thead>\n",
       "  <tbody>\n",
       "    <tr>\n",
       "      <th>2</th>\n",
       "      <td>390-459</td>\n",
       "      <td>DISEASES OF THE CIRCULATORY SYSTEM</td>\n",
       "      <td>124782</td>\n",
       "      <td>516</td>\n",
       "    </tr>\n",
       "    <tr>\n",
       "      <th>3</th>\n",
       "      <td>240-279</td>\n",
       "      <td>ENDOCRINE, NUTRITIONAL AND METABOLIC DISEASES, AND IMMUNITY DISORDERS</td>\n",
       "      <td>52095</td>\n",
       "      <td>333</td>\n",
       "    </tr>\n",
       "    <tr>\n",
       "      <th>0</th>\n",
       "      <td>460-519</td>\n",
       "      <td>DISEASES OF THE RESPIRATORY SYSTEM</td>\n",
       "      <td>40989</td>\n",
       "      <td>277</td>\n",
       "    </tr>\n",
       "    <tr>\n",
       "      <th>11</th>\n",
       "      <td>800-999</td>\n",
       "      <td>INJURY AND POISONING</td>\n",
       "      <td>35518</td>\n",
       "      <td>1881</td>\n",
       "    </tr>\n",
       "    <tr>\n",
       "      <th>5</th>\n",
       "      <td>520-579</td>\n",
       "      <td>DISEASES OF THE DIGESTIVE SYSTEM</td>\n",
       "      <td>34595</td>\n",
       "      <td>625</td>\n",
       "    </tr>\n",
       "    <tr>\n",
       "      <th>1</th>\n",
       "      <td>580-629</td>\n",
       "      <td>DISEASES OF THE GENITOURINARY SYSTEM</td>\n",
       "      <td>32860</td>\n",
       "      <td>471</td>\n",
       "    </tr>\n",
       "    <tr>\n",
       "      <th>8</th>\n",
       "      <td>780-799</td>\n",
       "      <td>SYMPTOMS, SIGNS, AND ILL-DEFINED CONDITIONS</td>\n",
       "      <td>28873</td>\n",
       "      <td>372</td>\n",
       "    </tr>\n",
       "    <tr>\n",
       "      <th>6</th>\n",
       "      <td>320-389</td>\n",
       "      <td>DISEASES OF THE NERVOUS SYSTEM AND SENSE ORGANS</td>\n",
       "      <td>20397</td>\n",
       "      <td>1633</td>\n",
       "    </tr>\n",
       "    <tr>\n",
       "      <th>15</th>\n",
       "      <td>001-139</td>\n",
       "      <td>INFECTIOUS AND PARASITIC DISEASES</td>\n",
       "      <td>19507</td>\n",
       "      <td>1057</td>\n",
       "    </tr>\n",
       "    <tr>\n",
       "      <th>13</th>\n",
       "      <td>V10-V19</td>\n",
       "      <td>PERSONS WITH POTENTIAL HEALTH HAZARDS RELATED TO PERSONAL AND FAMILY HISTORY</td>\n",
       "      <td>18358</td>\n",
       "      <td>228</td>\n",
       "    </tr>\n",
       "    <tr>\n",
       "      <th>10</th>\n",
       "      <td>290-319</td>\n",
       "      <td>MENTAL DISORDERS</td>\n",
       "      <td>17828</td>\n",
       "      <td>372</td>\n",
       "    </tr>\n",
       "    <tr>\n",
       "      <th>9</th>\n",
       "      <td>V40-V49</td>\n",
       "      <td>PERSONS WITH A CONDITION INFLUENCING THEIR HEALTH STATUS</td>\n",
       "      <td>17779</td>\n",
       "      <td>175</td>\n",
       "    </tr>\n",
       "    <tr>\n",
       "      <th>18</th>\n",
       "      <td>760-779</td>\n",
       "      <td>CERTAIN CONDITIONS ORIGINATING IN THE PERINATAL PERIOD</td>\n",
       "      <td>16510</td>\n",
       "      <td>255</td>\n",
       "    </tr>\n",
       "    <tr>\n",
       "      <th>7</th>\n",
       "      <td>140-239</td>\n",
       "      <td>NEOPLASMS</td>\n",
       "      <td>12624</td>\n",
       "      <td>773</td>\n",
       "    </tr>\n",
       "    <tr>\n",
       "      <th>14</th>\n",
       "      <td>V50-V59</td>\n",
       "      <td>PERSONS ENCOUNTERING HEALTH SERVICES FOR SPECIFIC PROCEDURES AND AFTERCARE</td>\n",
       "      <td>10810</td>\n",
       "      <td>163</td>\n",
       "    </tr>\n",
       "    <tr>\n",
       "      <th>4</th>\n",
       "      <td>710-739</td>\n",
       "      <td>DISEASES OF THE MUSCULOSKELETAL SYSTEM AND CONNECTIVE TISSUE</td>\n",
       "      <td>10100</td>\n",
       "      <td>499</td>\n",
       "    </tr>\n",
       "    <tr>\n",
       "      <th>12</th>\n",
       "      <td>680-709</td>\n",
       "      <td>DISEASES OF THE SKIN AND SUBCUTANEOUS TISSUE</td>\n",
       "      <td>8789</td>\n",
       "      <td>247</td>\n",
       "    </tr>\n",
       "    <tr>\n",
       "      <th>16</th>\n",
       "      <td>V01-V06</td>\n",
       "      <td>PERSONS WITH POTENTIAL HEALTHHAZARDS RELATED TO COMMUNICABLE DISEASES</td>\n",
       "      <td>6280</td>\n",
       "      <td>84</td>\n",
       "    </tr>\n",
       "    <tr>\n",
       "      <th>17</th>\n",
       "      <td>V20-V29</td>\n",
       "      <td>PERSONS ENCOUNTERING HEALTH SERVICES IN CIRCUMSTANCES RELATED TO REPRODUCTION AND DEVELOPMENT</td>\n",
       "      <td>6220</td>\n",
       "      <td>118</td>\n",
       "    </tr>\n",
       "    <tr>\n",
       "      <th>21</th>\n",
       "      <td>V60-V69</td>\n",
       "      <td>PERSONS ENCOUNTERING HEALTH SERVICES IN OTHER CIRCUMSTANCES</td>\n",
       "      <td>2118</td>\n",
       "      <td>140</td>\n",
       "    </tr>\n",
       "    <tr>\n",
       "      <th>19</th>\n",
       "      <td>V07-V09</td>\n",
       "      <td>PERSONS WITH NEED FOR ISOLATION, OTHER POTENTIAL HEALTH HAZARDS AND PROPHYLACTIC MEASURES</td>\n",
       "      <td>1310</td>\n",
       "      <td>35</td>\n",
       "    </tr>\n",
       "    <tr>\n",
       "      <th>20</th>\n",
       "      <td>V70-V82</td>\n",
       "      <td>PERSONS WITHOUT REPORTED DIAGNOSIS ENCOUNTERED DURING EXAMINATION AND INVESTIGATION OF INDIVIDUALS AND POPULATIONS</td>\n",
       "      <td>939</td>\n",
       "      <td>172</td>\n",
       "    </tr>\n",
       "    <tr>\n",
       "      <th>23</th>\n",
       "      <td>V85</td>\n",
       "      <td>BODY MASS INDEX</td>\n",
       "      <td>511</td>\n",
       "      <td>27</td>\n",
       "    </tr>\n",
       "    <tr>\n",
       "      <th>24</th>\n",
       "      <td>V87</td>\n",
       "      <td>OTHER SPECIFIED PERSONAL EXPOSURES AND HISTORY PRESENTING HAZARDS TO HEALTH</td>\n",
       "      <td>415</td>\n",
       "      <td>17</td>\n",
       "    </tr>\n",
       "    <tr>\n",
       "      <th>22</th>\n",
       "      <td>V88</td>\n",
       "      <td>ACQUIRED ABSENCE OF OTHER ORGANS AND TISSUE</td>\n",
       "      <td>155</td>\n",
       "      <td>6</td>\n",
       "    </tr>\n",
       "    <tr>\n",
       "      <th>26</th>\n",
       "      <td>630-679</td>\n",
       "      <td>COMPLICATIONS OF PREGNANCY, CHILDBIRTH, AND THE PUERPERIUM</td>\n",
       "      <td>22</td>\n",
       "      <td>382</td>\n",
       "    </tr>\n",
       "    <tr>\n",
       "      <th>27</th>\n",
       "      <td>V86</td>\n",
       "      <td>ESTROGEN RECEPTOR STATUS</td>\n",
       "      <td>10</td>\n",
       "      <td>4</td>\n",
       "    </tr>\n",
       "    <tr>\n",
       "      <th>25</th>\n",
       "      <td>V83-V84</td>\n",
       "      <td>GENETICS</td>\n",
       "      <td>8</td>\n",
       "      <td>18</td>\n",
       "    </tr>\n",
       "  </tbody>\n",
       "</table>\n",
       "</div>"
      ],
      "text/plain": [
       "       Code  \\\n",
       "2   390-459   \n",
       "3   240-279   \n",
       "0   460-519   \n",
       "11  800-999   \n",
       "5   520-579   \n",
       "1   580-629   \n",
       "8   780-799   \n",
       "6   320-389   \n",
       "15  001-139   \n",
       "13  V10-V19   \n",
       "10  290-319   \n",
       "9   V40-V49   \n",
       "18  760-779   \n",
       "7   140-239   \n",
       "14  V50-V59   \n",
       "4   710-739   \n",
       "12  680-709   \n",
       "16  V01-V06   \n",
       "17  V20-V29   \n",
       "21  V60-V69   \n",
       "19  V07-V09   \n",
       "20  V70-V82   \n",
       "23  V85       \n",
       "24  V87       \n",
       "22  V88       \n",
       "26  630-679   \n",
       "27  V86       \n",
       "25  V83-V84   \n",
       "\n",
       "                                                                                                            Description  \\\n",
       "2   DISEASES OF THE CIRCULATORY SYSTEM                                                                                    \n",
       "3   ENDOCRINE, NUTRITIONAL AND METABOLIC DISEASES, AND IMMUNITY DISORDERS                                                 \n",
       "0   DISEASES OF THE RESPIRATORY SYSTEM                                                                                    \n",
       "11  INJURY AND POISONING                                                                                                  \n",
       "5   DISEASES OF THE DIGESTIVE SYSTEM                                                                                      \n",
       "1   DISEASES OF THE GENITOURINARY SYSTEM                                                                                  \n",
       "8   SYMPTOMS, SIGNS, AND ILL-DEFINED CONDITIONS                                                                           \n",
       "6   DISEASES OF THE NERVOUS SYSTEM AND SENSE ORGANS                                                                       \n",
       "15  INFECTIOUS AND PARASITIC DISEASES                                                                                     \n",
       "13  PERSONS WITH POTENTIAL HEALTH HAZARDS RELATED TO PERSONAL AND FAMILY HISTORY                                          \n",
       "10  MENTAL DISORDERS                                                                                                      \n",
       "9   PERSONS WITH A CONDITION INFLUENCING THEIR HEALTH STATUS                                                              \n",
       "18  CERTAIN CONDITIONS ORIGINATING IN THE PERINATAL PERIOD                                                                \n",
       "7   NEOPLASMS                                                                                                             \n",
       "14  PERSONS ENCOUNTERING HEALTH SERVICES FOR SPECIFIC PROCEDURES AND AFTERCARE                                            \n",
       "4   DISEASES OF THE MUSCULOSKELETAL SYSTEM AND CONNECTIVE TISSUE                                                          \n",
       "12  DISEASES OF THE SKIN AND SUBCUTANEOUS TISSUE                                                                          \n",
       "16  PERSONS WITH POTENTIAL HEALTHHAZARDS RELATED TO COMMUNICABLE DISEASES                                                 \n",
       "17  PERSONS ENCOUNTERING HEALTH SERVICES IN CIRCUMSTANCES RELATED TO REPRODUCTION AND DEVELOPMENT                         \n",
       "21  PERSONS ENCOUNTERING HEALTH SERVICES IN OTHER CIRCUMSTANCES                                                           \n",
       "19  PERSONS WITH NEED FOR ISOLATION, OTHER POTENTIAL HEALTH HAZARDS AND PROPHYLACTIC MEASURES                             \n",
       "20  PERSONS WITHOUT REPORTED DIAGNOSIS ENCOUNTERED DURING EXAMINATION AND INVESTIGATION OF INDIVIDUALS AND POPULATIONS    \n",
       "23  BODY MASS INDEX                                                                                                       \n",
       "24  OTHER SPECIFIED PERSONAL EXPOSURES AND HISTORY PRESENTING HAZARDS TO HEALTH                                           \n",
       "22  ACQUIRED ABSENCE OF OTHER ORGANS AND TISSUE                                                                           \n",
       "26  COMPLICATIONS OF PREGNANCY, CHILDBIRTH, AND THE PUERPERIUM                                                            \n",
       "27  ESTROGEN RECEPTOR STATUS                                                                                              \n",
       "25  GENETICS                                                                                                              \n",
       "\n",
       "    Mimic-iii Counts  Nodes in ICD Tree  \n",
       "2   124782            516                \n",
       "3   52095             333                \n",
       "0   40989             277                \n",
       "11  35518             1881               \n",
       "5   34595             625                \n",
       "1   32860             471                \n",
       "8   28873             372                \n",
       "6   20397             1633               \n",
       "15  19507             1057               \n",
       "13  18358             228                \n",
       "10  17828             372                \n",
       "9   17779             175                \n",
       "18  16510             255                \n",
       "7   12624             773                \n",
       "14  10810             163                \n",
       "4   10100             499                \n",
       "12  8789              247                \n",
       "16  6280              84                 \n",
       "17  6220              118                \n",
       "21  2118              140                \n",
       "19  1310              35                 \n",
       "20  939               172                \n",
       "23  511               27                 \n",
       "24  415               17                 \n",
       "22  155               6                  \n",
       "26  22                382                \n",
       "27  10                4                  \n",
       "25  8                 18                 "
      ]
     },
     "execution_count": 50,
     "metadata": {},
     "output_type": "execute_result"
    }
   ],
   "source": [
    "icd_table"
   ]
  },
  {
   "cell_type": "markdown",
   "metadata": {
    "slideshow": {
     "slide_type": "skip"
    }
   },
   "source": [
    "## Category Counts"
   ]
  },
  {
   "cell_type": "code",
   "execution_count": 36,
   "metadata": {
    "jupyter": {
     "source_hidden": true
    },
    "slideshow": {
     "slide_type": "skip"
    }
   },
   "outputs": [],
   "source": [
    "ccounts_query = \"select category, count(row_id) from mimiciii.noteevents group by category;\"\n",
    "ccounts_df = as_pandas(cursor.execute(ccounts_query))\n",
    "ccounts_df.columns = [\"category\", \"count\"]\n",
    "ccounts_df = ccounts_df.sort_values(\"count\", ascending=False)"
   ]
  },
  {
   "cell_type": "code",
   "execution_count": 39,
   "metadata": {
    "slideshow": {
     "slide_type": "subslide"
    }
   },
   "outputs": [
    {
     "data": {
      "image/png": "[encoded data removed]",
      "text/plain": [
       "<Figure size 432x288 with 1 Axes>"
      ]
     },
     "metadata": {
      "needs_background": "light"
     },
     "output_type": "display_data"
    }
   ],
   "source": [
    "cat_fp = os.path.join(PROJ_DIR, \"images\", \"categories.png\")\n",
    "ax = sns.barplot(x=\"category\", y=\"count\", data=ccounts_df)\n",
    "ax.set_title(\"Counts by Category\")\n",
    "plt.setp(ax.get_xticklabels(), ha=\"right\", rotation=45)\n",
    "plt.tight_layout()\n",
    "plt.savefig(cat_fp)\n",
    "plt.show()"
   ]
  },
  {
   "cell_type": "markdown",
   "metadata": {
    "slideshow": {
     "slide_type": "skip"
    }
   },
   "source": [
    "## Distribution of Word Counts in Notes"
   ]
  },
  {
   "cell_type": "code",
   "execution_count": 376,
   "metadata": {
    "slideshow": {
     "slide_type": "subslide"
    }
   },
   "outputs": [
    {
     "data": {
      "image/png": "[encoded data removed]",
      "text/plain": [
       "<Figure size 432x288 with 1 Axes>"
      ]
     },
     "metadata": {
      "needs_background": "light"
     },
     "output_type": "display_data"
    }
   ],
   "source": [
    "with get_conn() as conn:\n",
    "    cursor = conn.cursor()\n",
    "    notes = as_pandas(cursor.execute(\"select text from mimiciii.noteevents order by RAND() limit 10000;\"))[\"text\"]\n",
    "lens = notes.apply(lambda x: len(x.split()))\n",
    "no_outliers = lens[lens.between(lens.quantile(.1), lens.quantile(.9))]\n",
    "ax = sns.distplot(no_outliers)\n",
    "ax.set_title(\"Distribution of Number of Words in a Note\")\n",
    "ax.set_xlabel(\"Word Count\")\n",
    "plt.savefig(\"images/word_counts.png\")\n",
    "plt.show()"
   ]
  },
  {
   "cell_type": "markdown",
   "metadata": {},
   "source": [
    "# ICD Tagging Models"
   ]
  },
  {
   "cell_type": "markdown",
   "metadata": {},
   "source": [
    "## Read in training/testing data"
   ]
  },
  {
   "cell_type": "code",
   "execution_count": 304,
   "metadata": {},
   "outputs": [],
   "source": [
    "# one hot encode nodes\n",
    "def nodes_to_idx(X: List[List[str]], roots: List[str]) -> List[List[int]]:\n",
    "    return [[1 if r in row else 0 for r in roots] for row in X]"
   ]
  },
  {
   "cell_type": "code",
   "execution_count": 296,
   "metadata": {},
   "outputs": [],
   "source": [
    "# read in raw data\n",
    "subdir = \"half_data_ids\"\n",
    "lim = 50000\n",
    "ids = pd.read_csv(os.path.join(subdir, \"ids.csv\"), squeeze=True, nrows=lim).tolist()\n",
    "raw_roots = pd.read_csv(os.path.join(subdir, \"roots_labels.csv\"), squeeze=True, nrows=lim).tolist()\n",
    "roots = [[s.strip(\"''\") for s in x.strip(\"[]\").split(\", \") if len(s.strip(\"''\")) > 0]\n",
    "         for x in raw_roots]\n",
    "embeddings = pd.read_csv(os.path.join(subdir, \"doc2vec.csv\"), header=None, nrows=lim).values\n",
    "\n",
    "# split data into train/test and expand root list\n",
    "emb_train, X_test, root_train, y_test = train_test_split(embeddings, roots, test_size=0.3)\n",
    "X_train = np.array(ft.reduce(lambda acc, n: acc + n,\n",
    "                             map(lambda n, r: [n] * len(r), emb_train, root_train),\n",
    "                             []))\n",
    "y_train = ft.reduce(lambda acc, r: acc + r, root_train, [])"
   ]
  },
  {
   "cell_type": "code",
   "execution_count": 301,
   "metadata": {},
   "outputs": [],
   "source": [
    "def calc_metrics(pred, true, metric):\n",
    "    if metric == \"acc\":\n",
    "        if len(true) == 0:\n",
    "            return 1 if len(pred) == 0 else 0\n",
    "        else:\n",
    "            return len(set(pred) & set(true)) / len(set(pred) | set(true))\n",
    "    elif metric == \"rec\":\n",
    "        if len(pred) == 0:\n",
    "            return 1 if len(true) == 0 else 0\n",
    "        else:\n",
    "            return len(set(pred) & set(true)) / len(pred)\n",
    "    elif metric == \"prec\":\n",
    "        if len(true) == 0:\n",
    "            return 1 if len(pred) == 0 else 0\n",
    "        else:\n",
    "            return len(set(pred) & set(true)) / len(true)\n",
    "    elif metric == \"f1\":\n",
    "        if len(true) == 0:\n",
    "            return 1 if len(pred) == 0 else 0\n",
    "        else:\n",
    "            return 2 * len(set(pred) & set(true)) / (len(set(true)) + len(set(pred)))\n",
    "    else:\n",
    "        raise ValueError(\"Invalid metric type.\")"
   ]
  },
  {
   "cell_type": "markdown",
   "metadata": {
    "slideshow": {
     "slide_type": "slide"
    },
    "toc-hr-collapsed": true
   },
   "source": [
    "## Logistic Regression"
   ]
  },
  {
   "cell_type": "markdown",
   "metadata": {},
   "source": [
    "### Train"
   ]
  },
  {
   "cell_type": "code",
   "execution_count": 297,
   "metadata": {},
   "outputs": [],
   "source": [
    "# train logistic regression\n",
    "clf = LogisticRegression(random_state=0, multi_class=\"ovr\", max_iter=10000).fit(X_train, y_train)"
   ]
  },
  {
   "cell_type": "code",
   "execution_count": 298,
   "metadata": {},
   "outputs": [],
   "source": [
    "# get predictions\n",
    "probs = clf.predict_proba(X_test)"
   ]
  },
  {
   "cell_type": "markdown",
   "metadata": {},
   "source": [
    "### Evaluate"
   ]
  },
  {
   "cell_type": "code",
   "execution_count": 372,
   "metadata": {},
   "outputs": [
    {
     "data": {
      "image/png": "[encoded data removed]",
      "text/plain": [
       "<Figure size 432x288 with 1 Axes>"
      ]
     },
     "metadata": {
      "needs_background": "light"
     },
     "output_type": "display_data"
    }
   ],
   "source": [
    "# view distribution of probability predictions\n",
    "ax = sns.distplot(ft.reduce(lambda a, x: a + x, probs.tolist(), []))\n",
    "ax.set(xlabel=\"Probabilities\", ylabel=\"Frequency\", title=\"Distribution of Classification Probabilities\")\n",
    "plt.savefig(\"images/prob_dists.png\")\n",
    "plt.show()"
   ]
  },
  {
   "cell_type": "code",
   "execution_count": 373,
   "metadata": {},
   "outputs": [],
   "source": [
    "# get codes per note with probs\n",
    "un_thresholds = [0.01, 0.05, 0.1, 0.15, 0.2]\n",
    "y_preds = [[[clf.classes_[i] for i, prob in enumerate(obs) if prob > thresh]\n",
    "            for obs in probs.tolist()] for thresh in un_thresholds]"
   ]
  },
  {
   "cell_type": "code",
   "execution_count": 374,
   "metadata": {},
   "outputs": [],
   "source": [
    "metrics = ([[calc_metrics(p, t, met) for p, t in zip(y_pred, y_test)] for y_pred in y_preds]\n",
    "           for met in [\"acc\", \"rec\", \"prec\", \"f1\"])\n",
    "mean_accs, mean_recs, mean_precs, mean_f1s = ([sum(met) / len(met) for met in mets] for mets in metrics)\n",
    "threshes = un_thresholds * 4\n",
    "met_labels = [\"F1\"] * len(mean_f1s) + [\"Accuracy\"] * len(mean_accs) + [\"Recall\"] * len(mean_recs) + [\"Precision\"] * len(mean_precs)\n",
    "metrics = mean_f1s + mean_accs + mean_recs + mean_precs"
   ]
  },
  {
   "cell_type": "code",
   "execution_count": 375,
   "metadata": {},
   "outputs": [
    {
     "data": {
      "image/png": "[encoded data removed]",
      "text/plain": [
       "<Figure size 432x288 with 1 Axes>"
      ]
     },
     "metadata": {
      "needs_background": "light"
     },
     "output_type": "display_data"
    }
   ],
   "source": [
    "ax = sns.barplot(x=threshes, y=metrics, hue=met_labels)\n",
    "ax.set(xlabel=\"Decision Threshold\", ylabel=\"Value\", title=\"Logistic Regression Performance\")\n",
    "plt.savefig(\"images/logreg.png\")\n",
    "plt.show()"
   ]
  },
  {
   "cell_type": "markdown",
   "metadata": {
    "toc-hr-collapsed": true
   },
   "source": [
    "## Feed Forward Neural Network"
   ]
  },
  {
   "cell_type": "markdown",
   "metadata": {},
   "source": [
    "### Train"
   ]
  },
  {
   "cell_type": "code",
   "execution_count": 305,
   "metadata": {},
   "outputs": [],
   "source": [
    "class FFNN(nn.Module):\n",
    "    \"\"\"A vanilla feed forward neural network with 2 hidden layers and multi label output.\"\"\"\n",
    "\n",
    "    def __init__(self, n_feat, h1_size, h2_size, n_cat):\n",
    "        super(FFNN, self).__init__()\n",
    "        # define layers\n",
    "        self.h1= nn.Linear(n_feat, h1_size)\n",
    "        self.h2 = nn.Linear(h1_size, h2_size)\n",
    "        self.out = nn.Linear(h2_size, n_cat)\n",
    "        self.sig = nn.Sigmoid()\n",
    "\n",
    "    def forward(self, X):\n",
    "        l1 = F.relu(self.h1(X))\n",
    "        l2 = F.relu(self.h2(l1))\n",
    "        output = self.sig(self.out(l2))\n",
    "        return output\n",
    "    \n",
    "    def run_train(self, trainloader: DataLoader, n_epochs: int) -> None:\n",
    "        \"\"\"Train network on training set.\"\"\"\n",
    "        self.train()  # set model to train mode\n",
    "        loss_fn = nn.BCELoss(reduction='mean')\n",
    "        optimizer = torch.optim.SGD(self.parameters(), lr=0.01, momentum=0.9)\n",
    "        # loop over the dataset for each epoch\n",
    "        print(\"Training mlp .....\")\n",
    "        for i in range(n_epochs):\n",
    "            print(f\"\\tEpoch {i}:\", end=\" \")\n",
    "            for data in trainloader:\n",
    "                # extracts features/labels from loader\n",
    "                feats, labels = data\n",
    "\n",
    "                # zero the parameter gradients\n",
    "                optimizer.zero_grad()\n",
    "\n",
    "                # retrieve outputs\n",
    "                outputs = self.forward(feats)\n",
    "                \n",
    "                # determine loss and backprop\n",
    "                loss = loss_fn(outputs, labels)\n",
    "                loss.backward()  # calculate gradients\n",
    "                optimizer.step()  # update parameters\n",
    "                \n",
    "            print(f\"loss = {loss}\")\n",
    "        print(\"done.\")"
   ]
  },
  {
   "cell_type": "code",
   "execution_count": 306,
   "metadata": {},
   "outputs": [],
   "source": [
    "class ICDDataset(Dataset):\n",
    "    \"\"\"Implementation of PyTorch dataset.\"\"\"\n",
    "\n",
    "    def __init__(self, X: np.ndarray, y: np.ndarray) -> None:\n",
    "        \"\"\"Initialize class variables.\"\"\"\n",
    "        self.X = X\n",
    "        self.y = y\n",
    "\n",
    "    def __len__(self) -> int:\n",
    "        \"\"\"Return the length of this dataset.\"\"\"\n",
    "        return len(self.y)\n",
    "\n",
    "    def __getitem__(self, idx: int) -> Tuple[torch.FloatTensor, torch.FloatTensor]:\n",
    "        \"\"\"Get the features and label at the given index.\"\"\"\n",
    "        xi: torch.FloatTensor = torch.FloatTensor(self.X[idx])\n",
    "        yi: torch.FloatTensor = torch.FloatTensor(self.y[idx])\n",
    "        return xi, yi"
   ]
  },
  {
   "cell_type": "code",
   "execution_count": 307,
   "metadata": {},
   "outputs": [],
   "source": [
    "# convert arrays of codes to one hot representations\n",
    "top_level_roots = [c.code for c in TREE.children]\n",
    "one_hot_y_train = nodes_to_idx(root_train, top_level_roots)\n",
    "one_hot_y_test = nodes_to_idx(y_test, top_level_roots)"
   ]
  },
  {
   "cell_type": "code",
   "execution_count": 308,
   "metadata": {},
   "outputs": [],
   "source": [
    "# declare train and test loaders\n",
    "BATCH_SIZE = 64\n",
    "trainset = ICDDataset(emb_train, np.array(one_hot_y_train))\n",
    "testset = ICDDataset(X_test, np.array(one_hot_y_test))\n",
    "trainloader = DataLoader(trainset, batch_size=BATCH_SIZE, shuffle=True, num_workers=2)\n",
    "testloader = DataLoader(testset, shuffle=False)"
   ]
  },
  {
   "cell_type": "code",
   "execution_count": 309,
   "metadata": {},
   "outputs": [
    {
     "name": "stdout",
     "output_type": "stream",
     "text": [
      "Training mlp .....\n",
      "\tEpoch 0: loss = 0.19159482419490814\n",
      "\tEpoch 1: loss = 0.19069665670394897\n",
      "\tEpoch 2: loss = 0.18415074050426483\n",
      "\tEpoch 3: loss = 0.18717080354690552\n",
      "\tEpoch 4: loss = 0.16446180641651154\n",
      "\tEpoch 5: loss = 0.15795670449733734\n",
      "\tEpoch 6: loss = 0.1792030930519104\n",
      "\tEpoch 7: loss = 0.164264515042305\n",
      "\tEpoch 8: loss = 0.1650623381137848\n",
      "\tEpoch 9: loss = 0.16272714734077454\n",
      "\tEpoch 10: loss = 0.15774911642074585\n",
      "\tEpoch 11: loss = 0.16662897169589996\n",
      "\tEpoch 12: loss = 0.1655271351337433\n",
      "\tEpoch 13: loss = 0.1626024693250656\n",
      "\tEpoch 14: loss = 0.1625359207391739\n",
      "\tEpoch 15: loss = 0.15344464778900146\n",
      "\tEpoch 16: loss = 0.160551980137825\n",
      "\tEpoch 17: loss = 0.15519975125789642\n",
      "\tEpoch 18: loss = 0.1647915244102478\n",
      "\tEpoch 19: loss = 0.15099772810935974\n",
      "\tEpoch 20: loss = 0.1670033186674118\n",
      "\tEpoch 21: loss = 0.16121834516525269\n",
      "\tEpoch 22: loss = 0.16599811613559723\n",
      "\tEpoch 23: loss = 0.15041394531726837\n",
      "\tEpoch 24: loss = 0.16294118762016296\n",
      "\tEpoch 25: loss = 0.1595475673675537\n",
      "\tEpoch 26: loss = 0.16952566802501678\n",
      "\tEpoch 27: loss = 0.16237209737300873\n",
      "\tEpoch 28: loss = 0.17540742456912994\n",
      "\tEpoch 29: loss = 0.15341390669345856\n",
      "done.\n"
     ]
    }
   ],
   "source": [
    "# train MLP\n",
    "n_epochs = 30\n",
    "n_feats = trainset.X.shape[1]\n",
    "n_cats = len(top_level_roots)\n",
    "ffnn = FFNN(n_feats, 40, 40, n_cats)\n",
    "ffnn.run_train(trainloader, n_epochs)"
   ]
  },
  {
   "cell_type": "markdown",
   "metadata": {},
   "source": [
    "### Evaluate"
   ]
  },
  {
   "cell_type": "code",
   "execution_count": 310,
   "metadata": {},
   "outputs": [],
   "source": [
    "# evaluate ffnn\n",
    "nn_preds = ffnn(torch.FloatTensor(X_test)).detach().numpy()"
   ]
  },
  {
   "cell_type": "code",
   "execution_count": 311,
   "metadata": {},
   "outputs": [],
   "source": [
    "# get codes per note with probs\n",
    "un_thresholds = [0.1, 0.2, 0.3, 0.4, 0.5]\n",
    "y_preds = [[[top_level_roots[i] for i, prob in enumerate(obs) if prob > thresh]\n",
    "            for obs in nn_preds.tolist()] for thresh in un_thresholds]"
   ]
  },
  {
   "cell_type": "code",
   "execution_count": 312,
   "metadata": {},
   "outputs": [],
   "source": [
    "# get evaluation metrics\n",
    "metrics = ([[calc_metrics(p, t, met) for p, t in zip(y_pred, y_test)] for y_pred in y_preds]\n",
    "           for met in [\"acc\", \"rec\", \"prec\", \"f1\"])\n",
    "mean_accs, mean_recs, mean_precs, mean_f1s = ([sum(met) / len(met) for met in mets] for mets in metrics)\n",
    "threshes = un_thresholds * 4\n",
    "met_labels = [\"F1\"] * len(mean_f1s) + [\"Accuracy\"] * len(mean_accs) + [\"Recall\"] * len(mean_recs) + [\"Precision\"] * len(mean_precs)\n",
    "metrics = mean_f1s + mean_accs + mean_recs + mean_precs"
   ]
  },
  {
   "cell_type": "code",
   "execution_count": 371,
   "metadata": {},
   "outputs": [
    {
     "data": {
      "image/png": "[encoded data removed]",
      "text/plain": [
       "<Figure size 432x288 with 1 Axes>"
      ]
     },
     "metadata": {
      "needs_background": "light"
     },
     "output_type": "display_data"
    }
   ],
   "source": [
    "ax = sns.barplot(x=threshes, y=metrics, hue=met_labels)\n",
    "ax.set_title(\"Feed Forward NN Performance\")\n",
    "ax.set(xlabel=\"Decision Threshold\", ylabel=\"Value\")\n",
    "plt.savefig(\"images/ffnn.png\")\n",
    "plt.show()"
   ]
  },
  {
   "cell_type": "code",
   "execution_count": 334,
   "metadata": {},
   "outputs": [],
   "source": [
    "def class_counts(preds, trues, all_roots) -> pd.DataFrame:\n",
    "    pred_counts = dict(Counter(ft.reduce(lambda acc, x: acc + x, preds, [])))\n",
    "    true_counts = dict(Counter(ft.reduce(lambda acc, x: acc + x, trues, [])))\n",
    "    df = pd.DataFrame(data={\"root\": all_roots})\n",
    "    df[\"true\"] = df[\"root\"].apply(lambda x: true_counts[x] if x in true_counts.keys() else 0)\n",
    "    df[\"pred\"] = df[\"root\"].apply(lambda x: pred_counts[x] if x in pred_counts.keys() else 0)\n",
    "    df = df.set_index(\"root\").sort_values(\"true\", ascending=False)\n",
    "    return df"
   ]
  },
  {
   "cell_type": "code",
   "execution_count": 335,
   "metadata": {},
   "outputs": [],
   "source": [
    "counts = class_counts(y_preds[2], y_test, top_level_roots)"
   ]
  },
  {
   "cell_type": "markdown",
   "metadata": {},
   "source": [
    "# Evaluate by Subsets of Data"
   ]
  },
  {
   "cell_type": "markdown",
   "metadata": {},
   "source": [
    "## Categories"
   ]
  },
  {
   "cell_type": "code",
   "execution_count": 366,
   "metadata": {},
   "outputs": [],
   "source": [
    "# read in data\n",
    "with get_conn() as conn:\n",
    "    cursor = conn.cursor()\n",
    "    query = f\"\"\"\n",
    "    SELECT\n",
    "      row_id as row_id,\n",
    "      category\n",
    "    FROM\n",
    "      mimiciii.noteevents;\n",
    "    \"\"\"\n",
    "    cat_df = as_pandas(cursor.execute(query))"
   ]
  },
  {
   "cell_type": "code",
   "execution_count": 358,
   "metadata": {},
   "outputs": [
    {
     "data": {
      "text/plain": [
       "'(1955808, 128994, 1021040, 1581513, 1336577, 387282, 32327, 724241, 1472083, 719563)'"
      ]
     },
     "execution_count": 358,
     "metadata": {},
     "output_type": "execute_result"
    }
   ],
   "source": [
    "str(ids).replace(\"[\", \"(\").replace(\"]\", \")\")"
   ]
  },
  {
   "cell_type": "code",
   "execution_count": 351,
   "metadata": {},
   "outputs": [
    {
     "ename": "ValueError",
     "evalue": "Length of values does not match length of index",
     "output_type": "error",
     "traceback": [
      "\u001b[0;31m---------------------------------------------------------------------------\u001b[0m",
      "\u001b[0;31mValueError\u001b[0m                                Traceback (most recent call last)",
      "\u001b[0;32m<ipython-input-351-2076885f6052>\u001b[0m in \u001b[0;36m<module>\u001b[0;34m\u001b[0m\n\u001b[1;32m      1\u001b[0m \u001b[0maccs\u001b[0m \u001b[0;34m=\u001b[0m \u001b[0;34m[\u001b[0m\u001b[0mcalc_metrics\u001b[0m\u001b[0;34m(\u001b[0m\u001b[0mp\u001b[0m\u001b[0;34m,\u001b[0m \u001b[0mt\u001b[0m\u001b[0;34m,\u001b[0m \u001b[0;34m\"acc\"\u001b[0m\u001b[0;34m)\u001b[0m \u001b[0;32mfor\u001b[0m \u001b[0mp\u001b[0m\u001b[0;34m,\u001b[0m \u001b[0mt\u001b[0m \u001b[0;32min\u001b[0m \u001b[0mzip\u001b[0m\u001b[0;34m(\u001b[0m\u001b[0my_preds\u001b[0m\u001b[0;34m[\u001b[0m\u001b[0;36m2\u001b[0m\u001b[0;34m]\u001b[0m\u001b[0;34m,\u001b[0m \u001b[0my_test\u001b[0m\u001b[0;34m)\u001b[0m\u001b[0;34m]\u001b[0m\u001b[0;34m\u001b[0m\u001b[0;34m\u001b[0m\u001b[0m\n\u001b[0;32m----> 2\u001b[0;31m \u001b[0mcat_df\u001b[0m\u001b[0;34m[\u001b[0m\u001b[0;34m\"accs\"\u001b[0m\u001b[0;34m]\u001b[0m \u001b[0;34m=\u001b[0m \u001b[0maccs\u001b[0m\u001b[0;34m\u001b[0m\u001b[0;34m\u001b[0m\u001b[0m\n\u001b[0m",
      "\u001b[0;32m/usr/local/lib/python3.7/site-packages/pandas/core/frame.py\u001b[0m in \u001b[0;36m__setitem__\u001b[0;34m(self, key, value)\u001b[0m\n\u001b[1;32m   3358\u001b[0m         \u001b[0;32melse\u001b[0m\u001b[0;34m:\u001b[0m\u001b[0;34m\u001b[0m\u001b[0;34m\u001b[0m\u001b[0m\n\u001b[1;32m   3359\u001b[0m             \u001b[0;31m# set column\u001b[0m\u001b[0;34m\u001b[0m\u001b[0;34m\u001b[0m\u001b[0;34m\u001b[0m\u001b[0m\n\u001b[0;32m-> 3360\u001b[0;31m             \u001b[0mself\u001b[0m\u001b[0;34m.\u001b[0m\u001b[0m_set_item\u001b[0m\u001b[0;34m(\u001b[0m\u001b[0mkey\u001b[0m\u001b[0;34m,\u001b[0m \u001b[0mvalue\u001b[0m\u001b[0;34m)\u001b[0m\u001b[0;34m\u001b[0m\u001b[0;34m\u001b[0m\u001b[0m\n\u001b[0m\u001b[1;32m   3361\u001b[0m \u001b[0;34m\u001b[0m\u001b[0m\n\u001b[1;32m   3362\u001b[0m     \u001b[0;32mdef\u001b[0m \u001b[0m_setitem_slice\u001b[0m\u001b[0;34m(\u001b[0m\u001b[0mself\u001b[0m\u001b[0;34m,\u001b[0m \u001b[0mkey\u001b[0m\u001b[0;34m,\u001b[0m \u001b[0mvalue\u001b[0m\u001b[0;34m)\u001b[0m\u001b[0;34m:\u001b[0m\u001b[0;34m\u001b[0m\u001b[0;34m\u001b[0m\u001b[0m\n",
      "\u001b[0;32m/usr/local/lib/python3.7/site-packages/pandas/core/frame.py\u001b[0m in \u001b[0;36m_set_item\u001b[0;34m(self, key, value)\u001b[0m\n\u001b[1;32m   3433\u001b[0m \u001b[0;34m\u001b[0m\u001b[0m\n\u001b[1;32m   3434\u001b[0m         \u001b[0mself\u001b[0m\u001b[0;34m.\u001b[0m\u001b[0m_ensure_valid_index\u001b[0m\u001b[0;34m(\u001b[0m\u001b[0mvalue\u001b[0m\u001b[0;34m)\u001b[0m\u001b[0;34m\u001b[0m\u001b[0;34m\u001b[0m\u001b[0m\n\u001b[0;32m-> 3435\u001b[0;31m         \u001b[0mvalue\u001b[0m \u001b[0;34m=\u001b[0m \u001b[0mself\u001b[0m\u001b[0;34m.\u001b[0m\u001b[0m_sanitize_column\u001b[0m\u001b[0;34m(\u001b[0m\u001b[0mkey\u001b[0m\u001b[0;34m,\u001b[0m \u001b[0mvalue\u001b[0m\u001b[0;34m)\u001b[0m\u001b[0;34m\u001b[0m\u001b[0;34m\u001b[0m\u001b[0m\n\u001b[0m\u001b[1;32m   3436\u001b[0m         \u001b[0mNDFrame\u001b[0m\u001b[0;34m.\u001b[0m\u001b[0m_set_item\u001b[0m\u001b[0;34m(\u001b[0m\u001b[0mself\u001b[0m\u001b[0;34m,\u001b[0m \u001b[0mkey\u001b[0m\u001b[0;34m,\u001b[0m \u001b[0mvalue\u001b[0m\u001b[0;34m)\u001b[0m\u001b[0;34m\u001b[0m\u001b[0;34m\u001b[0m\u001b[0m\n\u001b[1;32m   3437\u001b[0m \u001b[0;34m\u001b[0m\u001b[0m\n",
      "\u001b[0;32m/usr/local/lib/python3.7/site-packages/pandas/core/frame.py\u001b[0m in \u001b[0;36m_sanitize_column\u001b[0;34m(self, key, value, broadcast)\u001b[0m\n\u001b[1;32m   3618\u001b[0m \u001b[0;34m\u001b[0m\u001b[0m\n\u001b[1;32m   3619\u001b[0m             \u001b[0;31m# turn me into an ndarray\u001b[0m\u001b[0;34m\u001b[0m\u001b[0;34m\u001b[0m\u001b[0;34m\u001b[0m\u001b[0m\n\u001b[0;32m-> 3620\u001b[0;31m             \u001b[0mvalue\u001b[0m \u001b[0;34m=\u001b[0m \u001b[0msanitize_index\u001b[0m\u001b[0;34m(\u001b[0m\u001b[0mvalue\u001b[0m\u001b[0;34m,\u001b[0m \u001b[0mself\u001b[0m\u001b[0;34m.\u001b[0m\u001b[0mindex\u001b[0m\u001b[0;34m,\u001b[0m \u001b[0mcopy\u001b[0m\u001b[0;34m=\u001b[0m\u001b[0;32mFalse\u001b[0m\u001b[0;34m)\u001b[0m\u001b[0;34m\u001b[0m\u001b[0;34m\u001b[0m\u001b[0m\n\u001b[0m\u001b[1;32m   3621\u001b[0m             \u001b[0;32mif\u001b[0m \u001b[0;32mnot\u001b[0m \u001b[0misinstance\u001b[0m\u001b[0;34m(\u001b[0m\u001b[0mvalue\u001b[0m\u001b[0;34m,\u001b[0m \u001b[0;34m(\u001b[0m\u001b[0mnp\u001b[0m\u001b[0;34m.\u001b[0m\u001b[0mndarray\u001b[0m\u001b[0;34m,\u001b[0m \u001b[0mIndex\u001b[0m\u001b[0;34m)\u001b[0m\u001b[0;34m)\u001b[0m\u001b[0;34m:\u001b[0m\u001b[0;34m\u001b[0m\u001b[0;34m\u001b[0m\u001b[0m\n\u001b[1;32m   3622\u001b[0m                 \u001b[0;32mif\u001b[0m \u001b[0misinstance\u001b[0m\u001b[0;34m(\u001b[0m\u001b[0mvalue\u001b[0m\u001b[0;34m,\u001b[0m \u001b[0mlist\u001b[0m\u001b[0;34m)\u001b[0m \u001b[0;32mand\u001b[0m \u001b[0mlen\u001b[0m\u001b[0;34m(\u001b[0m\u001b[0mvalue\u001b[0m\u001b[0;34m)\u001b[0m \u001b[0;34m>\u001b[0m \u001b[0;36m0\u001b[0m\u001b[0;34m:\u001b[0m\u001b[0;34m\u001b[0m\u001b[0;34m\u001b[0m\u001b[0m\n",
      "\u001b[0;32m/usr/local/lib/python3.7/site-packages/pandas/core/internals/construction.py\u001b[0m in \u001b[0;36msanitize_index\u001b[0;34m(data, index, copy)\u001b[0m\n\u001b[1;32m    517\u001b[0m \u001b[0;34m\u001b[0m\u001b[0m\n\u001b[1;32m    518\u001b[0m     \u001b[0;32mif\u001b[0m \u001b[0mlen\u001b[0m\u001b[0;34m(\u001b[0m\u001b[0mdata\u001b[0m\u001b[0;34m)\u001b[0m \u001b[0;34m!=\u001b[0m \u001b[0mlen\u001b[0m\u001b[0;34m(\u001b[0m\u001b[0mindex\u001b[0m\u001b[0;34m)\u001b[0m\u001b[0;34m:\u001b[0m\u001b[0;34m\u001b[0m\u001b[0;34m\u001b[0m\u001b[0m\n\u001b[0;32m--> 519\u001b[0;31m         \u001b[0;32mraise\u001b[0m \u001b[0mValueError\u001b[0m\u001b[0;34m(\u001b[0m\u001b[0;34m'Length of values does not match length of index'\u001b[0m\u001b[0;34m)\u001b[0m\u001b[0;34m\u001b[0m\u001b[0;34m\u001b[0m\u001b[0m\n\u001b[0m\u001b[1;32m    520\u001b[0m \u001b[0;34m\u001b[0m\u001b[0m\n\u001b[1;32m    521\u001b[0m     \u001b[0;32mif\u001b[0m \u001b[0misinstance\u001b[0m\u001b[0;34m(\u001b[0m\u001b[0mdata\u001b[0m\u001b[0;34m,\u001b[0m \u001b[0mABCIndexClass\u001b[0m\u001b[0;34m)\u001b[0m \u001b[0;32mand\u001b[0m \u001b[0;32mnot\u001b[0m \u001b[0mcopy\u001b[0m\u001b[0;34m:\u001b[0m\u001b[0;34m\u001b[0m\u001b[0;34m\u001b[0m\u001b[0m\n",
      "\u001b[0;31mValueError\u001b[0m: Length of values does not match length of index"
     ]
    }
   ],
   "source": [
    "accs = [calc_metrics(p, t, \"acc\") for p, t in zip(y_preds[2], y_test)]\n",
    "cat_df[\"accs\"] = accs"
   ]
  }
 ],
 "metadata": {
  "kernelspec": {
   "display_name": "Python 3",
   "language": "python",
   "name": "python3"
  },
  "language_info": {
   "codemirror_mode": {
    "name": "ipython",
    "version": 3
   },
   "file_extension": ".py",
   "mimetype": "text/x-python",
   "name": "python",
   "nbconvert_exporter": "python",
   "pygments_lexer": "ipython3",
   "version": "3.7.5"
  }
 },
 "nbformat": 4,
 "nbformat_minor": 4
}
