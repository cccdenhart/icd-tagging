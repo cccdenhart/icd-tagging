{
 "cells": [
  {
   "cell_type": "markdown",
   "metadata": {
    "toc-hr-collapsed": true
   },
   "source": [
    "# Read Data"
   ]
  },
  {
   "cell_type": "code",
   "execution_count": 3,
   "metadata": {},
   "outputs": [],
   "source": [
    "import pandas as pd\n",
    "from pyathena.util import as_pandas\n",
    "from datetime import datetime\n",
    "import numpy as np\n",
    "import functools as ft\n",
    "import os\n",
    "from typing import List, Set, Dict, Tuple\n",
    "from utils import get_conn, ICDDataset, probs_to_preds, TREE, PROJ_DIR\n",
    "from icd9.icd9 import ICD9, Node"
   ]
  },
  {
   "cell_type": "code",
   "execution_count": 106,
   "metadata": {},
   "outputs": [],
   "source": [
    "notes = as_pandas(get_conn().cursor().execute(\"select text from mimiciii.noteevents limit 100\"))[\"text\"].tolist()"
   ]
  },
  {
   "cell_type": "code",
   "execution_count": 4,
   "metadata": {},
   "outputs": [],
   "source": [
    "# read in raw data\n",
    "subdir = \"data\"\n",
    "roots_df = pd.read_csv(os.path.join(subdir, \"roots.csv\"), nrows=100000)\n",
    "notes_df = pd.read_csv(os.path.join(subdir, \"notes.csv\"), nrows=100000)"
   ]
  },
  {
   "cell_type": "code",
   "execution_count": 5,
   "metadata": {},
   "outputs": [],
   "source": [
    "# join icd roots with notes\n",
    "df = roots_df.merge(notes_df, on=\"hadm_id\", how=\"inner\").dropna()"
   ]
  },
  {
   "cell_type": "code",
   "execution_count": 6,
   "metadata": {},
   "outputs": [],
   "source": [
    "# group the data by admission id\n",
    "model_df = df.groupby(\"hadm_id\").aggregate(lambda x: list(set(x)))\\\n",
    "           .reset_index()\\\n",
    "           .loc[:, [\"roots\", \"tokens\"]]\n",
    "model_df[\"tokens\"] = model_df[\"tokens\"].apply(lambda x: x[0])"
   ]
  },
  {
   "cell_type": "markdown",
   "metadata": {
    "slideshow": {
     "slide_type": "slide"
    },
    "toc-hr-collapsed": true
   },
   "source": [
    "# Exploratory Visualizations"
   ]
  },
  {
   "cell_type": "code",
   "execution_count": 12,
   "metadata": {},
   "outputs": [],
   "source": [
    "from scripts.visdata import summary_table, note_lengths, icd_summary\n",
    "import matplotlib.pyplot as plt\n",
    "import seaborn as sns"
   ]
  },
  {
   "cell_type": "markdown",
   "metadata": {},
   "source": [
    "## Summary Table"
   ]
  },
  {
   "cell_type": "code",
   "execution_count": 429,
   "metadata": {},
   "outputs": [],
   "source": [
    "summary_table = pd.read_csv(\"data/full_summary.csv\")"
   ]
  },
  {
   "cell_type": "code",
   "execution_count": 430,
   "metadata": {},
   "outputs": [],
   "source": [
    "summary_table.columns = [\"Category\"] + list(summary_table.columns[1:])\n",
    "summary_table = summary_table.set_index(\"Category\")"
   ]
  },
  {
   "cell_type": "code",
   "execution_count": 435,
   "metadata": {},
   "outputs": [
    {
     "data": {
      "text/html": [
       "<div>\n",
       "<style scoped>\n",
       "    .dataframe tbody tr th:only-of-type {\n",
       "        vertical-align: middle;\n",
       "    }\n",
       "\n",
       "    .dataframe tbody tr th {\n",
       "        vertical-align: top;\n",
       "    }\n",
       "\n",
       "    .dataframe thead th {\n",
       "        text-align: right;\n",
       "    }\n",
       "</style>\n",
       "<table border=\"1\" class=\"dataframe\">\n",
       "  <thead>\n",
       "    <tr style=\"text-align: right;\">\n",
       "      <th></th>\n",
       "      <th>Totals</th>\n",
       "      <th>Male</th>\n",
       "      <th>Medicare</th>\n",
       "      <th>Female</th>\n",
       "      <th>Private</th>\n",
       "      <th>Medicaid</th>\n",
       "      <th>Government</th>\n",
       "      <th>Self Pay</th>\n",
       "    </tr>\n",
       "    <tr>\n",
       "      <th>Category</th>\n",
       "      <th></th>\n",
       "      <th></th>\n",
       "      <th></th>\n",
       "      <th></th>\n",
       "      <th></th>\n",
       "      <th></th>\n",
       "      <th></th>\n",
       "      <th></th>\n",
       "    </tr>\n",
       "  </thead>\n",
       "  <tbody>\n",
       "    <tr>\n",
       "      <th>Patients</th>\n",
       "      <td>46520</td>\n",
       "      <td>26121</td>\n",
       "      <td>21002</td>\n",
       "      <td>20399</td>\n",
       "      <td>19663</td>\n",
       "      <td>4570</td>\n",
       "      <td>1614</td>\n",
       "      <td>600</td>\n",
       "    </tr>\n",
       "    <tr>\n",
       "      <th>Admissions</th>\n",
       "      <td>58976</td>\n",
       "      <td>32950</td>\n",
       "      <td>28215</td>\n",
       "      <td>26026</td>\n",
       "      <td>22582</td>\n",
       "      <td>5785</td>\n",
       "      <td>1783</td>\n",
       "      <td>611</td>\n",
       "    </tr>\n",
       "    <tr>\n",
       "      <th>ICD9 Codes</th>\n",
       "      <td>11501</td>\n",
       "      <td>5852</td>\n",
       "      <td>5023</td>\n",
       "      <td>5649</td>\n",
       "      <td>5718</td>\n",
       "      <td>3989</td>\n",
       "      <td>2657</td>\n",
       "      <td>1467</td>\n",
       "    </tr>\n",
       "    <tr>\n",
       "      <th>Deaths</th>\n",
       "      <td>5836</td>\n",
       "      <td>3141</td>\n",
       "      <td>3903</td>\n",
       "      <td>2695</td>\n",
       "      <td>1372</td>\n",
       "      <td>381</td>\n",
       "      <td>90</td>\n",
       "      <td>95</td>\n",
       "    </tr>\n",
       "    <tr>\n",
       "      <th>Admissions Per Patient</th>\n",
       "      <td>1</td>\n",
       "      <td>1</td>\n",
       "      <td>1</td>\n",
       "      <td>1</td>\n",
       "      <td>1</td>\n",
       "      <td>1</td>\n",
       "      <td>1</td>\n",
       "      <td>1</td>\n",
       "    </tr>\n",
       "    <tr>\n",
       "      <th>ICD9 Codes Per Patient</th>\n",
       "      <td>0</td>\n",
       "      <td>0</td>\n",
       "      <td>0</td>\n",
       "      <td>0</td>\n",
       "      <td>0</td>\n",
       "      <td>0</td>\n",
       "      <td>1</td>\n",
       "      <td>2</td>\n",
       "    </tr>\n",
       "    <tr>\n",
       "      <th>ICD9 Codes Per Admission</th>\n",
       "      <td>0</td>\n",
       "      <td>0</td>\n",
       "      <td>0</td>\n",
       "      <td>0</td>\n",
       "      <td>0</td>\n",
       "      <td>0</td>\n",
       "      <td>1</td>\n",
       "      <td>2</td>\n",
       "    </tr>\n",
       "    <tr>\n",
       "      <th>Death Per Patient</th>\n",
       "      <td>0</td>\n",
       "      <td>0</td>\n",
       "      <td>0</td>\n",
       "      <td>0</td>\n",
       "      <td>0</td>\n",
       "      <td>0</td>\n",
       "      <td>0</td>\n",
       "      <td>0</td>\n",
       "    </tr>\n",
       "  </tbody>\n",
       "</table>\n",
       "</div>"
      ],
      "text/plain": [
       "                          Totals   Male  Medicare  Female  Private  Medicaid  \\\n",
       "Category                                                                       \n",
       "Patients                   46520  26121     21002   20399    19663      4570   \n",
       "Admissions                 58976  32950     28215   26026    22582      5785   \n",
       "ICD9 Codes                 11501   5852      5023    5649     5718      3989   \n",
       "Deaths                      5836   3141      3903    2695     1372       381   \n",
       "Admissions Per Patient         1      1         1       1        1         1   \n",
       "ICD9 Codes Per Patient         0      0         0       0        0         0   \n",
       "ICD9 Codes Per Admission       0      0         0       0        0         0   \n",
       "Death Per Patient              0      0         0       0        0         0   \n",
       "\n",
       "                          Government  Self Pay  \n",
       "Category                                        \n",
       "Patients                        1614       600  \n",
       "Admissions                      1783       611  \n",
       "ICD9 Codes                      2657      1467  \n",
       "Deaths                            90        95  \n",
       "Admissions Per Patient             1         1  \n",
       "ICD9 Codes Per Patient             1         2  \n",
       "ICD9 Codes Per Admission           1         2  \n",
       "Death Per Patient                  0         0  "
      ]
     },
     "execution_count": 435,
     "metadata": {},
     "output_type": "execute_result"
    }
   ],
   "source": [
    "summary_table.astype(\"int\")"
   ]
  },
  {
   "cell_type": "code",
   "execution_count": 432,
   "metadata": {},
   "outputs": [],
   "source": [
    "icd_table = pd.read_csv(\"data/icd_summary.csv\")"
   ]
  },
  {
   "cell_type": "code",
   "execution_count": 433,
   "metadata": {},
   "outputs": [],
   "source": [
    "icd_table = icd_table.sort_values(\"Mimic-iii Counts\", ascending=False)\n",
    "icd_latex = icd_table.to_latex()"
   ]
  },
  {
   "cell_type": "code",
   "execution_count": 434,
   "metadata": {},
   "outputs": [
    {
     "data": {
      "text/html": [
       "<div>\n",
       "<style scoped>\n",
       "    .dataframe tbody tr th:only-of-type {\n",
       "        vertical-align: middle;\n",
       "    }\n",
       "\n",
       "    .dataframe tbody tr th {\n",
       "        vertical-align: top;\n",
       "    }\n",
       "\n",
       "    .dataframe thead th {\n",
       "        text-align: right;\n",
       "    }\n",
       "</style>\n",
       "<table border=\"1\" class=\"dataframe\">\n",
       "  <thead>\n",
       "    <tr style=\"text-align: right;\">\n",
       "      <th></th>\n",
       "      <th>Code</th>\n",
       "      <th>Description</th>\n",
       "      <th>Mimic-iii Counts</th>\n",
       "      <th>Nodes in ICD Tree</th>\n",
       "    </tr>\n",
       "  </thead>\n",
       "  <tbody>\n",
       "    <tr>\n",
       "      <th>2</th>\n",
       "      <td>390-459</td>\n",
       "      <td>DISEASES OF THE CIRCULATORY SYSTEM</td>\n",
       "      <td>124782</td>\n",
       "      <td>516</td>\n",
       "    </tr>\n",
       "    <tr>\n",
       "      <th>3</th>\n",
       "      <td>240-279</td>\n",
       "      <td>ENDOCRINE, NUTRITIONAL AND METABOLIC DISEASES,...</td>\n",
       "      <td>52095</td>\n",
       "      <td>333</td>\n",
       "    </tr>\n",
       "    <tr>\n",
       "      <th>0</th>\n",
       "      <td>460-519</td>\n",
       "      <td>DISEASES OF THE RESPIRATORY SYSTEM</td>\n",
       "      <td>40989</td>\n",
       "      <td>277</td>\n",
       "    </tr>\n",
       "    <tr>\n",
       "      <th>11</th>\n",
       "      <td>800-999</td>\n",
       "      <td>INJURY AND POISONING</td>\n",
       "      <td>35518</td>\n",
       "      <td>1881</td>\n",
       "    </tr>\n",
       "    <tr>\n",
       "      <th>5</th>\n",
       "      <td>520-579</td>\n",
       "      <td>DISEASES OF THE DIGESTIVE SYSTEM</td>\n",
       "      <td>34595</td>\n",
       "      <td>625</td>\n",
       "    </tr>\n",
       "    <tr>\n",
       "      <th>1</th>\n",
       "      <td>580-629</td>\n",
       "      <td>DISEASES OF THE GENITOURINARY SYSTEM</td>\n",
       "      <td>32860</td>\n",
       "      <td>471</td>\n",
       "    </tr>\n",
       "    <tr>\n",
       "      <th>8</th>\n",
       "      <td>780-799</td>\n",
       "      <td>SYMPTOMS, SIGNS, AND ILL-DEFINED CONDITIONS</td>\n",
       "      <td>28873</td>\n",
       "      <td>372</td>\n",
       "    </tr>\n",
       "    <tr>\n",
       "      <th>6</th>\n",
       "      <td>320-389</td>\n",
       "      <td>DISEASES OF THE NERVOUS SYSTEM AND SENSE ORGANS</td>\n",
       "      <td>20397</td>\n",
       "      <td>1633</td>\n",
       "    </tr>\n",
       "    <tr>\n",
       "      <th>15</th>\n",
       "      <td>001-139</td>\n",
       "      <td>INFECTIOUS AND PARASITIC DISEASES</td>\n",
       "      <td>19507</td>\n",
       "      <td>1057</td>\n",
       "    </tr>\n",
       "    <tr>\n",
       "      <th>13</th>\n",
       "      <td>V10-V19</td>\n",
       "      <td>PERSONS WITH POTENTIAL HEALTH HAZARDS RELATED ...</td>\n",
       "      <td>18358</td>\n",
       "      <td>228</td>\n",
       "    </tr>\n",
       "    <tr>\n",
       "      <th>10</th>\n",
       "      <td>290-319</td>\n",
       "      <td>MENTAL DISORDERS</td>\n",
       "      <td>17828</td>\n",
       "      <td>372</td>\n",
       "    </tr>\n",
       "    <tr>\n",
       "      <th>9</th>\n",
       "      <td>V40-V49</td>\n",
       "      <td>PERSONS WITH A CONDITION INFLUENCING THEIR HEA...</td>\n",
       "      <td>17779</td>\n",
       "      <td>175</td>\n",
       "    </tr>\n",
       "    <tr>\n",
       "      <th>18</th>\n",
       "      <td>760-779</td>\n",
       "      <td>CERTAIN CONDITIONS ORIGINATING IN THE PERINATA...</td>\n",
       "      <td>16510</td>\n",
       "      <td>255</td>\n",
       "    </tr>\n",
       "    <tr>\n",
       "      <th>7</th>\n",
       "      <td>140-239</td>\n",
       "      <td>NEOPLASMS</td>\n",
       "      <td>12624</td>\n",
       "      <td>773</td>\n",
       "    </tr>\n",
       "    <tr>\n",
       "      <th>14</th>\n",
       "      <td>V50-V59</td>\n",
       "      <td>PERSONS ENCOUNTERING HEALTH SERVICES FOR SPECI...</td>\n",
       "      <td>10810</td>\n",
       "      <td>163</td>\n",
       "    </tr>\n",
       "    <tr>\n",
       "      <th>4</th>\n",
       "      <td>710-739</td>\n",
       "      <td>DISEASES OF THE MUSCULOSKELETAL SYSTEM AND CON...</td>\n",
       "      <td>10100</td>\n",
       "      <td>499</td>\n",
       "    </tr>\n",
       "    <tr>\n",
       "      <th>12</th>\n",
       "      <td>680-709</td>\n",
       "      <td>DISEASES OF THE SKIN AND SUBCUTANEOUS TISSUE</td>\n",
       "      <td>8789</td>\n",
       "      <td>247</td>\n",
       "    </tr>\n",
       "    <tr>\n",
       "      <th>16</th>\n",
       "      <td>V01-V06</td>\n",
       "      <td>PERSONS WITH POTENTIAL HEALTHHAZARDS RELATED T...</td>\n",
       "      <td>6280</td>\n",
       "      <td>84</td>\n",
       "    </tr>\n",
       "    <tr>\n",
       "      <th>17</th>\n",
       "      <td>V20-V29</td>\n",
       "      <td>PERSONS ENCOUNTERING HEALTH SERVICES IN CIRCUM...</td>\n",
       "      <td>6220</td>\n",
       "      <td>118</td>\n",
       "    </tr>\n",
       "    <tr>\n",
       "      <th>21</th>\n",
       "      <td>V60-V69</td>\n",
       "      <td>PERSONS ENCOUNTERING HEALTH SERVICES IN OTHER ...</td>\n",
       "      <td>2118</td>\n",
       "      <td>140</td>\n",
       "    </tr>\n",
       "    <tr>\n",
       "      <th>19</th>\n",
       "      <td>V07-V09</td>\n",
       "      <td>PERSONS WITH NEED FOR ISOLATION, OTHER POTENTI...</td>\n",
       "      <td>1310</td>\n",
       "      <td>35</td>\n",
       "    </tr>\n",
       "    <tr>\n",
       "      <th>20</th>\n",
       "      <td>V70-V82</td>\n",
       "      <td>PERSONS WITHOUT REPORTED DIAGNOSIS ENCOUNTERED...</td>\n",
       "      <td>939</td>\n",
       "      <td>172</td>\n",
       "    </tr>\n",
       "    <tr>\n",
       "      <th>23</th>\n",
       "      <td>V85</td>\n",
       "      <td>BODY MASS INDEX</td>\n",
       "      <td>511</td>\n",
       "      <td>27</td>\n",
       "    </tr>\n",
       "    <tr>\n",
       "      <th>24</th>\n",
       "      <td>V87</td>\n",
       "      <td>OTHER SPECIFIED PERSONAL EXPOSURES AND HISTORY...</td>\n",
       "      <td>415</td>\n",
       "      <td>17</td>\n",
       "    </tr>\n",
       "    <tr>\n",
       "      <th>22</th>\n",
       "      <td>V88</td>\n",
       "      <td>ACQUIRED ABSENCE OF OTHER ORGANS AND TISSUE</td>\n",
       "      <td>155</td>\n",
       "      <td>6</td>\n",
       "    </tr>\n",
       "    <tr>\n",
       "      <th>26</th>\n",
       "      <td>630-679</td>\n",
       "      <td>COMPLICATIONS OF PREGNANCY, CHILDBIRTH, AND TH...</td>\n",
       "      <td>22</td>\n",
       "      <td>382</td>\n",
       "    </tr>\n",
       "    <tr>\n",
       "      <th>27</th>\n",
       "      <td>V86</td>\n",
       "      <td>ESTROGEN RECEPTOR STATUS</td>\n",
       "      <td>10</td>\n",
       "      <td>4</td>\n",
       "    </tr>\n",
       "    <tr>\n",
       "      <th>25</th>\n",
       "      <td>V83-V84</td>\n",
       "      <td>GENETICS</td>\n",
       "      <td>8</td>\n",
       "      <td>18</td>\n",
       "    </tr>\n",
       "  </tbody>\n",
       "</table>\n",
       "</div>"
      ],
      "text/plain": [
       "       Code                                        Description  \\\n",
       "2   390-459                DISEASES OF THE CIRCULATORY SYSTEM    \n",
       "3   240-279  ENDOCRINE, NUTRITIONAL AND METABOLIC DISEASES,...   \n",
       "0   460-519                DISEASES OF THE RESPIRATORY SYSTEM    \n",
       "11  800-999                              INJURY AND POISONING    \n",
       "5   520-579                  DISEASES OF THE DIGESTIVE SYSTEM    \n",
       "1   580-629              DISEASES OF THE GENITOURINARY SYSTEM    \n",
       "8   780-799       SYMPTOMS, SIGNS, AND ILL-DEFINED CONDITIONS    \n",
       "6   320-389   DISEASES OF THE NERVOUS SYSTEM AND SENSE ORGANS    \n",
       "15  001-139                 INFECTIOUS AND PARASITIC DISEASES    \n",
       "13  V10-V19  PERSONS WITH POTENTIAL HEALTH HAZARDS RELATED ...   \n",
       "10  290-319                                  MENTAL DISORDERS    \n",
       "9   V40-V49  PERSONS WITH A CONDITION INFLUENCING THEIR HEA...   \n",
       "18  760-779  CERTAIN CONDITIONS ORIGINATING IN THE PERINATA...   \n",
       "7   140-239                                         NEOPLASMS    \n",
       "14  V50-V59  PERSONS ENCOUNTERING HEALTH SERVICES FOR SPECI...   \n",
       "4   710-739  DISEASES OF THE MUSCULOSKELETAL SYSTEM AND CON...   \n",
       "12  680-709      DISEASES OF THE SKIN AND SUBCUTANEOUS TISSUE    \n",
       "16  V01-V06  PERSONS WITH POTENTIAL HEALTHHAZARDS RELATED T...   \n",
       "17  V20-V29  PERSONS ENCOUNTERING HEALTH SERVICES IN CIRCUM...   \n",
       "21  V60-V69  PERSONS ENCOUNTERING HEALTH SERVICES IN OTHER ...   \n",
       "19  V07-V09  PERSONS WITH NEED FOR ISOLATION, OTHER POTENTI...   \n",
       "20  V70-V82  PERSONS WITHOUT REPORTED DIAGNOSIS ENCOUNTERED...   \n",
       "23      V85                                   BODY MASS INDEX    \n",
       "24      V87  OTHER SPECIFIED PERSONAL EXPOSURES AND HISTORY...   \n",
       "22      V88       ACQUIRED ABSENCE OF OTHER ORGANS AND TISSUE    \n",
       "26  630-679  COMPLICATIONS OF PREGNANCY, CHILDBIRTH, AND TH...   \n",
       "27      V86                          ESTROGEN RECEPTOR STATUS    \n",
       "25  V83-V84                                          GENETICS    \n",
       "\n",
       "    Mimic-iii Counts  Nodes in ICD Tree  \n",
       "2             124782                516  \n",
       "3              52095                333  \n",
       "0              40989                277  \n",
       "11             35518               1881  \n",
       "5              34595                625  \n",
       "1              32860                471  \n",
       "8              28873                372  \n",
       "6              20397               1633  \n",
       "15             19507               1057  \n",
       "13             18358                228  \n",
       "10             17828                372  \n",
       "9              17779                175  \n",
       "18             16510                255  \n",
       "7              12624                773  \n",
       "14             10810                163  \n",
       "4              10100                499  \n",
       "12              8789                247  \n",
       "16              6280                 84  \n",
       "17              6220                118  \n",
       "21              2118                140  \n",
       "19              1310                 35  \n",
       "20               939                172  \n",
       "23               511                 27  \n",
       "24               415                 17  \n",
       "22               155                  6  \n",
       "26                22                382  \n",
       "27                10                  4  \n",
       "25                 8                 18  "
      ]
     },
     "execution_count": 434,
     "metadata": {},
     "output_type": "execute_result"
    }
   ],
   "source": [
    "icd_table"
   ]
  },
  {
   "cell_type": "markdown",
   "metadata": {
    "slideshow": {
     "slide_type": "skip"
    }
   },
   "source": [
    "## Category Counts"
   ]
  },
  {
   "cell_type": "code",
   "execution_count": 36,
   "metadata": {
    "slideshow": {
     "slide_type": "skip"
    }
   },
   "outputs": [],
   "source": [
    "ccounts_query = \"select category, count(row_id) from mimiciii.noteevents group by category;\"\n",
    "ccounts_df = as_pandas(cursor.execute(ccounts_query))\n",
    "ccounts_df.columns = [\"category\", \"count\"]\n",
    "ccounts_df = ccounts_df.sort_values(\"count\", ascending=False)"
   ]
  },
  {
   "cell_type": "code",
   "execution_count": 39,
   "metadata": {
    "slideshow": {
     "slide_type": "subslide"
    }
   },
   "outputs": [
    {
     "data": {
      "image/png": "[encoded data removed]",
      "text/plain": [
       "<Figure size 432x288 with 1 Axes>"
      ]
     },
     "metadata": {
      "needs_background": "light"
     },
     "output_type": "display_data"
    }
   ],
   "source": [
    "cat_fp = os.path.join(PROJ_DIR, \"images\", \"categories.png\")\n",
    "ax = sns.barplot(x=\"category\", y=\"count\", data=ccounts_df)\n",
    "ax.set_title(\"Counts by Category\")\n",
    "plt.setp(ax.get_xticklabels(), ha=\"right\", rotation=45)\n",
    "plt.tight_layout()\n",
    "plt.savefig(cat_fp)\n",
    "plt.show()"
   ]
  },
  {
   "cell_type": "markdown",
   "metadata": {},
   "source": [
    "## Distribution of ICD Codes in Note"
   ]
  },
  {
   "cell_type": "code",
   "execution_count": 47,
   "metadata": {},
   "outputs": [
    {
     "data": {
      "image/png": "[encoded data removed]",
      "text/plain": [
       "<Figure size 432x288 with 1 Axes>"
      ]
     },
     "metadata": {
      "needs_background": "light"
     },
     "output_type": "display_data"
    }
   ],
   "source": [
    "lens = [len(r) for r in model_df[\"roots\"].tolist()]\n",
    "ax = sns.distplot(lens)\n",
    "ax.set(xlabel=\"Number of Top Level ICD Codes\",\n",
    "       title=\"Distribution of Top Level ICD Codes in Notes\")\n",
    "plt.savefig(\"images/num_icd_codes.png\")\n",
    "plt.show()"
   ]
  },
  {
   "cell_type": "markdown",
   "metadata": {
    "slideshow": {
     "slide_type": "skip"
    }
   },
   "source": [
    "## Distribution of Word Counts in Notes"
   ]
  },
  {
   "cell_type": "code",
   "execution_count": 376,
   "metadata": {
    "slideshow": {
     "slide_type": "subslide"
    }
   },
   "outputs": [
    {
     "data": {
      "image/png": "[encoded data removed]",
      "text/plain": [
       "<Figure size 432x288 with 1 Axes>"
      ]
     },
     "metadata": {
      "needs_background": "light"
     },
     "output_type": "display_data"
    }
   ],
   "source": [
    "with get_conn() as conn:\n",
    "    cursor = conn.cursor()\n",
    "    notes = as_pandas(cursor.execute(\"select text from mimiciii.noteevents order by RAND() limit 10000;\"))[\"text\"]\n",
    "lens = notes.apply(lambda x: len(x.split()))\n",
    "no_outliers = lens[lens.between(lens.quantile(.1), lens.quantile(.9))]\n",
    "ax = sns.distplot(no_outliers)\n",
    "ax.set_title(\"Distribution of Number of Words in a Note\")\n",
    "ax.set_xlabel(\"Word Count\")\n",
    "plt.savefig(\"images/word_counts.png\")\n",
    "plt.show()"
   ]
  },
  {
   "cell_type": "markdown",
   "metadata": {},
   "source": [
    "## ICD Codes by Insurance"
   ]
  },
  {
   "cell_type": "code",
   "execution_count": 413,
   "metadata": {},
   "outputs": [],
   "source": [
    "# read data\n",
    "with get_conn() as conn:\n",
    "    cursor = conn.cursor()\n",
    "    query = \"\"\"\n",
    "    select admissions.hadm_id as adm_id, count(diagnoses_icd.icd9_code) as icd, array_agg(admissions.insurance)[1] as insurance\n",
    "    from mimiciii.admissions as admissions\n",
    "    join mimiciii.diagnoses_icd as diagnoses_icd\n",
    "    on admissions.hadm_id = diagnoses_icd.hadm_id\n",
    "    group by admissions.hadm_id;\n",
    "    \"\"\"\n",
    "    insur_icd_df = as_pandas(cursor.execute(query))"
   ]
  },
  {
   "cell_type": "code",
   "execution_count": 603,
   "metadata": {},
   "outputs": [
    {
     "data": {
      "image/png": "[encoded data removed]",
      "text/plain": [
       "<Figure size 432x288 with 1 Axes>"
      ]
     },
     "metadata": {
      "needs_background": "light"
     },
     "output_type": "display_data"
    }
   ],
   "source": [
    "ax = sns.boxplot(x=\"insurance\", y=\"icd\", data=insur_icd_df)\n",
    "ax.set(xlabel=\"Number of ICD9 Codes\",\n",
    "       ylabel=\"Insurance Type\",\n",
    "       title=\"Number of ICD Codes per Admission by Insurance Type\")\n",
    "plt.savefig(\"images/insurance.png\")\n",
    "plt.show()"
   ]
  },
  {
   "cell_type": "markdown",
   "metadata": {},
   "source": [
    "## Word Cloud"
   ]
  },
  {
   "cell_type": "code",
   "execution_count": 111,
   "metadata": {},
   "outputs": [],
   "source": [
    "from wordcloud import WordCloud"
   ]
  },
  {
   "cell_type": "code",
   "execution_count": 117,
   "metadata": {},
   "outputs": [
    {
     "data": {
      "image/png": "[encoded data removed]",
      "text/plain": [
       "<Figure size 432x288 with 1 Axes>"
      ]
     },
     "metadata": {
      "needs_background": "light"
     },
     "output_type": "display_data"
    }
   ],
   "source": [
    "wordcloud = WordCloud(max_font_size=50, max_words=100, background_color=\"white\").generate(notes[15])\n",
    "plt.figure()\n",
    "plt.imshow(wordcloud, interpolation=\"bilinear\")\n",
    "plt.axis(\"off\")\n",
    "plt.savefig(\"images/wordcloud.png\")\n",
    "plt.show()"
   ]
  },
  {
   "cell_type": "markdown",
   "metadata": {
    "toc-hr-collapsed": true
   },
   "source": [
    "# Embedding"
   ]
  },
  {
   "cell_type": "markdown",
   "metadata": {},
   "source": [
    "## Word2Vec"
   ]
  },
  {
   "cell_type": "code",
   "execution_count": 7,
   "metadata": {},
   "outputs": [],
   "source": [
    "import gensim\n",
    "from gensim.test.utils import datapath\n",
    "from gensim.models import KeyedVectors"
   ]
  },
  {
   "cell_type": "code",
   "execution_count": 8,
   "metadata": {},
   "outputs": [],
   "source": [
    "# load word2vec embeddings\n",
    "w2v_fp = os.path.join(PROJ_DIR, \"data\", \"embeddings\", \"GoogleNews-vectors-negative300.bin\")\n",
    "word2vec = KeyedVectors.load_word2vec_format(w2v_fp, binary=True)"
   ]
  },
  {
   "cell_type": "code",
   "execution_count": 9,
   "metadata": {},
   "outputs": [],
   "source": [
    "# embed with word2vec\n",
    "model_df[\"w2v\"] = model_df[\"tokens\"].apply(lambda note: [word2vec[t] for t in note if t in word2vec])"
   ]
  },
  {
   "cell_type": "code",
   "execution_count": 10,
   "metadata": {},
   "outputs": [],
   "source": [
    "emb_lens = [len(d) for d in model_df[\"w2v\"].tolist()]"
   ]
  },
  {
   "cell_type": "code",
   "execution_count": 13,
   "metadata": {},
   "outputs": [
    {
     "data": {
      "image/png": "[encoded data removed]",
      "text/plain": [
       "<Figure size 432x288 with 1 Axes>"
      ]
     },
     "metadata": {
      "needs_background": "light"
     },
     "output_type": "display_data"
    }
   ],
   "source": [
    "sns.distplot(emb_lens)\n",
    "plt.show()"
   ]
  },
  {
   "cell_type": "markdown",
   "metadata": {},
   "source": [
    "## BERT"
   ]
  },
  {
   "cell_type": "code",
   "execution_count": 651,
   "metadata": {},
   "outputs": [
    {
     "data": {
      "application/vnd.jupyter.widget-view+json": {
       "model_id": "71175c30c9db4502bce7e25ffd24f506",
       "version_major": 2,
       "version_minor": 0
      },
      "text/plain": [
       "HBox(children=(FloatProgress(value=0.0, description='Downloading', max=337.0, style=ProgressStyle(description_…"
      ]
     },
     "metadata": {},
     "output_type": "display_data"
    },
    {
     "name": "stdout",
     "output_type": "stream",
     "text": [
      "\n"
     ]
    },
    {
     "data": {
      "application/vnd.jupyter.widget-view+json": {
       "model_id": "52c0e5bd0e0e47099ee98066bb6c7b3a",
       "version_major": 2,
       "version_minor": 0
      },
      "text/plain": [
       "HBox(children=(FloatProgress(value=0.0, description='Downloading', max=213450.0, style=ProgressStyle(descripti…"
      ]
     },
     "metadata": {},
     "output_type": "display_data"
    },
    {
     "name": "stdout",
     "output_type": "stream",
     "text": [
      "\n"
     ]
    },
    {
     "data": {
      "application/vnd.jupyter.widget-view+json": {
       "model_id": "217b3c4332644ee49cfa1068bbc8f829",
       "version_major": 2,
       "version_minor": 0
      },
      "text/plain": [
       "HBox(children=(FloatProgress(value=0.0, description='Downloading', max=435778770.0, style=ProgressStyle(descri…"
      ]
     },
     "metadata": {},
     "output_type": "display_data"
    },
    {
     "name": "stdout",
     "output_type": "stream",
     "text": [
      "\n"
     ]
    }
   ],
   "source": [
    "from transformers import AutoTokenizer, AutoModel\n",
    "tokenizer = AutoTokenizer.from_pretrained(\"emilyalsentzer/Bio_ClinicalBERT\")\n",
    "model = AutoModel.from_pretrained(\"emilyalsentzer/Bio_ClinicalBERT\")"
   ]
  },
  {
   "cell_type": "markdown",
   "metadata": {
    "toc-hr-collapsed": false
   },
   "source": [
    "# Models"
   ]
  },
  {
   "cell_type": "markdown",
   "metadata": {},
   "source": [
    "## Prepare Data"
   ]
  },
  {
   "cell_type": "code",
   "execution_count": 15,
   "metadata": {},
   "outputs": [],
   "source": [
    "from sklearn.model_selection import train_test_split\n",
    "from sklearn.preprocessing import MultiLabelBinarizer"
   ]
  },
  {
   "cell_type": "code",
   "execution_count": 16,
   "metadata": {},
   "outputs": [],
   "source": [
    "# combine word embeddings\n",
    "model_df[\"d2v\"] = model_df[\"w2v\"].apply(lambda x: np.mean(x, axis=0))"
   ]
  },
  {
   "cell_type": "code",
   "execution_count": 53,
   "metadata": {},
   "outputs": [],
   "source": [
    "# one hot encode roots\n",
    "mlb = MultiLabelBinarizer()\n",
    "Y = mlb.fit_transform(model_df[\"roots\"])\n",
    "class_names = mlb.classes_\n",
    "\n",
    "# extract combined word embeddings\n",
    "X = np.array(model_df[\"d2v\"].tolist())\n",
    "\n",
    "# split data\n",
    "X_train, X_test, Y_train, Y_test = train_test_split(X, Y, test_size=0.3)"
   ]
  },
  {
   "cell_type": "markdown",
   "metadata": {},
   "source": [
    "## Baseline Models"
   ]
  },
  {
   "cell_type": "code",
   "execution_count": 18,
   "metadata": {},
   "outputs": [],
   "source": [
    "from sklearn.pipeline import Pipeline\n",
    "from sklearn.model_selection import GridSearchCV\n",
    "from sklearn.linear_model import LogisticRegression\n",
    "from sklearn.ensemble import RandomForestClassifier\n",
    "from sklearn.neural_network import MLPClassifier\n",
    "from sklearn.multiclass import OneVsRestClassifier"
   ]
  },
  {
   "cell_type": "code",
   "execution_count": 19,
   "metadata": {},
   "outputs": [],
   "source": [
    "# instantiate classifiers\n",
    "clfs = {\n",
    "    \"LogisticRegression\": OneVsRestClassifier(LogisticRegression(multi_class=\"ovr\")),\n",
    "    \"RandomForest\": OneVsRestClassifier(RandomForestClassifier(n_estimators=150, criterion=\"entropy\")),\n",
    "    \"MultiLayerPerceptron\": MLPClassifier(hidden_layer_sizes=(40, 30))\n",
    "}"
   ]
  },
  {
   "cell_type": "code",
   "execution_count": 20,
   "metadata": {},
   "outputs": [],
   "source": [
    "# train baseline classifiers\n",
    "trained_clfs = {name: clf.fit(X_train, Y_train) for name, clf in clfs.items()}"
   ]
  },
  {
   "cell_type": "markdown",
   "metadata": {},
   "source": [
    "## LSTM"
   ]
  },
  {
   "cell_type": "code",
   "execution_count": 67,
   "metadata": {},
   "outputs": [
    {
     "data": {
      "text/html": [
       "<div>\n",
       "<style scoped>\n",
       "    .dataframe tbody tr th:only-of-type {\n",
       "        vertical-align: middle;\n",
       "    }\n",
       "\n",
       "    .dataframe tbody tr th {\n",
       "        vertical-align: top;\n",
       "    }\n",
       "\n",
       "    .dataframe thead th {\n",
       "        text-align: right;\n",
       "    }\n",
       "</style>\n",
       "<table border=\"1\" class=\"dataframe\">\n",
       "  <thead>\n",
       "    <tr style=\"text-align: right;\">\n",
       "      <th></th>\n",
       "      <th>roots</th>\n",
       "      <th>tokens</th>\n",
       "      <th>w2v</th>\n",
       "      <th>d2v</th>\n",
       "    </tr>\n",
       "  </thead>\n",
       "  <tbody>\n",
       "    <tr>\n",
       "      <th>0</th>\n",
       "      <td>[760-779, 520-579, V01-V91]</td>\n",
       "      <td>['12:20', 'pm', 'babygram', 'chest', '&amp;', 'abd...</td>\n",
       "      <td>[[0.05078125, -0.09326172, 0.064941406, 0.1142...</td>\n",
       "      <td>[-0.107172914, 0.073025964, 0.0694424, 0.14406...</td>\n",
       "    </tr>\n",
       "    <tr>\n",
       "      <th>1</th>\n",
       "      <td>[240-279, 680-709, 580-629, 001-139, 390-459, ...</td>\n",
       "      <td>['5:06', 'pm', 'ct', 'head', 'w/o', 'contrast'...</td>\n",
       "      <td>[[0.114746094, -0.05078125, 0.06738281, 0.0966...</td>\n",
       "      <td>[-0.1176455, 0.08826797, 0.058732, 0.14259975,...</td>\n",
       "    </tr>\n",
       "    <tr>\n",
       "      <th>2</th>\n",
       "      <td>[240-279, 580-629, 390-459, 320-389, 290-319, ...</td>\n",
       "      <td>['8:45', 'chest', '(', 'portable', 'ap', ')', ...</td>\n",
       "      <td>[[0.12792969, -0.055664062, 0.03466797, 0.0588...</td>\n",
       "      <td>[-0.12593232, 0.089721955, 0.051528513, 0.1402...</td>\n",
       "    </tr>\n",
       "    <tr>\n",
       "      <th>3</th>\n",
       "      <td>[780-799, 580-629, V01-V91, 390-459, 520-579, ...</td>\n",
       "      <td>['1:11', 'pm', 'chest', '(', 'portable', 'ap',...</td>\n",
       "      <td>[[0.05078125, -0.09326172, 0.064941406, 0.1142...</td>\n",
       "      <td>[-0.13639614, 0.100989304, 0.036371887, 0.1396...</td>\n",
       "    </tr>\n",
       "    <tr>\n",
       "      <th>4</th>\n",
       "      <td>[140-239, 390-459, 780-799]</td>\n",
       "      <td>['8:10', 'chest', '(', 'portable', 'ap', ')', ...</td>\n",
       "      <td>[[0.12792969, -0.055664062, 0.03466797, 0.0588...</td>\n",
       "      <td>[-0.13856685, 0.099781975, 0.032434996, 0.1406...</td>\n",
       "    </tr>\n",
       "  </tbody>\n",
       "</table>\n",
       "</div>"
      ],
      "text/plain": [
       "                                               roots  \\\n",
       "0                        [760-779, 520-579, V01-V91]   \n",
       "1  [240-279, 680-709, 580-629, 001-139, 390-459, ...   \n",
       "2  [240-279, 580-629, 390-459, 320-389, 290-319, ...   \n",
       "3  [780-799, 580-629, V01-V91, 390-459, 520-579, ...   \n",
       "4                        [140-239, 390-459, 780-799]   \n",
       "\n",
       "                                              tokens  \\\n",
       "0  ['12:20', 'pm', 'babygram', 'chest', '&', 'abd...   \n",
       "1  ['5:06', 'pm', 'ct', 'head', 'w/o', 'contrast'...   \n",
       "2  ['8:45', 'chest', '(', 'portable', 'ap', ')', ...   \n",
       "3  ['1:11', 'pm', 'chest', '(', 'portable', 'ap',...   \n",
       "4  ['8:10', 'chest', '(', 'portable', 'ap', ')', ...   \n",
       "\n",
       "                                                 w2v  \\\n",
       "0  [[0.05078125, -0.09326172, 0.064941406, 0.1142...   \n",
       "1  [[0.114746094, -0.05078125, 0.06738281, 0.0966...   \n",
       "2  [[0.12792969, -0.055664062, 0.03466797, 0.0588...   \n",
       "3  [[0.05078125, -0.09326172, 0.064941406, 0.1142...   \n",
       "4  [[0.12792969, -0.055664062, 0.03466797, 0.0588...   \n",
       "\n",
       "                                                 d2v  \n",
       "0  [-0.107172914, 0.073025964, 0.0694424, 0.14406...  \n",
       "1  [-0.1176455, 0.08826797, 0.058732, 0.14259975,...  \n",
       "2  [-0.12593232, 0.089721955, 0.051528513, 0.1402...  \n",
       "3  [-0.13639614, 0.100989304, 0.036371887, 0.1396...  \n",
       "4  [-0.13856685, 0.099781975, 0.032434996, 0.1406...  "
      ]
     },
     "execution_count": 67,
     "metadata": {},
     "output_type": "execute_result"
    }
   ],
   "source": [
    "model_df.head()"
   ]
  },
  {
   "cell_type": "code",
   "execution_count": 68,
   "metadata": {},
   "outputs": [
    {
     "ename": "ValueError",
     "evalue": "expected sequence of length 481 at dim 1 (got 762)",
     "output_type": "error",
     "traceback": [
      "\u001b[0;31m---------------------------------------------------------------------------\u001b[0m",
      "\u001b[0;31mValueError\u001b[0m                                Traceback (most recent call last)",
      "\u001b[0;32m<ipython-input-68-959500bab965>\u001b[0m in \u001b[0;36m<module>\u001b[0;34m\u001b[0m\n\u001b[1;32m      1\u001b[0m \u001b[0;31m# set X to be raw word embeddings\u001b[0m\u001b[0;34m\u001b[0m\u001b[0;34m\u001b[0m\u001b[0;34m\u001b[0m\u001b[0m\n\u001b[0;32m----> 2\u001b[0;31m \u001b[0mX\u001b[0m \u001b[0;34m=\u001b[0m \u001b[0mtorch\u001b[0m\u001b[0;34m.\u001b[0m\u001b[0mFloatTensor\u001b[0m\u001b[0;34m(\u001b[0m\u001b[0mmodel_df\u001b[0m\u001b[0;34m[\u001b[0m\u001b[0;34m\"w2v\"\u001b[0m\u001b[0;34m]\u001b[0m\u001b[0;34m.\u001b[0m\u001b[0mtolist\u001b[0m\u001b[0;34m(\u001b[0m\u001b[0;34m)\u001b[0m\u001b[0;34m)\u001b[0m\u001b[0;34m\u001b[0m\u001b[0;34m\u001b[0m\u001b[0m\n\u001b[0m\u001b[1;32m      3\u001b[0m \u001b[0;34m\u001b[0m\u001b[0m\n\u001b[1;32m      4\u001b[0m \u001b[0;31m# split data\u001b[0m\u001b[0;34m\u001b[0m\u001b[0;34m\u001b[0m\u001b[0;34m\u001b[0m\u001b[0m\n\u001b[1;32m      5\u001b[0m \u001b[0mX_train\u001b[0m\u001b[0;34m,\u001b[0m \u001b[0mX_test\u001b[0m\u001b[0;34m,\u001b[0m \u001b[0mY_train\u001b[0m\u001b[0;34m,\u001b[0m \u001b[0mY_test\u001b[0m \u001b[0;34m=\u001b[0m \u001b[0mtrain_test_split\u001b[0m\u001b[0;34m(\u001b[0m\u001b[0mX\u001b[0m\u001b[0;34m,\u001b[0m \u001b[0mY\u001b[0m\u001b[0;34m,\u001b[0m \u001b[0mtest_size\u001b[0m\u001b[0;34m=\u001b[0m\u001b[0;36m0.3\u001b[0m\u001b[0;34m)\u001b[0m\u001b[0;34m\u001b[0m\u001b[0;34m\u001b[0m\u001b[0m\n",
      "\u001b[0;31mValueError\u001b[0m: expected sequence of length 481 at dim 1 (got 762)"
     ]
    }
   ],
   "source": [
    "# set X to be raw word embeddings\n",
    "X = torch.FloatTensor(model_df[\"w2v\"].tolist())\n",
    "\n",
    "# split data\n",
    "X_train, X_test, Y_train, Y_test = train_test_split(X, Y, test_size=0.3)"
   ]
  },
  {
   "cell_type": "code",
   "execution_count": 56,
   "metadata": {},
   "outputs": [],
   "source": [
    "import torch\n",
    "import torch.nn as nn\n",
    "import torch.nn.functional as F\n",
    "from torch.utils.data import DataLoader, Dataset"
   ]
  },
  {
   "cell_type": "code",
   "execution_count": 57,
   "metadata": {},
   "outputs": [],
   "source": [
    "class LSTM(nn.Module):\n",
    "    \"\"\"An LSTM implementation.\"\"\"\n",
    "\n",
    "    def __init__(self, weights, embedding_dim, lstm_size, n_cat):\n",
    "        super(LSTM, self).__init__()\n",
    "        # define layers\n",
    "        self.embeddings = nn.Embedding.from_pretrained(weights)\n",
    "        self.lstm = nn.LSTM(embedding_dim, lstm_size, batch_first=True)\n",
    "        self.hidden2tag = nn.Linear(lstm, n_cat)\n",
    "\n",
    "    def forward(self, sentence):\n",
    "        embeds = self.embeddings(sentence)\n",
    "        lstm_out, _ = self.lstm(embeds.view(len(sentence), 1, -1))\n",
    "        tag_space = self.hidden2cat(lstm_out.view(len(sentence), -1))\n",
    "        tag_scores = nn.Sigmoid()(cat_space, dim=1)\n",
    "        return cat_scores\n",
    "    \n",
    "    def run_train(self, trainloader: DataLoader, n_epochs: int) -> None:\n",
    "        \"\"\"Train network on training set.\"\"\"\n",
    "        self.train()  # set model to train mode\n",
    "        loss_fn = nn.BCELoss(reduction='mean')\n",
    "        optimizer = torch.optim.SGD(self.parameters(), lr=0.01, momentum=0.9)\n",
    "        # loop over the dataset for each epoch\n",
    "        print(\"Training LSTM .....\")\n",
    "        for i in range(n_epochs):\n",
    "            print(f\"\\tEpoch {i}:\", end=\" \")\n",
    "            for data in trainloader:\n",
    "                # extracts features/labels from loader\n",
    "                feats, labels = data\n",
    "\n",
    "                # zero the parameter gradients\n",
    "                optimizer.zero_grad()\n",
    "\n",
    "                # retrieve outputs\n",
    "                breakpoint()\n",
    "                outputs = self.forward(feats.unsqueeze(0))\n",
    "                \n",
    "                # determine loss and backprop\n",
    "                loss = loss_fn(outputs, labels)\n",
    "                loss.backward()  # calculate gradients\n",
    "                optimizer.step()  # update parameters\n",
    "                \n",
    "            print(f\"loss = {loss}\")\n",
    "        print(\"done.\")"
   ]
  },
  {
   "cell_type": "code",
   "execution_count": 59,
   "metadata": {},
   "outputs": [],
   "source": [
    "# declare train and test loaders\n",
    "BATCH_SIZE = 64\n",
    "trainset = ICDDataset(X_train, np.array(Y_train))\n",
    "testset = ICDDataset(X_test, np.array(Y_test))\n",
    "trainloader = DataLoader(trainset, batch_size=BATCH_SIZE, shuffle=True, num_workers=2)\n",
    "testloader = DataLoader(testset, shuffle=False)"
   ]
  },
  {
   "cell_type": "code",
   "execution_count": 62,
   "metadata": {},
   "outputs": [
    {
     "data": {
      "text/plain": [
       "(616,)"
      ]
     },
     "execution_count": 62,
     "metadata": {},
     "output_type": "execute_result"
    }
   ],
   "source": [
    "trainset.X.shape"
   ]
  },
  {
   "cell_type": "code",
   "execution_count": 60,
   "metadata": {},
   "outputs": [
    {
     "ename": "IndexError",
     "evalue": "tuple index out of range",
     "output_type": "error",
     "traceback": [
      "\u001b[0;31m---------------------------------------------------------------------------\u001b[0m",
      "\u001b[0;31mIndexError\u001b[0m                                Traceback (most recent call last)",
      "\u001b[0;32m<ipython-input-60-b4bd2ad1e1ae>\u001b[0m in \u001b[0;36m<module>\u001b[0;34m\u001b[0m\n\u001b[1;32m      1\u001b[0m \u001b[0;31m# train MLP\u001b[0m\u001b[0;34m\u001b[0m\u001b[0;34m\u001b[0m\u001b[0;34m\u001b[0m\u001b[0m\n\u001b[1;32m      2\u001b[0m \u001b[0mn_epochs\u001b[0m \u001b[0;34m=\u001b[0m \u001b[0;36m30\u001b[0m\u001b[0;34m\u001b[0m\u001b[0;34m\u001b[0m\u001b[0m\n\u001b[0;32m----> 3\u001b[0;31m \u001b[0mn_feats\u001b[0m \u001b[0;34m=\u001b[0m \u001b[0mtrainset\u001b[0m\u001b[0;34m.\u001b[0m\u001b[0mX\u001b[0m\u001b[0;34m.\u001b[0m\u001b[0mshape\u001b[0m\u001b[0;34m[\u001b[0m\u001b[0;36m1\u001b[0m\u001b[0;34m]\u001b[0m\u001b[0;34m\u001b[0m\u001b[0;34m\u001b[0m\u001b[0m\n\u001b[0m\u001b[1;32m      4\u001b[0m \u001b[0mn_cats\u001b[0m \u001b[0;34m=\u001b[0m \u001b[0mlen\u001b[0m\u001b[0;34m(\u001b[0m\u001b[0mtop_level_roots\u001b[0m\u001b[0;34m)\u001b[0m\u001b[0;34m\u001b[0m\u001b[0;34m\u001b[0m\u001b[0m\n\u001b[1;32m      5\u001b[0m \u001b[0mlstm\u001b[0m \u001b[0;34m=\u001b[0m \u001b[0mLSTM\u001b[0m\u001b[0;34m(\u001b[0m\u001b[0mn_feats\u001b[0m\u001b[0;34m,\u001b[0m \u001b[0;36m50\u001b[0m\u001b[0;34m,\u001b[0m \u001b[0;36m35\u001b[0m\u001b[0;34m,\u001b[0m \u001b[0mn_cats\u001b[0m\u001b[0;34m)\u001b[0m\u001b[0;34m\u001b[0m\u001b[0;34m\u001b[0m\u001b[0m\n",
      "\u001b[0;31mIndexError\u001b[0m: tuple index out of range"
     ]
    }
   ],
   "source": [
    "# train MLP\n",
    "n_epochs = 30\n",
    "n_feats = trainset.X.shape[1]\n",
    "n_cats = len(top_level_roots)\n",
    "lstm = LSTM(n_feats, 50, 35, n_cats)\n",
    "lstm.run_train(trainloader, n_epochs)"
   ]
  },
  {
   "cell_type": "markdown",
   "metadata": {
    "toc-hr-collapsed": false
   },
   "source": [
    "# Results"
   ]
  },
  {
   "cell_type": "code",
   "execution_count": 28,
   "metadata": {},
   "outputs": [],
   "source": [
    "from sklearn.metrics import (accuracy_score, precision_score, recall_score, f1_score, \n",
    "                             classification_report, precision_recall_curve)\n",
    "from utils import ml_accuracy"
   ]
  },
  {
   "cell_type": "code",
   "execution_count": 38,
   "metadata": {},
   "outputs": [],
   "source": [
    "def ml_accuracy(Y_true: List[List[int]], Y_pred: List[List[int]]) -> float:\n",
    "    \"\"\"Calculate multi-label accuracy.\"\"\"\n",
    "    ratios = []\n",
    "    for z, y in zip(Y_true, Y_pred):\n",
    "        iz = [i for i, val in enumerate(z) if val]\n",
    "        iy = [i for i, val in enumerate(y) if val]\n",
    "        sz, sy = set(iz), set(iy)\n",
    "        ratio = len(sz & sy) / len(sz | sy)\n",
    "        ratios.append(ratio)\n",
    "    acc = sum(ratios) / len(ratios)\n",
    "    return acc"
   ]
  },
  {
   "cell_type": "code",
   "execution_count": 32,
   "metadata": {},
   "outputs": [],
   "source": [
    "# store prediction and probability results\n",
    "pred_clfs = {name: clf.predict(X_test) for name, clf in trained_clfs.items()}\n",
    "prob_clfs = {name: clf.predict_proba(X_test) for name, clf in trained_clfs.items()}"
   ]
  },
  {
   "cell_type": "markdown",
   "metadata": {},
   "source": [
    "## Performance Results"
   ]
  },
  {
   "cell_type": "code",
   "execution_count": 39,
   "metadata": {},
   "outputs": [],
   "source": [
    "# get performance data\n",
    "f1s = [f1_score(Y_test, preds, average=\"weighted\", zero_division=1) for preds in pred_clfs.values()]\n",
    "accs = [ml_accuracy(Y_test, preds) for preds in pred_clfs.values()]\n",
    "precs = [precision_score(Y_test, preds, average=\"weighted\", zero_division=1) for preds in pred_clfs.values()]\n",
    "recs = [recall_score(Y_test, preds, average=\"weighted\", zero_division=1) for preds in pred_clfs.values()]\n",
    "metrics = f1s + accs + precs + recs\n",
    "met_labels = [\"F1 Score\"] * len(pred_clfs) + [\"Accuracy\"] * len(pred_clfs)\\\n",
    "             + [\"Precision\"] * len(pred_clfs) + [\"Recall\"] * len(pred_clfs)\n",
    "clf_names = list(pred_clfs.keys()) * 4"
   ]
  },
  {
   "cell_type": "code",
   "execution_count": 41,
   "metadata": {},
   "outputs": [
    {
     "data": {
      "image/png": "[encoded data removed]",
      "text/plain": [
       "<Figure size 432x288 with 1 Axes>"
      ]
     },
     "metadata": {
      "needs_background": "light"
     },
     "output_type": "display_data"
    }
   ],
   "source": [
    "ax = sns.barplot(x=clf_names, y=metrics, hue=met_labels)\n",
    "ax.set_ylim([0, 1])\n",
    "ax.set(title=\"Model Performance Comparison\")\n",
    "plt.savefig(\"data/images/model_comparison.png\")\n",
    "plt.show()"
   ]
  },
  {
   "cell_type": "markdown",
   "metadata": {},
   "source": [
    "## Classification Reports"
   ]
  },
  {
   "cell_type": "code",
   "execution_count": 42,
   "metadata": {},
   "outputs": [],
   "source": [
    "class_reports = {name: classification_report(Y_test, Y_pred, target_names=class_names, \n",
    "                                             zero_division=1, output_dict=True)\n",
    "                 for name, Y_pred in pred_clfs.items()}\n",
    "crep_dfs = {name: pd.DataFrame(crep).T for name, crep in class_reports.items()}\n",
    "crep_df = pd.concat(crep_dfs, axis=1)"
   ]
  },
  {
   "cell_type": "code",
   "execution_count": 43,
   "metadata": {},
   "outputs": [
    {
     "data": {
      "text/html": [
       "<div>\n",
       "<style scoped>\n",
       "    .dataframe tbody tr th:only-of-type {\n",
       "        vertical-align: middle;\n",
       "    }\n",
       "\n",
       "    .dataframe tbody tr th {\n",
       "        vertical-align: top;\n",
       "    }\n",
       "\n",
       "    .dataframe thead tr th {\n",
       "        text-align: left;\n",
       "    }\n",
       "</style>\n",
       "<table border=\"1\" class=\"dataframe\">\n",
       "  <thead>\n",
       "    <tr>\n",
       "      <th></th>\n",
       "      <th colspan=\"4\" halign=\"left\">LogisticRegression</th>\n",
       "      <th colspan=\"4\" halign=\"left\">MultiLayerPerceptron</th>\n",
       "      <th colspan=\"4\" halign=\"left\">RandomForest</th>\n",
       "    </tr>\n",
       "    <tr>\n",
       "      <th></th>\n",
       "      <th>f1-score</th>\n",
       "      <th>precision</th>\n",
       "      <th>recall</th>\n",
       "      <th>support</th>\n",
       "      <th>f1-score</th>\n",
       "      <th>precision</th>\n",
       "      <th>recall</th>\n",
       "      <th>support</th>\n",
       "      <th>f1-score</th>\n",
       "      <th>precision</th>\n",
       "      <th>recall</th>\n",
       "      <th>support</th>\n",
       "    </tr>\n",
       "  </thead>\n",
       "  <tbody>\n",
       "    <tr>\n",
       "      <th>001-139</th>\n",
       "      <td>0.335766</td>\n",
       "      <td>0.575000</td>\n",
       "      <td>0.237113</td>\n",
       "      <td>97.0</td>\n",
       "      <td>0.333333</td>\n",
       "      <td>0.560976</td>\n",
       "      <td>0.237113</td>\n",
       "      <td>97.0</td>\n",
       "      <td>0.384615</td>\n",
       "      <td>0.508475</td>\n",
       "      <td>0.309278</td>\n",
       "      <td>97.0</td>\n",
       "    </tr>\n",
       "    <tr>\n",
       "      <th>140-239</th>\n",
       "      <td>0.000000</td>\n",
       "      <td>1.000000</td>\n",
       "      <td>0.000000</td>\n",
       "      <td>33.0</td>\n",
       "      <td>0.000000</td>\n",
       "      <td>1.000000</td>\n",
       "      <td>0.000000</td>\n",
       "      <td>33.0</td>\n",
       "      <td>0.000000</td>\n",
       "      <td>1.000000</td>\n",
       "      <td>0.000000</td>\n",
       "      <td>33.0</td>\n",
       "    </tr>\n",
       "    <tr>\n",
       "      <th>240-279</th>\n",
       "      <td>0.716981</td>\n",
       "      <td>0.621495</td>\n",
       "      <td>0.847134</td>\n",
       "      <td>157.0</td>\n",
       "      <td>0.714667</td>\n",
       "      <td>0.614679</td>\n",
       "      <td>0.853503</td>\n",
       "      <td>157.0</td>\n",
       "      <td>0.670554</td>\n",
       "      <td>0.618280</td>\n",
       "      <td>0.732484</td>\n",
       "      <td>157.0</td>\n",
       "    </tr>\n",
       "    <tr>\n",
       "      <th>290-319</th>\n",
       "      <td>0.000000</td>\n",
       "      <td>1.000000</td>\n",
       "      <td>0.000000</td>\n",
       "      <td>64.0</td>\n",
       "      <td>0.000000</td>\n",
       "      <td>1.000000</td>\n",
       "      <td>0.000000</td>\n",
       "      <td>64.0</td>\n",
       "      <td>0.028986</td>\n",
       "      <td>0.200000</td>\n",
       "      <td>0.015625</td>\n",
       "      <td>64.0</td>\n",
       "    </tr>\n",
       "    <tr>\n",
       "      <th>320-389</th>\n",
       "      <td>0.000000</td>\n",
       "      <td>1.000000</td>\n",
       "      <td>0.000000</td>\n",
       "      <td>76.0</td>\n",
       "      <td>0.000000</td>\n",
       "      <td>1.000000</td>\n",
       "      <td>0.000000</td>\n",
       "      <td>76.0</td>\n",
       "      <td>0.180000</td>\n",
       "      <td>0.375000</td>\n",
       "      <td>0.118421</td>\n",
       "      <td>76.0</td>\n",
       "    </tr>\n",
       "    <tr>\n",
       "      <th>390-459</th>\n",
       "      <td>0.879493</td>\n",
       "      <td>0.784906</td>\n",
       "      <td>1.000000</td>\n",
       "      <td>208.0</td>\n",
       "      <td>0.871795</td>\n",
       "      <td>0.784615</td>\n",
       "      <td>0.980769</td>\n",
       "      <td>208.0</td>\n",
       "      <td>0.872247</td>\n",
       "      <td>0.804878</td>\n",
       "      <td>0.951923</td>\n",
       "      <td>208.0</td>\n",
       "    </tr>\n",
       "    <tr>\n",
       "      <th>460-519</th>\n",
       "      <td>0.441441</td>\n",
       "      <td>0.563218</td>\n",
       "      <td>0.362963</td>\n",
       "      <td>135.0</td>\n",
       "      <td>0.452174</td>\n",
       "      <td>0.547368</td>\n",
       "      <td>0.385185</td>\n",
       "      <td>135.0</td>\n",
       "      <td>0.584270</td>\n",
       "      <td>0.590909</td>\n",
       "      <td>0.577778</td>\n",
       "      <td>135.0</td>\n",
       "    </tr>\n",
       "    <tr>\n",
       "      <th>520-579</th>\n",
       "      <td>0.000000</td>\n",
       "      <td>1.000000</td>\n",
       "      <td>0.000000</td>\n",
       "      <td>112.0</td>\n",
       "      <td>0.300654</td>\n",
       "      <td>0.560976</td>\n",
       "      <td>0.205357</td>\n",
       "      <td>112.0</td>\n",
       "      <td>0.284024</td>\n",
       "      <td>0.421053</td>\n",
       "      <td>0.214286</td>\n",
       "      <td>112.0</td>\n",
       "    </tr>\n",
       "    <tr>\n",
       "      <th>580-629</th>\n",
       "      <td>0.519149</td>\n",
       "      <td>0.610000</td>\n",
       "      <td>0.451852</td>\n",
       "      <td>135.0</td>\n",
       "      <td>0.607407</td>\n",
       "      <td>0.607407</td>\n",
       "      <td>0.607407</td>\n",
       "      <td>135.0</td>\n",
       "      <td>0.536000</td>\n",
       "      <td>0.582609</td>\n",
       "      <td>0.496296</td>\n",
       "      <td>135.0</td>\n",
       "    </tr>\n",
       "    <tr>\n",
       "      <th>680-709</th>\n",
       "      <td>0.000000</td>\n",
       "      <td>1.000000</td>\n",
       "      <td>0.000000</td>\n",
       "      <td>46.0</td>\n",
       "      <td>0.000000</td>\n",
       "      <td>1.000000</td>\n",
       "      <td>0.000000</td>\n",
       "      <td>46.0</td>\n",
       "      <td>0.000000</td>\n",
       "      <td>1.000000</td>\n",
       "      <td>0.000000</td>\n",
       "      <td>46.0</td>\n",
       "    </tr>\n",
       "    <tr>\n",
       "      <th>710-739</th>\n",
       "      <td>0.000000</td>\n",
       "      <td>1.000000</td>\n",
       "      <td>0.000000</td>\n",
       "      <td>42.0</td>\n",
       "      <td>0.000000</td>\n",
       "      <td>1.000000</td>\n",
       "      <td>0.000000</td>\n",
       "      <td>42.0</td>\n",
       "      <td>0.044444</td>\n",
       "      <td>0.333333</td>\n",
       "      <td>0.023810</td>\n",
       "      <td>42.0</td>\n",
       "    </tr>\n",
       "    <tr>\n",
       "      <th>760-779</th>\n",
       "      <td>0.000000</td>\n",
       "      <td>1.000000</td>\n",
       "      <td>0.000000</td>\n",
       "      <td>17.0</td>\n",
       "      <td>0.000000</td>\n",
       "      <td>1.000000</td>\n",
       "      <td>0.000000</td>\n",
       "      <td>17.0</td>\n",
       "      <td>0.666667</td>\n",
       "      <td>0.900000</td>\n",
       "      <td>0.529412</td>\n",
       "      <td>17.0</td>\n",
       "    </tr>\n",
       "    <tr>\n",
       "      <th>780-799</th>\n",
       "      <td>0.388060</td>\n",
       "      <td>0.650000</td>\n",
       "      <td>0.276596</td>\n",
       "      <td>94.0</td>\n",
       "      <td>0.400000</td>\n",
       "      <td>0.658537</td>\n",
       "      <td>0.287234</td>\n",
       "      <td>94.0</td>\n",
       "      <td>0.343284</td>\n",
       "      <td>0.575000</td>\n",
       "      <td>0.244681</td>\n",
       "      <td>94.0</td>\n",
       "    </tr>\n",
       "    <tr>\n",
       "      <th>800-999</th>\n",
       "      <td>0.292994</td>\n",
       "      <td>0.575000</td>\n",
       "      <td>0.196581</td>\n",
       "      <td>117.0</td>\n",
       "      <td>0.303797</td>\n",
       "      <td>0.585366</td>\n",
       "      <td>0.205128</td>\n",
       "      <td>117.0</td>\n",
       "      <td>0.343195</td>\n",
       "      <td>0.557692</td>\n",
       "      <td>0.247863</td>\n",
       "      <td>117.0</td>\n",
       "    </tr>\n",
       "    <tr>\n",
       "      <th>V01-V91</th>\n",
       "      <td>0.752941</td>\n",
       "      <td>0.603774</td>\n",
       "      <td>1.000000</td>\n",
       "      <td>160.0</td>\n",
       "      <td>0.752941</td>\n",
       "      <td>0.603774</td>\n",
       "      <td>1.000000</td>\n",
       "      <td>160.0</td>\n",
       "      <td>0.666667</td>\n",
       "      <td>0.626374</td>\n",
       "      <td>0.712500</td>\n",
       "      <td>160.0</td>\n",
       "    </tr>\n",
       "    <tr>\n",
       "      <th>micro avg</th>\n",
       "      <td>0.536950</td>\n",
       "      <td>0.649857</td>\n",
       "      <td>0.457468</td>\n",
       "      <td>1493.0</td>\n",
       "      <td>0.554373</td>\n",
       "      <td>0.641161</td>\n",
       "      <td>0.488279</td>\n",
       "      <td>1493.0</td>\n",
       "      <td>0.536098</td>\n",
       "      <td>0.628263</td>\n",
       "      <td>0.467515</td>\n",
       "      <td>1493.0</td>\n",
       "    </tr>\n",
       "    <tr>\n",
       "      <th>macro avg</th>\n",
       "      <td>0.288455</td>\n",
       "      <td>0.798893</td>\n",
       "      <td>0.291483</td>\n",
       "      <td>1493.0</td>\n",
       "      <td>0.315785</td>\n",
       "      <td>0.768246</td>\n",
       "      <td>0.317447</td>\n",
       "      <td>1493.0</td>\n",
       "      <td>0.373663</td>\n",
       "      <td>0.606240</td>\n",
       "      <td>0.344957</td>\n",
       "      <td>1493.0</td>\n",
       "    </tr>\n",
       "    <tr>\n",
       "      <th>weighted avg</th>\n",
       "      <td>0.434681</td>\n",
       "      <td>0.730056</td>\n",
       "      <td>0.457468</td>\n",
       "      <td>1493.0</td>\n",
       "      <td>0.466310</td>\n",
       "      <td>0.695135</td>\n",
       "      <td>0.488279</td>\n",
       "      <td>1493.0</td>\n",
       "      <td>0.478823</td>\n",
       "      <td>0.595117</td>\n",
       "      <td>0.467515</td>\n",
       "      <td>1493.0</td>\n",
       "    </tr>\n",
       "    <tr>\n",
       "      <th>samples avg</th>\n",
       "      <td>0.497916</td>\n",
       "      <td>0.646572</td>\n",
       "      <td>0.456148</td>\n",
       "      <td>1493.0</td>\n",
       "      <td>0.509544</td>\n",
       "      <td>0.640566</td>\n",
       "      <td>0.482755</td>\n",
       "      <td>1493.0</td>\n",
       "      <td>0.501522</td>\n",
       "      <td>0.639043</td>\n",
       "      <td>0.476330</td>\n",
       "      <td>1493.0</td>\n",
       "    </tr>\n",
       "  </tbody>\n",
       "</table>\n",
       "</div>"
      ],
      "text/plain": [
       "             LogisticRegression                              \\\n",
       "                       f1-score precision    recall support   \n",
       "001-139                0.335766  0.575000  0.237113    97.0   \n",
       "140-239                0.000000  1.000000  0.000000    33.0   \n",
       "240-279                0.716981  0.621495  0.847134   157.0   \n",
       "290-319                0.000000  1.000000  0.000000    64.0   \n",
       "320-389                0.000000  1.000000  0.000000    76.0   \n",
       "390-459                0.879493  0.784906  1.000000   208.0   \n",
       "460-519                0.441441  0.563218  0.362963   135.0   \n",
       "520-579                0.000000  1.000000  0.000000   112.0   \n",
       "580-629                0.519149  0.610000  0.451852   135.0   \n",
       "680-709                0.000000  1.000000  0.000000    46.0   \n",
       "710-739                0.000000  1.000000  0.000000    42.0   \n",
       "760-779                0.000000  1.000000  0.000000    17.0   \n",
       "780-799                0.388060  0.650000  0.276596    94.0   \n",
       "800-999                0.292994  0.575000  0.196581   117.0   \n",
       "V01-V91                0.752941  0.603774  1.000000   160.0   \n",
       "micro avg              0.536950  0.649857  0.457468  1493.0   \n",
       "macro avg              0.288455  0.798893  0.291483  1493.0   \n",
       "weighted avg           0.434681  0.730056  0.457468  1493.0   \n",
       "samples avg            0.497916  0.646572  0.456148  1493.0   \n",
       "\n",
       "             MultiLayerPerceptron                             RandomForest  \\\n",
       "                         f1-score precision    recall support     f1-score   \n",
       "001-139                  0.333333  0.560976  0.237113    97.0     0.384615   \n",
       "140-239                  0.000000  1.000000  0.000000    33.0     0.000000   \n",
       "240-279                  0.714667  0.614679  0.853503   157.0     0.670554   \n",
       "290-319                  0.000000  1.000000  0.000000    64.0     0.028986   \n",
       "320-389                  0.000000  1.000000  0.000000    76.0     0.180000   \n",
       "390-459                  0.871795  0.784615  0.980769   208.0     0.872247   \n",
       "460-519                  0.452174  0.547368  0.385185   135.0     0.584270   \n",
       "520-579                  0.300654  0.560976  0.205357   112.0     0.284024   \n",
       "580-629                  0.607407  0.607407  0.607407   135.0     0.536000   \n",
       "680-709                  0.000000  1.000000  0.000000    46.0     0.000000   \n",
       "710-739                  0.000000  1.000000  0.000000    42.0     0.044444   \n",
       "760-779                  0.000000  1.000000  0.000000    17.0     0.666667   \n",
       "780-799                  0.400000  0.658537  0.287234    94.0     0.343284   \n",
       "800-999                  0.303797  0.585366  0.205128   117.0     0.343195   \n",
       "V01-V91                  0.752941  0.603774  1.000000   160.0     0.666667   \n",
       "micro avg                0.554373  0.641161  0.488279  1493.0     0.536098   \n",
       "macro avg                0.315785  0.768246  0.317447  1493.0     0.373663   \n",
       "weighted avg             0.466310  0.695135  0.488279  1493.0     0.478823   \n",
       "samples avg              0.509544  0.640566  0.482755  1493.0     0.501522   \n",
       "\n",
       "                                          \n",
       "             precision    recall support  \n",
       "001-139       0.508475  0.309278    97.0  \n",
       "140-239       1.000000  0.000000    33.0  \n",
       "240-279       0.618280  0.732484   157.0  \n",
       "290-319       0.200000  0.015625    64.0  \n",
       "320-389       0.375000  0.118421    76.0  \n",
       "390-459       0.804878  0.951923   208.0  \n",
       "460-519       0.590909  0.577778   135.0  \n",
       "520-579       0.421053  0.214286   112.0  \n",
       "580-629       0.582609  0.496296   135.0  \n",
       "680-709       1.000000  0.000000    46.0  \n",
       "710-739       0.333333  0.023810    42.0  \n",
       "760-779       0.900000  0.529412    17.0  \n",
       "780-799       0.575000  0.244681    94.0  \n",
       "800-999       0.557692  0.247863   117.0  \n",
       "V01-V91       0.626374  0.712500   160.0  \n",
       "micro avg     0.628263  0.467515  1493.0  \n",
       "macro avg     0.606240  0.344957  1493.0  \n",
       "weighted avg  0.595117  0.467515  1493.0  \n",
       "samples avg   0.639043  0.476330  1493.0  "
      ]
     },
     "execution_count": 43,
     "metadata": {},
     "output_type": "execute_result"
    }
   ],
   "source": [
    "crep_df"
   ]
  },
  {
   "cell_type": "markdown",
   "metadata": {},
   "source": [
    "## Probability Distributions"
   ]
  },
  {
   "cell_type": "code",
   "execution_count": 45,
   "metadata": {},
   "outputs": [
    {
     "data": {
      "image/png": "[encoded data removed]",
      "text/plain": [
       "<Figure size 720x360 with 3 Axes>"
      ]
     },
     "metadata": {
      "needs_background": "light"
     },
     "output_type": "display_data"
    }
   ],
   "source": [
    "fig, axs = plt.subplots(1, len(prob_clfs), sharey=\"all\", sharex=\"all\")\n",
    "for ax, name, probs in zip(axs, prob_clfs.keys(), prob_clfs.values()):\n",
    "    ax.hist(probs.flatten())\n",
    "    ax.set(title=name)\n",
    "fig.set_size_inches(10, 5)\n",
    "fig.suptitle(\"Predicted Probability Distributions\")\n",
    "plt.savefig(\"data/images/prob_dists.png\")\n",
    "plt.show()"
   ]
  },
  {
   "cell_type": "markdown",
   "metadata": {},
   "source": [
    "## Precision/Recall Curves"
   ]
  },
  {
   "cell_type": "code",
   "execution_count": 46,
   "metadata": {},
   "outputs": [],
   "source": [
    "def pr_curve(clf_name, probs, y_true, thresholds):\n",
    "    \"\"\"\n",
    "    Generate precision/recall curve data for a given classifier.\n",
    "\n",
    "    Implementation is custom because sklearn doesn't\n",
    "    support multilabel classification for pr curve.\n",
    "    \"\"\"\n",
    "    precs = []\n",
    "    recs = []\n",
    "    for thresh in thresholds:\n",
    "        preds = probs_to_preds(probs, thresh)\n",
    "        precs.append(precision_score(y_true, preds, average=\"weighted\", zero_division=1))\n",
    "        recs.append(recall_score(y_true, preds, average=\"weighted\", zero_division=1))\n",
    "    data = {\"Classifier\": [clf_name] * len(thresholds),\n",
    "            \"Precision\": precs, \n",
    "            \"Recall\": recs, \n",
    "            \"Threshold\": thresholds}\n",
    "    return pd.DataFrame(data)"
   ]
  },
  {
   "cell_type": "code",
   "execution_count": 47,
   "metadata": {},
   "outputs": [],
   "source": [
    "# extract precision/recall data across thresholds\n",
    "thresholds = np.linspace(0, 1, 100)\n",
    "pr_dfs = [pr_curve(name, probs, Y_test, thresholds) for name, probs in prob_clfs.items()]\n",
    "pr_df = pd.concat(pr_dfs)"
   ]
  },
  {
   "cell_type": "code",
   "execution_count": 48,
   "metadata": {},
   "outputs": [
    {
     "data": {
      "image/png": "[encoded data removed]",
      "text/plain": [
       "<Figure size 432x288 with 1 Axes>"
      ]
     },
     "metadata": {
      "needs_background": "light"
     },
     "output_type": "display_data"
    }
   ],
   "source": [
    "# plot precision recall curve for each classifier\n",
    "ax = sns.lineplot(x=\"Recall\", y=\"Precision\", hue=\"Classifier\", data=pr_df)\n",
    "ax.set_ylim([0, 1])\n",
    "ax.set_xlim([0, 1])\n",
    "ax.set(title=\"Precision Recall Curve\")\n",
    "plt.savefig(\"data/images/prec_rec.png\")\n",
    "plt.show()"
   ]
  },
  {
   "cell_type": "markdown",
   "metadata": {},
   "source": [
    "## Category Performance"
   ]
  },
  {
   "cell_type": "code",
   "execution_count": 366,
   "metadata": {},
   "outputs": [],
   "source": [
    "# read in data\n",
    "with get_conn() as conn:\n",
    "    cursor = conn.cursor()\n",
    "    query = f\"\"\"\n",
    "    SELECT\n",
    "      row_id as row_id,\n",
    "      category\n",
    "    FROM\n",
    "      mimiciii.noteevents;\n",
    "    \"\"\"\n",
    "    cat_df = as_pandas(cursor.execute(query))"
   ]
  },
  {
   "cell_type": "code",
   "execution_count": 377,
   "metadata": {},
   "outputs": [
    {
     "data": {
      "text/html": [
       "<div>\n",
       "<style scoped>\n",
       "    .dataframe tbody tr th:only-of-type {\n",
       "        vertical-align: middle;\n",
       "    }\n",
       "\n",
       "    .dataframe tbody tr th {\n",
       "        vertical-align: top;\n",
       "    }\n",
       "\n",
       "    .dataframe thead th {\n",
       "        text-align: right;\n",
       "    }\n",
       "</style>\n",
       "<table border=\"1\" class=\"dataframe\">\n",
       "  <thead>\n",
       "    <tr style=\"text-align: right;\">\n",
       "      <th></th>\n",
       "      <th>row_id</th>\n",
       "      <th>category</th>\n",
       "    </tr>\n",
       "  </thead>\n",
       "  <tbody>\n",
       "    <tr>\n",
       "      <th>0</th>\n",
       "      <td>20030</td>\n",
       "      <td>Discharge summary</td>\n",
       "    </tr>\n",
       "    <tr>\n",
       "      <th>1</th>\n",
       "      <td>20031</td>\n",
       "      <td>Discharge summary</td>\n",
       "    </tr>\n",
       "    <tr>\n",
       "      <th>2</th>\n",
       "      <td>20032</td>\n",
       "      <td>Discharge summary</td>\n",
       "    </tr>\n",
       "    <tr>\n",
       "      <th>3</th>\n",
       "      <td>20033</td>\n",
       "      <td>Discharge summary</td>\n",
       "    </tr>\n",
       "    <tr>\n",
       "      <th>4</th>\n",
       "      <td>20034</td>\n",
       "      <td>Discharge summary</td>\n",
       "    </tr>\n",
       "  </tbody>\n",
       "</table>\n",
       "</div>"
      ],
      "text/plain": [
       "   row_id           category\n",
       "0   20030  Discharge summary\n",
       "1   20031  Discharge summary\n",
       "2   20032  Discharge summary\n",
       "3   20033  Discharge summary\n",
       "4   20034  Discharge summary"
      ]
     },
     "execution_count": 377,
     "metadata": {},
     "output_type": "execute_result"
    }
   ],
   "source": [
    "cat_df.head()"
   ]
  },
  {
   "cell_type": "code",
   "execution_count": null,
   "metadata": {},
   "outputs": [],
   "source": [
    "merged_df = cat_df.merge(pd.DataFrame({\"accaccs))"
   ]
  }
 ],
 "metadata": {
  "kernelspec": {
   "display_name": "Python 3",
   "language": "python",
   "name": "python3"
  },
  "language_info": {
   "codemirror_mode": {
    "name": "ipython",
    "version": 3
   },
   "file_extension": ".py",
   "mimetype": "text/x-python",
   "name": "python",
   "nbconvert_exporter": "python",
   "pygments_lexer": "ipython3",
   "version": "3.7.5"
  }
 },
 "nbformat": 4,
 "nbformat_minor": 4
}
