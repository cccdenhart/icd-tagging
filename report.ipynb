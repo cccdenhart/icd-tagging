{
 "cells": [
  {
   "cell_type": "markdown",
   "metadata": {},
   "source": [
    "# Introduction"
   ]
  },
  {
   "cell_type": "markdown",
   "metadata": {},
   "source": [
    "This project is attempt to assign ICD9 codes autonomously to clinical notes in eletronic medical records through machine learning models. \n",
    "\n",
    "### Data\n",
    "The [MIMIC-III](https://github.com/MIT-LCP/mimic-code) dataset was used to train all models.  Since this was a multilabel text classification task, a fair amount of preprocessing was necessary.  Clinical notes were embedded (converted from text to a dense vector representation) with [word2vec](https://papers.nips.cc/paper/5021-distributed-representations-of-words-and-phrases-and-their-compositionality.pdf) embeddings pretraiend on Google News and [BERT](https://arxiv.org/abs/1810.04805) embeddings pretrained on the MIMIC-III dataset.  Results using the BERT embeddings, though, have not yet been obtained.  ICD9 codes were grouped with the clinical notes on the `hadm_id` column in MIMIC-III.  This resulted in a varying number of ICD9 codes being associated with each clinical note (hence the multilabel classification task).  \n",
    "\n",
    "Exploratory visualizations of the dataset can be found in [this](#visid) section.  \n",
    "\n",
    "### Models\n",
    "\n",
    "The baseline models trained for this task were a logistic regression, a random forest, and a multilayer perceptron.  The word2vec embeddings were element-wise averaged across all words in a given note to obtain a document representation.  \n",
    "\n",
    "![](./images/lstm_colah.png)\n",
    "A long short-term memory model was also trained using PyTorch in an attempt to leverage sequential relationships between words in clinical notes.\n",
    "\n",
    "Results from the models that were trained can be found [here](#resid).\n",
    "\n",
    "Note: LSTM image obtained from http://colah.github.io/posts/2015-08-Understanding-LSTMs/"
   ]
  },
  {
   "cell_type": "markdown",
   "metadata": {
    "toc-hr-collapsed": true
   },
   "source": [
    "# Read Data"
   ]
  },
  {
   "cell_type": "code",
   "execution_count": 8,
   "metadata": {},
   "outputs": [],
   "source": [
    "import pandas as pd\n",
    "import numpy as np\n",
    "import functools as ft\n",
    "import itertools as it\n",
    "import os\n",
    "from typing import List, Set, Dict, Tuple\n",
    "from utils import get_conn, query_aws, PROJ_DIR, TREE, V_CODE\n",
    "import tqdm\n",
    "import spacy\n",
    "from itertools import chain\n",
    "from collections import Counter\n",
    "import torch\n",
    "import math\n",
    "import re\n",
    "pd.set_option('display.max_colwidth', -1)\n",
    "nlp = spacy.load(\"en_core_web_sm\")"
   ]
  },
  {
   "cell_type": "code",
   "execution_count": 3,
   "metadata": {},
   "outputs": [],
   "source": [
    "# read in list of all notes\n",
    "notes_df = query_aws(\"select text from mimiciii.noteevents limit 50000\")\n",
    "notes = notes_df[\"text\"].tolist()"
   ]
  },
  {
   "cell_type": "code",
   "execution_count": 9,
   "metadata": {},
   "outputs": [],
   "source": [
    "# set data locations\n",
    "datadir = os.path.join(PROJ_DIR, \"data\", \"preprocessed\")\n",
    "imagedir = os.path.join(PROJ_DIR, \"images\")\n",
    "modeldir = os.path.join(PROJ_DIR, \"data\", \"models\")\n",
    "\n",
    "# load all processed data (with embeddings excluded)\n",
    "df = pd.read_pickle(os.path.join(datadir, \"visdata.pd\"))\n",
    "\n",
    "# load test data\n",
    "test_df = pd.read_pickle(os.path.join(datadir, \"test.pd\"))\n",
    "Y_test = test_df[\"roots\"].tolist()\n",
    "class_names = pd.read_csv(os.path.join(datadir, \"class_names.csv\"), \n",
    "                          header=None, squeeze=True).tolist()"
   ]
  },
  {
   "cell_type": "code",
   "execution_count": 10,
   "metadata": {},
   "outputs": [],
   "source": [
    "# add root names to df\n",
    "get_codes = lambda dummies: [class_names[i] for i, dum in enumerate(dummies) if dum]\n",
    "df[\"root_names\"] = df[\"roots\"].apply(get_codes)"
   ]
  },
  {
   "cell_type": "markdown",
   "metadata": {},
   "source": [
    "<a id=\"visid\"></a>"
   ]
  },
  {
   "cell_type": "markdown",
   "metadata": {
    "slideshow": {
     "slide_type": "slide"
    },
    "toc-hr-collapsed": false
   },
   "source": [
    "# Exploratory Visualizations"
   ]
  },
  {
   "cell_type": "code",
   "execution_count": 26,
   "metadata": {},
   "outputs": [],
   "source": [
    "from scripts.visdata import summary_table, note_lengths, icd_summary\n",
    "import matplotlib.pyplot as plt\n",
    "import seaborn as sns\n",
    "from wordcloud import WordCloud"
   ]
  },
  {
   "cell_type": "markdown",
   "metadata": {
    "toc-hr-collapsed": true
   },
   "source": [
    "## Summary Tables"
   ]
  },
  {
   "cell_type": "code",
   "execution_count": 100,
   "metadata": {
    "collapsed": true,
    "jupyter": {
     "outputs_hidden": true
    }
   },
   "outputs": [
    {
     "name": "stderr",
     "output_type": "stream",
     "text": [
      "/Users/cccdenhart/Documents/projects/icd_tagging/scripts/visdata.py:63: FutureWarning: Sorting because non-concatenation axis is not aligned. A future version\n",
      "of pandas will change to not sort by default.\n",
      "\n",
      "To accept the future behavior, pass 'sort=False'.\n",
      "\n",
      "To retain the current behavior and silence the warning, pass 'sort=True'.\n",
      "\n",
      "  summary_df = pd.concat([totals_df, gender_df, insurance_df], axis=0)\n"
     ]
    }
   ],
   "source": [
    "# load summary table data\n",
    "summ_df = summary_table(query_aws)\n",
    "row_order = [\"Patients\", \"Admissions\", \"ICD9 Codes\", \"Deaths\"]\n",
    "col_order = [\"Totals\", \"Male\", \"Female\", \"Private\", \"Medicare\", \"Medicaid\", \"Government\", \"Self Pay\"]\n",
    "summ_df = summ_df.loc[row_order, col_order]"
   ]
  },
  {
   "cell_type": "code",
   "execution_count": 107,
   "metadata": {},
   "outputs": [
    {
     "data": {
      "text/html": [
       "<div>\n",
       "<style scoped>\n",
       "    .dataframe tbody tr th:only-of-type {\n",
       "        vertical-align: middle;\n",
       "    }\n",
       "\n",
       "    .dataframe tbody tr th {\n",
       "        vertical-align: top;\n",
       "    }\n",
       "\n",
       "    .dataframe thead th {\n",
       "        text-align: right;\n",
       "    }\n",
       "</style>\n",
       "<table border=\"1\" class=\"dataframe\">\n",
       "  <thead>\n",
       "    <tr style=\"text-align: right;\">\n",
       "      <th>Category</th>\n",
       "      <th>Totals</th>\n",
       "      <th>Male</th>\n",
       "      <th>Female</th>\n",
       "      <th>Private</th>\n",
       "      <th>Medicare</th>\n",
       "      <th>Medicaid</th>\n",
       "      <th>Government</th>\n",
       "      <th>Self Pay</th>\n",
       "    </tr>\n",
       "  </thead>\n",
       "  <tbody>\n",
       "    <tr>\n",
       "      <th>Patients</th>\n",
       "      <td>46520</td>\n",
       "      <td>26121</td>\n",
       "      <td>20399</td>\n",
       "      <td>19663</td>\n",
       "      <td>21002</td>\n",
       "      <td>4570</td>\n",
       "      <td>1614</td>\n",
       "      <td>600</td>\n",
       "    </tr>\n",
       "    <tr>\n",
       "      <th>Admissions</th>\n",
       "      <td>58976</td>\n",
       "      <td>32950</td>\n",
       "      <td>26026</td>\n",
       "      <td>22582</td>\n",
       "      <td>28215</td>\n",
       "      <td>5785</td>\n",
       "      <td>1783</td>\n",
       "      <td>611</td>\n",
       "    </tr>\n",
       "    <tr>\n",
       "      <th>ICD9 Codes</th>\n",
       "      <td>11501</td>\n",
       "      <td>5852</td>\n",
       "      <td>5649</td>\n",
       "      <td>5718</td>\n",
       "      <td>5023</td>\n",
       "      <td>3989</td>\n",
       "      <td>2657</td>\n",
       "      <td>1467</td>\n",
       "    </tr>\n",
       "    <tr>\n",
       "      <th>Deaths</th>\n",
       "      <td>5836</td>\n",
       "      <td>3141</td>\n",
       "      <td>2695</td>\n",
       "      <td>1372</td>\n",
       "      <td>3903</td>\n",
       "      <td>381</td>\n",
       "      <td>90</td>\n",
       "      <td>95</td>\n",
       "    </tr>\n",
       "  </tbody>\n",
       "</table>\n",
       "</div>"
      ],
      "text/plain": [
       "Category    Totals   Male  Female  Private  Medicare  Medicaid  Government  \\\n",
       "Patients    46520   26121  20399   19663    21002     4570      1614         \n",
       "Admissions  58976   32950  26026   22582    28215     5785      1783         \n",
       "ICD9 Codes  11501   5852   5649    5718     5023      3989      2657         \n",
       "Deaths      5836    3141   2695    1372     3903      381       90           \n",
       "\n",
       "Category    Self Pay  \n",
       "Patients    600       \n",
       "Admissions  611       \n",
       "ICD9 Codes  1467      \n",
       "Deaths      95        "
      ]
     },
     "execution_count": 107,
     "metadata": {},
     "output_type": "execute_result"
    }
   ],
   "source": [
    "summ_df"
   ]
  },
  {
   "cell_type": "markdown",
   "metadata": {},
   "source": [
    "### ICD9 Summary\n",
    "Due to the granularity of ICD9 codes, only the top level of codes in the ICD9 hierarchy were used for classification. They are summarized below."
   ]
  },
  {
   "cell_type": "code",
   "execution_count": 102,
   "metadata": {},
   "outputs": [],
   "source": [
    "all_roots = list(it.chain.from_iterable(df[\"root_names\"].tolist()))\n",
    "icd_table = icd_summary(all_roots, TREE)"
   ]
  },
  {
   "cell_type": "code",
   "execution_count": 108,
   "metadata": {},
   "outputs": [
    {
     "data": {
      "text/html": [
       "<div>\n",
       "<style scoped>\n",
       "    .dataframe tbody tr th:only-of-type {\n",
       "        vertical-align: middle;\n",
       "    }\n",
       "\n",
       "    .dataframe tbody tr th {\n",
       "        vertical-align: top;\n",
       "    }\n",
       "\n",
       "    .dataframe thead th {\n",
       "        text-align: right;\n",
       "    }\n",
       "</style>\n",
       "<table border=\"1\" class=\"dataframe\">\n",
       "  <thead>\n",
       "    <tr style=\"text-align: right;\">\n",
       "      <th></th>\n",
       "      <th>Code</th>\n",
       "      <th>Mimic-iii Counts</th>\n",
       "      <th>Number of Leaves</th>\n",
       "      <th>Description</th>\n",
       "    </tr>\n",
       "  </thead>\n",
       "  <tbody>\n",
       "    <tr>\n",
       "      <th>0</th>\n",
       "      <td>001-139</td>\n",
       "      <td>173037</td>\n",
       "      <td>871</td>\n",
       "      <td>INFECTIOUS AND PARASITIC DISEASES</td>\n",
       "    </tr>\n",
       "    <tr>\n",
       "      <th>1</th>\n",
       "      <td>140-239</td>\n",
       "      <td>56220</td>\n",
       "      <td>660</td>\n",
       "      <td>NEOPLASMS</td>\n",
       "    </tr>\n",
       "    <tr>\n",
       "      <th>2</th>\n",
       "      <td>240-279</td>\n",
       "      <td>256828</td>\n",
       "      <td>278</td>\n",
       "      <td>ENDOCRINE, NUTRITIONAL AND METABOLIC DISEASES, AND IMMUNITY DISORDERS</td>\n",
       "    </tr>\n",
       "    <tr>\n",
       "      <th>3</th>\n",
       "      <td>280-289</td>\n",
       "      <td>0</td>\n",
       "      <td>10</td>\n",
       "      <td>DISEASES OF THE BLOOD AND BLOOD-FORMING ORGANS</td>\n",
       "    </tr>\n",
       "    <tr>\n",
       "      <th>4</th>\n",
       "      <td>290-319</td>\n",
       "      <td>106277</td>\n",
       "      <td>307</td>\n",
       "      <td>MENTAL DISORDERS</td>\n",
       "    </tr>\n",
       "    <tr>\n",
       "      <th>5</th>\n",
       "      <td>320-389</td>\n",
       "      <td>153848</td>\n",
       "      <td>1334</td>\n",
       "      <td>DISEASES OF THE NERVOUS SYSTEM AND SENSE ORGANS</td>\n",
       "    </tr>\n",
       "    <tr>\n",
       "      <th>6</th>\n",
       "      <td>390-459</td>\n",
       "      <td>334785</td>\n",
       "      <td>403</td>\n",
       "      <td>DISEASES OF THE CIRCULATORY SYSTEM</td>\n",
       "    </tr>\n",
       "    <tr>\n",
       "      <th>7</th>\n",
       "      <td>460-519</td>\n",
       "      <td>269565</td>\n",
       "      <td>217</td>\n",
       "      <td>DISEASES OF THE RESPIRATORY SYSTEM</td>\n",
       "    </tr>\n",
       "    <tr>\n",
       "      <th>8</th>\n",
       "      <td>520-579</td>\n",
       "      <td>192481</td>\n",
       "      <td>519</td>\n",
       "      <td>DISEASES OF THE DIGESTIVE SYSTEM</td>\n",
       "    </tr>\n",
       "    <tr>\n",
       "      <th>9</th>\n",
       "      <td>580-629</td>\n",
       "      <td>213352</td>\n",
       "      <td>382</td>\n",
       "      <td>DISEASES OF THE GENITOURINARY SYSTEM</td>\n",
       "    </tr>\n",
       "    <tr>\n",
       "      <th>10</th>\n",
       "      <td>630-679</td>\n",
       "      <td>63</td>\n",
       "      <td>327</td>\n",
       "      <td>COMPLICATIONS OF PREGNANCY, CHILDBIRTH, AND THE PUERPERIUM</td>\n",
       "    </tr>\n",
       "    <tr>\n",
       "      <th>11</th>\n",
       "      <td>680-709</td>\n",
       "      <td>77158</td>\n",
       "      <td>202</td>\n",
       "      <td>DISEASES OF THE SKIN AND SUBCUTANEOUS TISSUE</td>\n",
       "    </tr>\n",
       "    <tr>\n",
       "      <th>12</th>\n",
       "      <td>710-739</td>\n",
       "      <td>63633</td>\n",
       "      <td>417</td>\n",
       "      <td>DISEASES OF THE MUSCULOSKELETAL SYSTEM AND CONNECTIVE TISSUE</td>\n",
       "    </tr>\n",
       "    <tr>\n",
       "      <th>13</th>\n",
       "      <td>740-759</td>\n",
       "      <td>0</td>\n",
       "      <td>19</td>\n",
       "      <td>CONGENITAL ANOMALIES</td>\n",
       "    </tr>\n",
       "    <tr>\n",
       "      <th>14</th>\n",
       "      <td>760-779</td>\n",
       "      <td>112308</td>\n",
       "      <td>219</td>\n",
       "      <td>CERTAIN CONDITIONS ORIGINATING IN THE PERINATAL PERIOD</td>\n",
       "    </tr>\n",
       "    <tr>\n",
       "      <th>15</th>\n",
       "      <td>780-799</td>\n",
       "      <td>195940</td>\n",
       "      <td>308</td>\n",
       "      <td>SYMPTOMS, SIGNS, AND ILL-DEFINED CONDITIONS</td>\n",
       "    </tr>\n",
       "    <tr>\n",
       "      <th>16</th>\n",
       "      <td>800-999</td>\n",
       "      <td>221638</td>\n",
       "      <td>1558</td>\n",
       "      <td>INJURY AND POISONING</td>\n",
       "    </tr>\n",
       "    <tr>\n",
       "      <th>17</th>\n",
       "      <td>V01-V91</td>\n",
       "      <td>283792</td>\n",
       "      <td>985</td>\n",
       "      <td>SUPPLEMENTARY CLASSIFICATION OF FACTORS INFLUENCING HEALTH STATUS AND CONTACT WITH HEALTH SERVICES</td>\n",
       "    </tr>\n",
       "  </tbody>\n",
       "</table>\n",
       "</div>"
      ],
      "text/plain": [
       "       Code  Mimic-iii Counts  Number of Leaves  \\\n",
       "0   001-139  173037            871                \n",
       "1   140-239  56220             660                \n",
       "2   240-279  256828            278                \n",
       "3   280-289  0                 10                 \n",
       "4   290-319  106277            307                \n",
       "5   320-389  153848            1334               \n",
       "6   390-459  334785            403                \n",
       "7   460-519  269565            217                \n",
       "8   520-579  192481            519                \n",
       "9   580-629  213352            382                \n",
       "10  630-679  63                327                \n",
       "11  680-709  77158             202                \n",
       "12  710-739  63633             417                \n",
       "13  740-759  0                 19                 \n",
       "14  760-779  112308            219                \n",
       "15  780-799  195940            308                \n",
       "16  800-999  221638            1558               \n",
       "17  V01-V91  283792            985                \n",
       "\n",
       "                                                                                           Description  \n",
       "0   INFECTIOUS AND PARASITIC DISEASES                                                                   \n",
       "1   NEOPLASMS                                                                                           \n",
       "2   ENDOCRINE, NUTRITIONAL AND METABOLIC DISEASES, AND IMMUNITY DISORDERS                               \n",
       "3   DISEASES OF THE BLOOD AND BLOOD-FORMING ORGANS                                                      \n",
       "4   MENTAL DISORDERS                                                                                    \n",
       "5   DISEASES OF THE NERVOUS SYSTEM AND SENSE ORGANS                                                     \n",
       "6   DISEASES OF THE CIRCULATORY SYSTEM                                                                  \n",
       "7   DISEASES OF THE RESPIRATORY SYSTEM                                                                  \n",
       "8   DISEASES OF THE DIGESTIVE SYSTEM                                                                    \n",
       "9   DISEASES OF THE GENITOURINARY SYSTEM                                                                \n",
       "10  COMPLICATIONS OF PREGNANCY, CHILDBIRTH, AND THE PUERPERIUM                                          \n",
       "11  DISEASES OF THE SKIN AND SUBCUTANEOUS TISSUE                                                        \n",
       "12  DISEASES OF THE MUSCULOSKELETAL SYSTEM AND CONNECTIVE TISSUE                                        \n",
       "13  CONGENITAL ANOMALIES                                                                                \n",
       "14  CERTAIN CONDITIONS ORIGINATING IN THE PERINATAL PERIOD                                              \n",
       "15  SYMPTOMS, SIGNS, AND ILL-DEFINED CONDITIONS                                                         \n",
       "16  INJURY AND POISONING                                                                                \n",
       "17  SUPPLEMENTARY CLASSIFICATION OF FACTORS INFLUENCING HEALTH STATUS AND CONTACT WITH HEALTH SERVICES  "
      ]
     },
     "execution_count": 108,
     "metadata": {},
     "output_type": "execute_result"
    }
   ],
   "source": [
    "icd_table"
   ]
  },
  {
   "cell_type": "markdown",
   "metadata": {
    "slideshow": {
     "slide_type": "skip"
    }
   },
   "source": [
    "## Categories"
   ]
  },
  {
   "cell_type": "markdown",
   "metadata": {},
   "source": [
    "Clinical notes are binned (exclusively) into several different cateogories.  "
   ]
  },
  {
   "cell_type": "code",
   "execution_count": 22,
   "metadata": {
    "slideshow": {
     "slide_type": "skip"
    }
   },
   "outputs": [],
   "source": [
    "query = \"select category, count(row_id) from mimiciii.noteevents group by category;\"\n",
    "ccounts_df = query_aws(query)\n",
    "ccounts_df.columns = [\"Category\", \"Count\"]\n",
    "ccounts_df = ccounts_df.sort_values(\"Count\", ascending=False)"
   ]
  },
  {
   "cell_type": "code",
   "execution_count": 42,
   "metadata": {
    "slideshow": {
     "slide_type": "subslide"
    }
   },
   "outputs": [
    {
     "data": {
      "image/png": "[encoded data removed]",
      "text/plain": [
       "<Figure size 432x288 with 1 Axes>"
      ]
     },
     "metadata": {
      "needs_background": "light"
     },
     "output_type": "display_data"
    }
   ],
   "source": [
    "cat_fp = os.path.join(imagedir, \"categories.png\")\n",
    "ax = sns.barplot(x=\"Category\", y=\"Count\", data=ccounts_df)\n",
    "ax.set_title(\"Counts by Category\")\n",
    "plt.setp(ax.get_xticklabels(), ha=\"right\", rotation=45)\n",
    "plt.tight_layout()\n",
    "plt.savefig(cat_fp)\n",
    "plt.show()"
   ]
  },
  {
   "cell_type": "markdown",
   "metadata": {},
   "source": [
    "## Distributions"
   ]
  },
  {
   "cell_type": "code",
   "execution_count": 63,
   "metadata": {},
   "outputs": [],
   "source": [
    "icd_lens = [len(r) for r in df[\"root_names\"].tolist()]\n",
    "note_lens = notes_df[\"text\"].apply(lambda s: len(re.findall(r'\\w+', s)))\n",
    "note_lens_mid = lens[lens.between(lens.quantile(.1), lens.quantile(.9))]"
   ]
  },
  {
   "cell_type": "code",
   "execution_count": 69,
   "metadata": {},
   "outputs": [
    {
     "data": {
      "image/png": "[encoded data removed]",
      "text/plain": [
       "<Figure size 432x288 with 1 Axes>"
      ]
     },
     "metadata": {
      "needs_background": "light"
     },
     "output_type": "display_data"
    },
    {
     "data": {
      "image/png": "[encoded data removed]",
      "text/plain": [
       "<Figure size 432x288 with 1 Axes>"
      ]
     },
     "metadata": {
      "needs_background": "light"
     },
     "output_type": "display_data"
    }
   ],
   "source": [
    "ax = sns.distplot(icd_lens)\n",
    "ax.set(xlabel=\"Number of Top Level ICD Codes\",\n",
    "       title=\"Distribution of Top Level ICD Codes per Note\")\n",
    "plt.savefig(os.path.join(imagedir, \"num_icd_codes.png\"))\n",
    "plt.show()\n",
    "\n",
    "ax = sns.distplot(note_lens_mid)\n",
    "ax.set_title(\"Distribution of Number of Words in a Note\")\n",
    "ax.set_xlabel(\"Word Count\")\n",
    "plt.savefig(os.path.join(imagedir, \"word_counts.png\"))\n",
    "\n",
    "plt.show()"
   ]
  },
  {
   "cell_type": "markdown",
   "metadata": {},
   "source": [
    "## ICD Codes by Insurance"
   ]
  },
  {
   "cell_type": "code",
   "execution_count": 60,
   "metadata": {},
   "outputs": [],
   "source": [
    "# read data\n",
    "query = \"\"\"\n",
    "SELECT admissions.hadm_id AS adm_id, count(diagnoses_icd.icd9_code) AS icd, array_agg(admissions.insurance)[1] AS insurance\n",
    "FROM mimiciii.admissions AS admissions\n",
    "JOIN mimiciii.diagnoses_icd AS diagnoses_icd\n",
    "ON admissions.hadm_id = diagnoses_icd.hadm_id\n",
    "GROUP BY admissions.hadm_id;\n",
    "\"\"\"\n",
    "insur_icd_df = query_aws(query)"
   ]
  },
  {
   "cell_type": "code",
   "execution_count": 70,
   "metadata": {},
   "outputs": [
    {
     "data": {
      "image/png": "[encoded data removed]",
      "text/plain": [
       "<Figure size 432x288 with 1 Axes>"
      ]
     },
     "metadata": {
      "needs_background": "light"
     },
     "output_type": "display_data"
    }
   ],
   "source": [
    "ax = sns.boxplot(x=\"insurance\", y=\"icd\", data=insur_icd_df)\n",
    "ax.set(xlabel=\"Number of ICD9 Codes\",\n",
    "       ylabel=\"Insurance Type\",\n",
    "       title=\"Number of ICD Codes per Admission by Insurance Type\")\n",
    "plt.savefig(os.path.join(imagedir, \"insurance.png\"))\n",
    "plt.show()"
   ]
  },
  {
   "cell_type": "markdown",
   "metadata": {},
   "source": [
    "## Word Cloud"
   ]
  },
  {
   "cell_type": "code",
   "execution_count": 76,
   "metadata": {},
   "outputs": [
    {
     "data": {
      "image/png": "[encoded data removed]",
      "text/plain": [
       "<Figure size 432x288 with 1 Axes>"
      ]
     },
     "metadata": {
      "needs_background": "light"
     },
     "output_type": "display_data"
    }
   ],
   "source": [
    "wordcloud = WordCloud(max_font_size=50, max_words=100, background_color=\"white\").generate(notes[15])\n",
    "plt.figure()\n",
    "plt.imshow(wordcloud, interpolation=\"bilinear\")\n",
    "plt.axis(\"off\")\n",
    "plt.savefig(os.path.join(imagedir, \"wordcloud.png\"))\n",
    "plt.show()"
   ]
  },
  {
   "cell_type": "markdown",
   "metadata": {
    "toc-hr-collapsed": true
   },
   "source": [
    "## Embedding Comparisons"
   ]
  },
  {
   "cell_type": "code",
   "execution_count": 11,
   "metadata": {},
   "outputs": [],
   "source": [
    "from gensim.models import KeyedVectors\n",
    "from transformers import AutoTokenizer, AutoModel"
   ]
  },
  {
   "cell_type": "code",
   "execution_count": 12,
   "metadata": {},
   "outputs": [],
   "source": [
    "# load word2vec\n",
    "w2v_fp = os.path.join(PROJ_DIR, \"data\", \"embeddings\", \n",
    "                      \"GoogleNews-vectors-negative300.bin\")\n",
    "word2vec = KeyedVectors.load_word2vec_format(w2v_fp, binary=True)\n",
    "\n",
    "# load bert\n",
    "bert = AutoModel.from_pretrained(\"emilyalsentzer/Bio_ClinicalBERT\")\n",
    "bert.eval()\n",
    "tokenizer = AutoTokenizer.from_pretrained(\"emilyalsentzer/Bio_ClinicalBERT\")"
   ]
  },
  {
   "cell_type": "code",
   "execution_count": 86,
   "metadata": {},
   "outputs": [],
   "source": [
    "from torch.nn.utils.rnn import pad_sequence"
   ]
  },
  {
   "cell_type": "code",
   "execution_count": 85,
   "metadata": {},
   "outputs": [],
   "source": [
    "T = [torch.tensor(tokenizer.encode(n, add_special_tokens=True)) for n in notes[0:31]]"
   ]
  },
  {
   "cell_type": "code",
   "execution_count": 87,
   "metadata": {},
   "outputs": [],
   "source": [
    "pX = pad_sequence(T)"
   ]
  },
  {
   "cell_type": "code",
   "execution_count": 88,
   "metadata": {},
   "outputs": [],
   "source": [
    "e = bert(pX)"
   ]
  },
  {
   "cell_type": "markdown",
   "metadata": {},
   "source": [
    "<a id=\"resid\"></a>"
   ]
  },
  {
   "cell_type": "markdown",
   "metadata": {
    "toc-hr-collapsed": false
   },
   "source": [
    "# Results"
   ]
  },
  {
   "cell_type": "code",
   "execution_count": 4,
   "metadata": {},
   "outputs": [],
   "source": [
    "import torch\n",
    "import torch.nn as nn\n",
    "from torch.nn.utils.rnn import pad_sequence, pack_padded_sequence\n",
    "from transformers import BertModel"
   ]
  },
  {
   "cell_type": "markdown",
   "metadata": {},
   "source": [
    "## Load Classifiers"
   ]
  },
  {
   "cell_type": "code",
   "execution_count": 2,
   "metadata": {},
   "outputs": [],
   "source": [
    "import joblib\n",
    "from scripts.models import Clf, Lstm\n",
    "from sklearn.base import BaseEstimator\n",
    "from sklearn.metrics import (f1_score, precision_score, recall_score,\n",
    "                             classification_report)\n",
    "from scripts.evaluation import ml_accuracy, probs_to_preds"
   ]
  },
  {
   "cell_type": "code",
   "execution_count": 14,
   "metadata": {},
   "outputs": [],
   "source": [
    "def predict(model, X: List[List[int]], threshold: float = 0.5) -> np.ndarray:\n",
    "    \"\"\"Give predictions for the given data.\"\"\"\n",
    "    probs = model(X)\n",
    "    pos = torch.where(probs < threshold, probs, torch.ones(*probs.shape))\n",
    "    neg = torch.where(pos > threshold, pos, torch.zeros(*probs.shape))\n",
    "    preds = neg.long().numpy()\n",
    "    return preds\n",
    "\n",
    "def predict_proba(model, X: List[List[int]]) -> np.ndarray:\n",
    "    \"\"\"Get probabilities for the given data.\"\"\"\n",
    "    return model(X).detach().numpy()"
   ]
  },
  {
   "cell_type": "code",
   "execution_count": 21,
   "metadata": {},
   "outputs": [],
   "source": [
    "# load base classifiers\n",
    "clf_fns = [\"LogisticRegression.sk\", \"RandomForest.sk\", \"MLP.sk\"]\n",
    "clfs = [Clf(joblib.load(os.path.join(modeldir, fn)), fn.split(\".\")[0]) \n",
    "        for fn in clf_fns]"
   ]
  },
  {
   "cell_type": "code",
   "execution_count": 22,
   "metadata": {},
   "outputs": [],
   "source": [
    "# get predictionss for each clf\n",
    "for clf in clfs:\n",
    "    clf.set_preds(test_df[\"d2v\"].tolist())\n",
    "    clf.set_probs(test_df[\"d2v\"].tolist())"
   ]
  },
  {
   "cell_type": "code",
   "execution_count": 13,
   "metadata": {},
   "outputs": [
    {
     "data": {
      "text/plain": [
       "Lstm(\n",
       "  (embeddings): Embedding(3000000, 300)\n",
       "  (lstm): LSTM(300, 128)\n",
       "  (hidden2code): Linear(in_features=128, out_features=16, bias=True)\n",
       ")"
      ]
     },
     "execution_count": 13,
     "metadata": {},
     "output_type": "execute_result"
    }
   ],
   "source": [
    "# load lstms\n",
    "lstm_w2v_fn = \"Lstm_w2v1.pt\"\n",
    "lstm_w2v = Lstm(torch.tensor(word2vec.vectors))\n",
    "lstm_w2v.load_state_dict(torch.load(os.path.join(modeldir, lstm_w2v_fn)))\n",
    "lstm_w2v.eval()"
   ]
  },
  {
   "cell_type": "code",
   "execution_count": 48,
   "metadata": {},
   "outputs": [
    {
     "name": "stderr",
     "output_type": "stream",
     "text": [
      "100%|██████████| 15000/15000 [04:08<00:00, 60.29it/s]\n"
     ]
    }
   ],
   "source": [
    "preds = []\n",
    "for x in tqdm.tqdm(test_df[\"w2v_idx\"].tolist()):\n",
    "    preds.append(predict(lstm_w2v, [x]))"
   ]
  },
  {
   "cell_type": "code",
   "execution_count": 77,
   "metadata": {},
   "outputs": [
    {
     "name": "stderr",
     "output_type": "stream",
     "text": [
      "100%|██████████| 15000/15000 [04:09<00:00, 60.05it/s]\n"
     ]
    }
   ],
   "source": [
    "probs = []\n",
    "for x in tqdm.tqdm(test_df[\"w2v_idx\"].tolist()):\n",
    "    probs.append(predict_proba(lstm_w2v, [x]))"
   ]
  },
  {
   "cell_type": "code",
   "execution_count": 79,
   "metadata": {},
   "outputs": [],
   "source": [
    "clf = Clf(lstm_w2v, \"Lstm_w2v\")\n",
    "clf.preds = preds\n",
    "clf.probs = probs\n",
    "clfs.append(clf)"
   ]
  },
  {
   "cell_type": "markdown",
   "metadata": {},
   "source": [
    "## Performance Results"
   ]
  },
  {
   "cell_type": "code",
   "execution_count": 89,
   "metadata": {},
   "outputs": [],
   "source": [
    "# get performance data\n",
    "f1s = [f1_score(Y_test, clf.preds, average=\"weighted\", zero_division=1) for clf in clfs]\n",
    "precs = [precision_score(Y_test, clf.preds, average=\"weighted\", zero_division=1) for clf in clfs]\n",
    "recs = [recall_score(Y_test, clf.preds, average=\"weighted\", zero_division=1) for clf in clfs]\n",
    "metrics = f1s + precs + recs\n",
    "met_labels = [\"F1 Score\"] * len(clfs)+ [\"Precision\"] * len(clfs) + [\"Recall\"] * len(clfs)\n",
    "clf_names = [clf.name for clf in clfs] * 3"
   ]
  },
  {
   "cell_type": "code",
   "execution_count": 90,
   "metadata": {},
   "outputs": [
    {
     "data": {
      "image/png": "[encoded data removed]",
      "text/plain": [
       "<Figure size 432x288 with 1 Axes>"
      ]
     },
     "metadata": {
      "needs_background": "light"
     },
     "output_type": "display_data"
    }
   ],
   "source": [
    "ax = sns.barplot(x=clf_names, y=metrics, hue=met_labels)\n",
    "ax.set_ylim([0, 1])\n",
    "ax.set(title=\"Model Performance Comparison\")\n",
    "plt.savefig(\"data/images/model_comparison.png\")\n",
    "plt.show()"
   ]
  },
  {
   "cell_type": "markdown",
   "metadata": {},
   "source": [
    "## Classification Reports"
   ]
  },
  {
   "cell_type": "code",
   "execution_count": 91,
   "metadata": {},
   "outputs": [],
   "source": [
    "class_reports = {clf.name: classification_report(Y_test, clf.preds, target_names=class_names, \n",
    "                                             zero_division=1, output_dict=True)\n",
    "                 for clf in clfs}\n",
    "crep_dfs = {name: pd.DataFrame(crep).T for name, crep in class_reports.items()}\n",
    "crep_df = pd.concat(crep_dfs, axis=1)"
   ]
  },
  {
   "cell_type": "code",
   "execution_count": 92,
   "metadata": {},
   "outputs": [
    {
     "data": {
      "text/html": [
       "<div>\n",
       "<style scoped>\n",
       "    .dataframe tbody tr th:only-of-type {\n",
       "        vertical-align: middle;\n",
       "    }\n",
       "\n",
       "    .dataframe tbody tr th {\n",
       "        vertical-align: top;\n",
       "    }\n",
       "\n",
       "    .dataframe thead tr th {\n",
       "        text-align: left;\n",
       "    }\n",
       "</style>\n",
       "<table border=\"1\" class=\"dataframe\">\n",
       "  <thead>\n",
       "    <tr>\n",
       "      <th></th>\n",
       "      <th colspan=\"4\" halign=\"left\">LogisticRegression</th>\n",
       "      <th colspan=\"4\" halign=\"left\">Lstm_w2v</th>\n",
       "      <th colspan=\"4\" halign=\"left\">MLP</th>\n",
       "      <th colspan=\"4\" halign=\"left\">RandomForest</th>\n",
       "    </tr>\n",
       "    <tr>\n",
       "      <th></th>\n",
       "      <th>f1-score</th>\n",
       "      <th>precision</th>\n",
       "      <th>recall</th>\n",
       "      <th>support</th>\n",
       "      <th>f1-score</th>\n",
       "      <th>precision</th>\n",
       "      <th>recall</th>\n",
       "      <th>support</th>\n",
       "      <th>f1-score</th>\n",
       "      <th>precision</th>\n",
       "      <th>recall</th>\n",
       "      <th>support</th>\n",
       "      <th>f1-score</th>\n",
       "      <th>precision</th>\n",
       "      <th>recall</th>\n",
       "      <th>support</th>\n",
       "    </tr>\n",
       "  </thead>\n",
       "  <tbody>\n",
       "    <tr>\n",
       "      <th>001-139</th>\n",
       "      <td>0.482014</td>\n",
       "      <td>0.626559</td>\n",
       "      <td>0.391660</td>\n",
       "      <td>5132.0</td>\n",
       "      <td>0.159748</td>\n",
       "      <td>0.540449</td>\n",
       "      <td>0.093726</td>\n",
       "      <td>5132.0</td>\n",
       "      <td>0.419342</td>\n",
       "      <td>0.662737</td>\n",
       "      <td>0.306703</td>\n",
       "      <td>5132.0</td>\n",
       "      <td>0.422949</td>\n",
       "      <td>0.670758</td>\n",
       "      <td>0.308846</td>\n",
       "      <td>5132.0</td>\n",
       "    </tr>\n",
       "    <tr>\n",
       "      <th>140-239</th>\n",
       "      <td>0.061664</td>\n",
       "      <td>0.757143</td>\n",
       "      <td>0.032141</td>\n",
       "      <td>1649.0</td>\n",
       "      <td>0.000000</td>\n",
       "      <td>1.000000</td>\n",
       "      <td>0.000000</td>\n",
       "      <td>1649.0</td>\n",
       "      <td>0.000000</td>\n",
       "      <td>1.000000</td>\n",
       "      <td>0.000000</td>\n",
       "      <td>1649.0</td>\n",
       "      <td>0.028520</td>\n",
       "      <td>0.705882</td>\n",
       "      <td>0.014554</td>\n",
       "      <td>1649.0</td>\n",
       "    </tr>\n",
       "    <tr>\n",
       "      <th>240-279</th>\n",
       "      <td>0.747290</td>\n",
       "      <td>0.665605</td>\n",
       "      <td>0.851828</td>\n",
       "      <td>7606.0</td>\n",
       "      <td>0.766350</td>\n",
       "      <td>0.647331</td>\n",
       "      <td>0.938996</td>\n",
       "      <td>7606.0</td>\n",
       "      <td>0.765780</td>\n",
       "      <td>0.651276</td>\n",
       "      <td>0.929135</td>\n",
       "      <td>7606.0</td>\n",
       "      <td>0.743214</td>\n",
       "      <td>0.677863</td>\n",
       "      <td>0.822509</td>\n",
       "      <td>7606.0</td>\n",
       "    </tr>\n",
       "    <tr>\n",
       "      <th>290-319</th>\n",
       "      <td>0.062518</td>\n",
       "      <td>0.516588</td>\n",
       "      <td>0.033272</td>\n",
       "      <td>3276.0</td>\n",
       "      <td>0.000000</td>\n",
       "      <td>1.000000</td>\n",
       "      <td>0.000000</td>\n",
       "      <td>3276.0</td>\n",
       "      <td>0.009042</td>\n",
       "      <td>0.357143</td>\n",
       "      <td>0.004579</td>\n",
       "      <td>3276.0</td>\n",
       "      <td>0.065698</td>\n",
       "      <td>0.689024</td>\n",
       "      <td>0.034493</td>\n",
       "      <td>3276.0</td>\n",
       "    </tr>\n",
       "    <tr>\n",
       "      <th>320-389</th>\n",
       "      <td>0.119231</td>\n",
       "      <td>0.522766</td>\n",
       "      <td>0.067289</td>\n",
       "      <td>4607.0</td>\n",
       "      <td>0.000000</td>\n",
       "      <td>1.000000</td>\n",
       "      <td>0.000000</td>\n",
       "      <td>4607.0</td>\n",
       "      <td>0.016201</td>\n",
       "      <td>0.452381</td>\n",
       "      <td>0.008248</td>\n",
       "      <td>4607.0</td>\n",
       "      <td>0.173524</td>\n",
       "      <td>0.609948</td>\n",
       "      <td>0.101150</td>\n",
       "      <td>4607.0</td>\n",
       "    </tr>\n",
       "    <tr>\n",
       "      <th>390-459</th>\n",
       "      <td>0.897409</td>\n",
       "      <td>0.840118</td>\n",
       "      <td>0.963085</td>\n",
       "      <td>10050.0</td>\n",
       "      <td>0.898871</td>\n",
       "      <td>0.839962</td>\n",
       "      <td>0.966667</td>\n",
       "      <td>10050.0</td>\n",
       "      <td>0.900535</td>\n",
       "      <td>0.845308</td>\n",
       "      <td>0.963483</td>\n",
       "      <td>10050.0</td>\n",
       "      <td>0.894023</td>\n",
       "      <td>0.833161</td>\n",
       "      <td>0.964478</td>\n",
       "      <td>10050.0</td>\n",
       "    </tr>\n",
       "    <tr>\n",
       "      <th>460-519</th>\n",
       "      <td>0.787083</td>\n",
       "      <td>0.730631</td>\n",
       "      <td>0.852988</td>\n",
       "      <td>8115.0</td>\n",
       "      <td>0.790140</td>\n",
       "      <td>0.680402</td>\n",
       "      <td>0.942083</td>\n",
       "      <td>8115.0</td>\n",
       "      <td>0.754017</td>\n",
       "      <td>0.784497</td>\n",
       "      <td>0.725816</td>\n",
       "      <td>8115.0</td>\n",
       "      <td>0.788375</td>\n",
       "      <td>0.723658</td>\n",
       "      <td>0.865804</td>\n",
       "      <td>8115.0</td>\n",
       "    </tr>\n",
       "    <tr>\n",
       "      <th>520-579</th>\n",
       "      <td>0.484314</td>\n",
       "      <td>0.615959</td>\n",
       "      <td>0.399032</td>\n",
       "      <td>5784.0</td>\n",
       "      <td>0.255832</td>\n",
       "      <td>0.548295</td>\n",
       "      <td>0.166840</td>\n",
       "      <td>5784.0</td>\n",
       "      <td>0.434725</td>\n",
       "      <td>0.604558</td>\n",
       "      <td>0.339385</td>\n",
       "      <td>5784.0</td>\n",
       "      <td>0.444220</td>\n",
       "      <td>0.631898</td>\n",
       "      <td>0.342497</td>\n",
       "      <td>5784.0</td>\n",
       "    </tr>\n",
       "    <tr>\n",
       "      <th>580-629</th>\n",
       "      <td>0.653559</td>\n",
       "      <td>0.629736</td>\n",
       "      <td>0.679254</td>\n",
       "      <td>6435.0</td>\n",
       "      <td>0.670921</td>\n",
       "      <td>0.565329</td>\n",
       "      <td>0.825019</td>\n",
       "      <td>6435.0</td>\n",
       "      <td>0.632984</td>\n",
       "      <td>0.632248</td>\n",
       "      <td>0.633722</td>\n",
       "      <td>6435.0</td>\n",
       "      <td>0.632328</td>\n",
       "      <td>0.651450</td>\n",
       "      <td>0.614297</td>\n",
       "      <td>6435.0</td>\n",
       "    </tr>\n",
       "    <tr>\n",
       "      <th>630-679</th>\n",
       "      <td>0.000000</td>\n",
       "      <td>1.000000</td>\n",
       "      <td>0.000000</td>\n",
       "      <td>1.0</td>\n",
       "      <td>0.000000</td>\n",
       "      <td>1.000000</td>\n",
       "      <td>0.000000</td>\n",
       "      <td>1.0</td>\n",
       "      <td>0.000000</td>\n",
       "      <td>1.000000</td>\n",
       "      <td>0.000000</td>\n",
       "      <td>1.0</td>\n",
       "      <td>0.000000</td>\n",
       "      <td>1.000000</td>\n",
       "      <td>0.000000</td>\n",
       "      <td>1.0</td>\n",
       "    </tr>\n",
       "    <tr>\n",
       "      <th>680-709</th>\n",
       "      <td>0.007916</td>\n",
       "      <td>0.529412</td>\n",
       "      <td>0.003988</td>\n",
       "      <td>2257.0</td>\n",
       "      <td>0.000000</td>\n",
       "      <td>1.000000</td>\n",
       "      <td>0.000000</td>\n",
       "      <td>2257.0</td>\n",
       "      <td>0.005277</td>\n",
       "      <td>0.352941</td>\n",
       "      <td>0.002658</td>\n",
       "      <td>2257.0</td>\n",
       "      <td>0.008787</td>\n",
       "      <td>0.526316</td>\n",
       "      <td>0.004431</td>\n",
       "      <td>2257.0</td>\n",
       "    </tr>\n",
       "    <tr>\n",
       "      <th>710-739</th>\n",
       "      <td>0.008193</td>\n",
       "      <td>0.320000</td>\n",
       "      <td>0.004149</td>\n",
       "      <td>1928.0</td>\n",
       "      <td>0.000000</td>\n",
       "      <td>1.000000</td>\n",
       "      <td>0.000000</td>\n",
       "      <td>1928.0</td>\n",
       "      <td>0.000000</td>\n",
       "      <td>0.000000</td>\n",
       "      <td>0.000000</td>\n",
       "      <td>1928.0</td>\n",
       "      <td>0.007191</td>\n",
       "      <td>0.368421</td>\n",
       "      <td>0.003631</td>\n",
       "      <td>1928.0</td>\n",
       "    </tr>\n",
       "    <tr>\n",
       "      <th>760-779</th>\n",
       "      <td>0.931186</td>\n",
       "      <td>0.957214</td>\n",
       "      <td>0.906537</td>\n",
       "      <td>3381.0</td>\n",
       "      <td>0.945688</td>\n",
       "      <td>0.954231</td>\n",
       "      <td>0.937297</td>\n",
       "      <td>3381.0</td>\n",
       "      <td>0.951055</td>\n",
       "      <td>0.942492</td>\n",
       "      <td>0.959775</td>\n",
       "      <td>3381.0</td>\n",
       "      <td>0.915143</td>\n",
       "      <td>0.970179</td>\n",
       "      <td>0.866016</td>\n",
       "      <td>3381.0</td>\n",
       "    </tr>\n",
       "    <tr>\n",
       "      <th>780-799</th>\n",
       "      <td>0.520266</td>\n",
       "      <td>0.607055</td>\n",
       "      <td>0.455189</td>\n",
       "      <td>5936.0</td>\n",
       "      <td>0.390751</td>\n",
       "      <td>0.569127</td>\n",
       "      <td>0.297507</td>\n",
       "      <td>5936.0</td>\n",
       "      <td>0.514468</td>\n",
       "      <td>0.627760</td>\n",
       "      <td>0.435815</td>\n",
       "      <td>5936.0</td>\n",
       "      <td>0.494229</td>\n",
       "      <td>0.636412</td>\n",
       "      <td>0.403976</td>\n",
       "      <td>5936.0</td>\n",
       "    </tr>\n",
       "    <tr>\n",
       "      <th>800-999</th>\n",
       "      <td>0.658786</td>\n",
       "      <td>0.621687</td>\n",
       "      <td>0.700594</td>\n",
       "      <td>6563.0</td>\n",
       "      <td>0.674256</td>\n",
       "      <td>0.561436</td>\n",
       "      <td>0.843821</td>\n",
       "      <td>6563.0</td>\n",
       "      <td>0.652676</td>\n",
       "      <td>0.627443</td>\n",
       "      <td>0.680024</td>\n",
       "      <td>6563.0</td>\n",
       "      <td>0.643206</td>\n",
       "      <td>0.634947</td>\n",
       "      <td>0.651684</td>\n",
       "      <td>6563.0</td>\n",
       "    </tr>\n",
       "    <tr>\n",
       "      <th>V01-V91</th>\n",
       "      <td>0.693785</td>\n",
       "      <td>0.639446</td>\n",
       "      <td>0.758217</td>\n",
       "      <td>8458.0</td>\n",
       "      <td>0.662132</td>\n",
       "      <td>0.576974</td>\n",
       "      <td>0.776779</td>\n",
       "      <td>8458.0</td>\n",
       "      <td>0.718414</td>\n",
       "      <td>0.608892</td>\n",
       "      <td>0.875975</td>\n",
       "      <td>8458.0</td>\n",
       "      <td>0.701917</td>\n",
       "      <td>0.644453</td>\n",
       "      <td>0.770631</td>\n",
       "      <td>8458.0</td>\n",
       "    </tr>\n",
       "    <tr>\n",
       "      <th>micro avg</th>\n",
       "      <td>0.646073</td>\n",
       "      <td>0.694374</td>\n",
       "      <td>0.604055</td>\n",
       "      <td>81178.0</td>\n",
       "      <td>0.624317</td>\n",
       "      <td>0.656687</td>\n",
       "      <td>0.594989</td>\n",
       "      <td>81178.0</td>\n",
       "      <td>0.640014</td>\n",
       "      <td>0.697176</td>\n",
       "      <td>0.591515</td>\n",
       "      <td>81178.0</td>\n",
       "      <td>0.638518</td>\n",
       "      <td>0.707386</td>\n",
       "      <td>0.581869</td>\n",
       "      <td>81178.0</td>\n",
       "    </tr>\n",
       "    <tr>\n",
       "      <th>macro avg</th>\n",
       "      <td>0.444701</td>\n",
       "      <td>0.661245</td>\n",
       "      <td>0.443701</td>\n",
       "      <td>81178.0</td>\n",
       "      <td>0.388418</td>\n",
       "      <td>0.780221</td>\n",
       "      <td>0.424296</td>\n",
       "      <td>81178.0</td>\n",
       "      <td>0.423407</td>\n",
       "      <td>0.634355</td>\n",
       "      <td>0.429082</td>\n",
       "      <td>81178.0</td>\n",
       "      <td>0.435208</td>\n",
       "      <td>0.685898</td>\n",
       "      <td>0.423062</td>\n",
       "      <td>81178.0</td>\n",
       "    </tr>\n",
       "    <tr>\n",
       "      <th>weighted avg</th>\n",
       "      <td>0.589918</td>\n",
       "      <td>0.662198</td>\n",
       "      <td>0.604055</td>\n",
       "      <td>81178.0</td>\n",
       "      <td>0.535043</td>\n",
       "      <td>0.706556</td>\n",
       "      <td>0.594989</td>\n",
       "      <td>81178.0</td>\n",
       "      <td>0.572556</td>\n",
       "      <td>0.648737</td>\n",
       "      <td>0.591515</td>\n",
       "      <td>81178.0</td>\n",
       "      <td>0.580525</td>\n",
       "      <td>0.683649</td>\n",
       "      <td>0.581869</td>\n",
       "      <td>81178.0</td>\n",
       "    </tr>\n",
       "    <tr>\n",
       "      <th>samples avg</th>\n",
       "      <td>0.633812</td>\n",
       "      <td>0.716186</td>\n",
       "      <td>0.632514</td>\n",
       "      <td>81178.0</td>\n",
       "      <td>0.627256</td>\n",
       "      <td>0.682090</td>\n",
       "      <td>0.637963</td>\n",
       "      <td>81178.0</td>\n",
       "      <td>0.629854</td>\n",
       "      <td>0.714509</td>\n",
       "      <td>0.619924</td>\n",
       "      <td>81178.0</td>\n",
       "      <td>0.623691</td>\n",
       "      <td>0.720869</td>\n",
       "      <td>0.607721</td>\n",
       "      <td>81178.0</td>\n",
       "    </tr>\n",
       "  </tbody>\n",
       "</table>\n",
       "</div>"
      ],
      "text/plain": [
       "             LogisticRegression                               Lstm_w2v  \\\n",
       "                       f1-score precision    recall  support  f1-score   \n",
       "001-139       0.482014           0.626559  0.391660  5132.0   0.159748   \n",
       "140-239       0.061664           0.757143  0.032141  1649.0   0.000000   \n",
       "240-279       0.747290           0.665605  0.851828  7606.0   0.766350   \n",
       "290-319       0.062518           0.516588  0.033272  3276.0   0.000000   \n",
       "320-389       0.119231           0.522766  0.067289  4607.0   0.000000   \n",
       "390-459       0.897409           0.840118  0.963085  10050.0  0.898871   \n",
       "460-519       0.787083           0.730631  0.852988  8115.0   0.790140   \n",
       "520-579       0.484314           0.615959  0.399032  5784.0   0.255832   \n",
       "580-629       0.653559           0.629736  0.679254  6435.0   0.670921   \n",
       "630-679       0.000000           1.000000  0.000000  1.0      0.000000   \n",
       "680-709       0.007916           0.529412  0.003988  2257.0   0.000000   \n",
       "710-739       0.008193           0.320000  0.004149  1928.0   0.000000   \n",
       "760-779       0.931186           0.957214  0.906537  3381.0   0.945688   \n",
       "780-799       0.520266           0.607055  0.455189  5936.0   0.390751   \n",
       "800-999       0.658786           0.621687  0.700594  6563.0   0.674256   \n",
       "V01-V91       0.693785           0.639446  0.758217  8458.0   0.662132   \n",
       "micro avg     0.646073           0.694374  0.604055  81178.0  0.624317   \n",
       "macro avg     0.444701           0.661245  0.443701  81178.0  0.388418   \n",
       "weighted avg  0.589918           0.662198  0.604055  81178.0  0.535043   \n",
       "samples avg   0.633812           0.716186  0.632514  81178.0  0.627256   \n",
       "\n",
       "                                                MLP                      \\\n",
       "             precision    recall  support  f1-score precision    recall   \n",
       "001-139       0.540449  0.093726  5132.0   0.419342  0.662737  0.306703   \n",
       "140-239       1.000000  0.000000  1649.0   0.000000  1.000000  0.000000   \n",
       "240-279       0.647331  0.938996  7606.0   0.765780  0.651276  0.929135   \n",
       "290-319       1.000000  0.000000  3276.0   0.009042  0.357143  0.004579   \n",
       "320-389       1.000000  0.000000  4607.0   0.016201  0.452381  0.008248   \n",
       "390-459       0.839962  0.966667  10050.0  0.900535  0.845308  0.963483   \n",
       "460-519       0.680402  0.942083  8115.0   0.754017  0.784497  0.725816   \n",
       "520-579       0.548295  0.166840  5784.0   0.434725  0.604558  0.339385   \n",
       "580-629       0.565329  0.825019  6435.0   0.632984  0.632248  0.633722   \n",
       "630-679       1.000000  0.000000  1.0      0.000000  1.000000  0.000000   \n",
       "680-709       1.000000  0.000000  2257.0   0.005277  0.352941  0.002658   \n",
       "710-739       1.000000  0.000000  1928.0   0.000000  0.000000  0.000000   \n",
       "760-779       0.954231  0.937297  3381.0   0.951055  0.942492  0.959775   \n",
       "780-799       0.569127  0.297507  5936.0   0.514468  0.627760  0.435815   \n",
       "800-999       0.561436  0.843821  6563.0   0.652676  0.627443  0.680024   \n",
       "V01-V91       0.576974  0.776779  8458.0   0.718414  0.608892  0.875975   \n",
       "micro avg     0.656687  0.594989  81178.0  0.640014  0.697176  0.591515   \n",
       "macro avg     0.780221  0.424296  81178.0  0.423407  0.634355  0.429082   \n",
       "weighted avg  0.706556  0.594989  81178.0  0.572556  0.648737  0.591515   \n",
       "samples avg   0.682090  0.637963  81178.0  0.629854  0.714509  0.619924   \n",
       "\n",
       "                      RandomForest                               \n",
       "              support     f1-score precision    recall  support  \n",
       "001-139       5132.0   0.422949     0.670758  0.308846  5132.0   \n",
       "140-239       1649.0   0.028520     0.705882  0.014554  1649.0   \n",
       "240-279       7606.0   0.743214     0.677863  0.822509  7606.0   \n",
       "290-319       3276.0   0.065698     0.689024  0.034493  3276.0   \n",
       "320-389       4607.0   0.173524     0.609948  0.101150  4607.0   \n",
       "390-459       10050.0  0.894023     0.833161  0.964478  10050.0  \n",
       "460-519       8115.0   0.788375     0.723658  0.865804  8115.0   \n",
       "520-579       5784.0   0.444220     0.631898  0.342497  5784.0   \n",
       "580-629       6435.0   0.632328     0.651450  0.614297  6435.0   \n",
       "630-679       1.0      0.000000     1.000000  0.000000  1.0      \n",
       "680-709       2257.0   0.008787     0.526316  0.004431  2257.0   \n",
       "710-739       1928.0   0.007191     0.368421  0.003631  1928.0   \n",
       "760-779       3381.0   0.915143     0.970179  0.866016  3381.0   \n",
       "780-799       5936.0   0.494229     0.636412  0.403976  5936.0   \n",
       "800-999       6563.0   0.643206     0.634947  0.651684  6563.0   \n",
       "V01-V91       8458.0   0.701917     0.644453  0.770631  8458.0   \n",
       "micro avg     81178.0  0.638518     0.707386  0.581869  81178.0  \n",
       "macro avg     81178.0  0.435208     0.685898  0.423062  81178.0  \n",
       "weighted avg  81178.0  0.580525     0.683649  0.581869  81178.0  \n",
       "samples avg   81178.0  0.623691     0.720869  0.607721  81178.0  "
      ]
     },
     "execution_count": 92,
     "metadata": {},
     "output_type": "execute_result"
    }
   ],
   "source": [
    "crep_df"
   ]
  },
  {
   "cell_type": "markdown",
   "metadata": {},
   "source": [
    "## Probability Distributions"
   ]
  },
  {
   "cell_type": "code",
   "execution_count": 95,
   "metadata": {},
   "outputs": [
    {
     "data": {
      "image/png": "[encoded data removed]",
      "text/plain": [
       "<Figure size 720x360 with 4 Axes>"
      ]
     },
     "metadata": {
      "needs_background": "light"
     },
     "output_type": "display_data"
    }
   ],
   "source": [
    "fig, axs = plt.subplots(1, len(clfs), sharey=\"all\", sharex=\"all\")\n",
    "for ax, clf in zip(axs, clfs):\n",
    "    ax.hist(np.array(clf.probs).flatten())\n",
    "    ax.set(title=clf.name)\n",
    "fig.set_size_inches(10, 5)\n",
    "fig.suptitle(\"Predicted Probability Distributions\")\n",
    "plt.savefig(\"data/images/prob_dists.png\")\n",
    "plt.show()"
   ]
  },
  {
   "cell_type": "markdown",
   "metadata": {},
   "source": [
    "## Precision/Recall Curves"
   ]
  },
  {
   "cell_type": "code",
   "execution_count": 96,
   "metadata": {},
   "outputs": [],
   "source": [
    "def pr_curve(clf_name, probs, y_true, thresholds):\n",
    "    \"\"\"\n",
    "    Generate precision/recall curve data for a given classifier.\n",
    "\n",
    "    Implementation is custom because sklearn doesn't\n",
    "    support multilabel classification for pr curve.\n",
    "    \"\"\"\n",
    "    precs = []\n",
    "    recs = []\n",
    "    for thresh in tqdm.tqdm(thresholds):\n",
    "        preds = probs_to_preds(probs, thresh)\n",
    "        precs.append(precision_score(y_true, preds, average=\"weighted\", zero_division=1))\n",
    "        recs.append(recall_score(y_true, preds, average=\"weighted\", zero_division=1))\n",
    "    data = {\"Classifier\": [clf_name] * len(thresholds),\n",
    "            \"Precision\": precs, \n",
    "            \"Recall\": recs, \n",
    "            \"Threshold\": thresholds}\n",
    "    return pd.DataFrame(data)"
   ]
  },
  {
   "cell_type": "code",
   "execution_count": 97,
   "metadata": {},
   "outputs": [
    {
     "name": "stderr",
     "output_type": "stream",
     "text": [
      "100%|██████████| 10/10 [00:04<00:00,  2.01it/s]\n",
      "100%|██████████| 10/10 [00:04<00:00,  2.04it/s]\n",
      "100%|██████████| 10/10 [00:04<00:00,  2.05it/s]\n",
      "100%|██████████| 10/10 [00:19<00:00,  1.94s/it]\n"
     ]
    }
   ],
   "source": [
    "# extract precision/recall data across thresholds\n",
    "thresholds = np.linspace(0, 1, 10)\n",
    "pr_dfs = [pr_curve(clf.name, clf.probs, Y_test, thresholds) for clf in clfs]\n",
    "pr_df = pd.concat(pr_dfs)"
   ]
  },
  {
   "cell_type": "code",
   "execution_count": 98,
   "metadata": {},
   "outputs": [
    {
     "data": {
      "image/png": "[encoded data removed]",
      "text/plain": [
       "<Figure size 432x288 with 1 Axes>"
      ]
     },
     "metadata": {
      "needs_background": "light"
     },
     "output_type": "display_data"
    }
   ],
   "source": [
    "# plot precision recall curve for each classifier\n",
    "ax = sns.lineplot(x=\"Recall\", y=\"Precision\", hue=\"Classifier\", data=pr_df)\n",
    "ax.set_ylim([0.5, 1])\n",
    "ax.set_xlim([0, 1])\n",
    "ax.set(title=\"Precision Recall Curve\")\n",
    "plt.savefig(\"data/images/prec_rec.png\")\n",
    "plt.show()"
   ]
  }
 ],
 "metadata": {
  "kernelspec": {
   "display_name": "Python 3",
   "language": "python",
   "name": "python3"
  },
  "language_info": {
   "codemirror_mode": {
    "name": "ipython",
    "version": 3
   },
   "file_extension": ".py",
   "mimetype": "text/x-python",
   "name": "python",
   "nbconvert_exporter": "python",
   "pygments_lexer": "ipython3",
   "version": "3.7.5"
  }
 },
 "nbformat": 4,
 "nbformat_minor": 4
}
